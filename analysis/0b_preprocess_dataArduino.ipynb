{
 "cells": [
  {
   "cell_type": "markdown",
   "metadata": {},
   "source": [
    "# Summary:\n",
    "This is just a histogram of the previous old `dataArduino`'s sampling rate, as defined by the difference between MATLAB times between every two consecutive samples.\n",
    "\n",
    "This `dataArduino` only adds samples in between running sections of the main MATLAB ToneDiscriminationV3_GF.m code throughout a single trial, leading to very uneven sampling, and it also sends several other bytes of irrelevant information each time (e.g. empty left and right lickspout detection data) which further slows it down."
   ]
  },
  {
   "cell_type": "markdown",
   "metadata": {},
   "source": [
    "### imports"
   ]
  },
  {
   "cell_type": "code",
   "execution_count": 1,
   "metadata": {},
   "outputs": [],
   "source": [
    "from scipy import io\n",
    "import numpy as np\n",
    "import matplotlib.pyplot as plt\n",
    "import statistics\n",
    "import re\n",
    "import glob\n",
    "\n",
    "# https://docs.scipy.org/doc/scipy/reference/generated/scipy.signal.lombscargle.html\n",
    "import scipy.signal as signal\n",
    "\n",
    "# interpolation because ARDUINO data is spaced unevenly\n",
    "import scipy.interpolate as interpolate\n",
    "\n",
    "# save data\n",
    "import pickle"
   ]
  },
  {
   "cell_type": "markdown",
   "metadata": {},
   "source": [
    "### set `folder_name`"
   ]
  },
  {
   "cell_type": "code",
   "execution_count": 8,
   "metadata": {},
   "outputs": [],
   "source": [
    "# for all .mat files in this folder starting with \"ToneDisc_ANChandler_p1_\" in their name\n",
    "folder_name = './Data/Chandler/Phase1/ToneDisc_ANChandler_p1_'"
   ]
  },
  {
   "cell_type": "markdown",
   "metadata": {},
   "source": [
    "### sort through relevant .mat files found in folder by day (\"_d#\")"
   ]
  },
  {
   "cell_type": "code",
   "execution_count": 10,
   "metadata": {},
   "outputs": [
    {
     "data": {
      "text/plain": [
       "['./Data/Chandler/Phase1/ToneDisc_ANChandler_p1_d1.mat',\n",
       " './Data/Chandler/Phase1/ToneDisc_ANChandler_p1_d2.mat',\n",
       " './Data/Chandler/Phase1/ToneDisc_ANChandler_p1_d3.mat',\n",
       " './Data/Chandler/Phase1/ToneDisc_ANChandler_p1_d4.mat',\n",
       " './Data/Chandler/Phase1/ToneDisc_ANChandler_p1_d5.mat',\n",
       " './Data/Chandler/Phase1/ToneDisc_ANChandler_p1_d6.mat',\n",
       " './Data/Chandler/Phase1/ToneDisc_ANChandler_p1_d7.mat',\n",
       " './Data/Chandler/Phase1/ToneDisc_ANChandler_p1_d8.mat',\n",
       " './Data/Chandler/Phase1/ToneDisc_ANChandler_p1_d9.mat',\n",
       " './Data/Chandler/Phase1/ToneDisc_ANChandler_p1_d10.mat',\n",
       " './Data/Chandler/Phase1/ToneDisc_ANChandler_p1_d11.mat',\n",
       " './Data/Chandler/Phase1/ToneDisc_ANChandler_p1_d12.mat',\n",
       " './Data/Chandler/Phase1/ToneDisc_ANChandler_p1_d13.mat',\n",
       " './Data/Chandler/Phase1/ToneDisc_ANChandler_p1_d14.mat']"
      ]
     },
     "execution_count": 10,
     "metadata": {},
     "output_type": "execute_result"
    }
   ],
   "source": [
    "unsorted_mat_files = glob.glob(folder_name+'*.mat')\n",
    "sorted_mat_files = sorted(unsorted_mat_files, key=lambda x: int(re.search(r'\\d+.mat$',x).group()[:-4]))\n",
    "sorted_mat_files"
   ]
  },
  {
   "cell_type": "markdown",
   "metadata": {},
   "source": [
    "### load `data` from .mat file and split into `params` and `response`"
   ]
  },
  {
   "cell_type": "code",
   "execution_count": 15,
   "metadata": {},
   "outputs": [],
   "source": [
    "mat_dict = io.loadmat(sorted_mat_files[0])\n",
    "\n",
    "data = mat_dict['data'][0][0]\n",
    "params = data[0][0][0]\n",
    "response = data[1][0][0]"
   ]
  },
  {
   "cell_type": "markdown",
   "metadata": {},
   "source": [
    "### get `dataArduino` (ARDUINO data)"
   ]
  },
  {
   "cell_type": "code",
   "execution_count": 16,
   "metadata": {},
   "outputs": [
    {
     "name": "stdout",
     "output_type": "stream",
     "text": [
      "dataArduino shape: (229399, 7)\n"
     ]
    }
   ],
   "source": [
    "dataArduino = response[0]\n",
    "print(\"dataArduino shape: \"+str(dataArduino.shape))"
   ]
  },
  {
   "cell_type": "markdown",
   "metadata": {},
   "source": [
    "### Look at sampling rate and plot a histogram of the sampling rate across the entire `dataArduino`"
   ]
  },
  {
   "cell_type": "code",
   "execution_count": 17,
   "metadata": {},
   "outputs": [],
   "source": [
    "dts = []\n",
    "old_arduino_t = dataArduino[0, 0]\n",
    "for arduino_t in dataArduino[1:, 0]:\n",
    "    dts.append(arduino_t - old_arduino_t)\n",
    "    old_arduino_t = arduino_t"
   ]
  },
  {
   "cell_type": "code",
   "execution_count": 28,
   "metadata": {},
   "outputs": [
    {
     "data": {
      "image/png": "[encoded data removed]",
      "text/plain": [
       "<Figure size 640x480 with 1 Axes>"
      ]
     },
     "metadata": {},
     "output_type": "display_data"
    },
    {
     "name": "stdout",
     "output_type": "stream",
     "text": [
      "mean:  0.004398837462837514  s\n",
      "std:  0.0031208585850821574  s\n",
      "min:  0.0007755999999972119  s\n",
      "max:  0.08397740000000198  s\n"
     ]
    }
   ],
   "source": [
    "# plotting histogram of dataArduino inter-sample durations\n",
    "plt.hist(dts, bins=500, edgecolor='black')\n",
    "plt.xlabel('inter-sample duration')\n",
    "plt.ylabel('count')\n",
    "plt.show()\n",
    "\n",
    "# print out mean and std of sampling rate\n",
    "print(\"mean: \", str(sum(dts) / len(dts)), \" s\")\n",
    "print(\"std: \", str(statistics.stdev(dts)), \" s\")\n",
    "print(\"min: \", str(min(dts)), \" s\")\n",
    "print(\"max: \", str(max(dts)), \" s\")"
   ]
  }
 ],
 "metadata": {
  "kernelspec": {
   "display_name": "Python 3",
   "language": "python",
   "name": "python3"
  },
  "language_info": {
   "codemirror_mode": {
    "name": "ipython",
    "version": 3
   },
   "file_extension": ".py",
   "mimetype": "text/x-python",
   "name": "python",
   "nbconvert_exporter": "python",
   "pygments_lexer": "ipython3",
   "version": "3.11.6"
  }
 },
 "nbformat": 4,
 "nbformat_minor": 2
}
