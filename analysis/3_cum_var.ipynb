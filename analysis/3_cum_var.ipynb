{
 "cells": [
  {
   "cell_type": "markdown",
   "metadata": {},
   "source": [
    "# Summary:"
   ]
  },
  {
   "cell_type": "markdown",
   "metadata": {},
   "source": [
    "### imports"
   ]
  },
  {
   "cell_type": "code",
   "execution_count": 3,
   "metadata": {},
   "outputs": [],
   "source": [
    "from scipy import io\n",
    "import numpy as np\n",
    "import matplotlib.pyplot as plt\n",
    "import statistics\n",
    "import pandas as pd\n",
    "\n",
    "# https://docs.scipy.org/doc/scipy/reference/generated/scipy.signal.lombscargle.html\n",
    "import scipy.signal as signal\n",
    "\n",
    "# interpolation because ARDUINO data is spaced unevenly\n",
    "import scipy.interpolate as interpolate\n",
    "\n",
    "import pickle # save data\n",
    "import glob # find files in a directory\n",
    "import re # regex for string parsing"
   ]
  },
  {
   "cell_type": "markdown",
   "metadata": {},
   "source": [
    "### set `folder_name`"
   ]
  },
  {
   "cell_type": "code",
   "execution_count": 4,
   "metadata": {},
   "outputs": [],
   "source": [
    "# for all .mat files in this folder starting with \"ToneDisc_ANChandler_p1_\" in their name\n",
    "folder_name = './Joey/Phase1/ToneDisc_ANJoey_p1_'"
   ]
  },
  {
   "cell_type": "markdown",
   "metadata": {},
   "source": [
    "### sort through relevant .mat files found in folder by day (\"_d#\")"
   ]
  },
  {
   "cell_type": "code",
   "execution_count": 5,
   "metadata": {},
   "outputs": [
    {
     "data": {
      "text/plain": [
       "['./Joey/Phase1/ToneDisc_ANJoey_p1_d1.mat',\n",
       " './Joey/Phase1/ToneDisc_ANJoey_p1_d2.mat',\n",
       " './Joey/Phase1/ToneDisc_ANJoey_p1_d3.mat',\n",
       " './Joey/Phase1/ToneDisc_ANJoey_p1_d4.mat',\n",
       " './Joey/Phase1/ToneDisc_ANJoey_p1_d5.mat',\n",
       " './Joey/Phase1/ToneDisc_ANJoey_p1_d6.mat',\n",
       " './Joey/Phase1/ToneDisc_ANJoey_p1_d7.mat',\n",
       " './Joey/Phase1/ToneDisc_ANJoey_p1_d8.mat',\n",
       " './Joey/Phase1/ToneDisc_ANJoey_p1_d9.mat',\n",
       " './Joey/Phase1/ToneDisc_ANJoey_p1_d10.mat',\n",
       " './Joey/Phase1/ToneDisc_ANJoey_p1_d11.mat',\n",
       " './Joey/Phase1/ToneDisc_ANJoey_p1_d12.mat',\n",
       " './Joey/Phase1/ToneDisc_ANJoey_p1_d13.mat',\n",
       " './Joey/Phase1/ToneDisc_ANJoey_p1_d14.mat']"
      ]
     },
     "execution_count": 5,
     "metadata": {},
     "output_type": "execute_result"
    }
   ],
   "source": [
    "unsorted_mat_files = glob.glob(folder_name+'*.mat')\n",
    "sorted_mat_files = sorted(unsorted_mat_files, key=lambda x: int(re.search(r'\\d+.mat$',x).group()[:-4]))\n",
    "sorted_mat_files"
   ]
  },
  {
   "cell_type": "markdown",
   "metadata": {},
   "source": [
    "### get `movements_vars` and calculate `cumulative_sqrt_var`, $\\int\\limits_{0}^{100} Var(t)dt$, and save to `cumulative_vars`"
   ]
  },
  {
   "cell_type": "code",
   "execution_count": 11,
   "metadata": {},
   "outputs": [
    {
     "name": "stdout",
     "output_type": "stream",
     "text": [
      "cumalative_var:  2.9083639649471693\n",
      "cumalative_var:  2.9418598405067087\n",
      "cumalative_var:  1.2938351396126162\n",
      "cumalative_var:  1.2947059906556355\n",
      "cumalative_var:  0.3885463850224033\n",
      "cumalative_var:  8.759509619192238\n",
      "cumalative_var:  1.7708943600330258\n",
      "cumalative_var:  1.9689124138069567\n",
      "cumalative_var:  3.0558641520989203\n",
      "cumalative_var:  5.433017653108981\n",
      "cumalative_var:  46.750705772641126\n",
      "cumalative_var:  0.4642490571562672\n",
      "cumalative_var:  0.9236575610141614\n",
      "cumalative_var:  1.4960698127662868\n"
     ]
    }
   ],
   "source": [
    "cumulative_vars = []\n",
    "for mat_file in sorted_mat_files:\n",
    "    file = open(mat_file+'_movements_vars.pickle', 'rb')\n",
    "    movements_var = pickle.load(file)\n",
    "    file.close()\n",
    "\n",
    "    # Compute the area using the composite trapezoidal rule.\n",
    "    cumulative_var = np.trapz(movements_var, dx=5)\n",
    "    print(\"cumalative_var: \", cumulative_var)\n",
    "    cumulative_vars.append(cumulative_var)"
   ]
  },
  {
   "cell_type": "markdown",
   "metadata": {},
   "source": [
    "### plot `cumulative_vars` over days"
   ]
  },
  {
   "cell_type": "code",
   "execution_count": 13,
   "metadata": {},
   "outputs": [
    {
     "data": {
      "text/plain": [
       "(0.0, 10.0)"
      ]
     },
     "execution_count": 13,
     "metadata": {},
     "output_type": "execute_result"
    },
    {
     "data": {
      "image/png": "[encoded data removed]",
      "text/plain": [
       "<Figure size 640x480 with 1 Axes>"
      ]
     },
     "metadata": {},
     "output_type": "display_data"
    }
   ],
   "source": [
    "plt.plot(range(0,len(cumulative_vars)),cumulative_vars)\n",
    "plt.ylim([0,10])"
   ]
  }
 ],
 "metadata": {
  "kernelspec": {
   "display_name": "Python 3",
   "language": "python",
   "name": "python3"
  },
  "language_info": {
   "codemirror_mode": {
    "name": "ipython",
    "version": 3
   },
   "file_extension": ".py",
   "mimetype": "text/x-python",
   "name": "python",
   "nbconvert_exporter": "python",
   "pygments_lexer": "ipython3",
   "version": "3.10.5"
  }
 },
 "nbformat": 4,
 "nbformat_minor": 2
}
