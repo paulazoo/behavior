{
 "cells": [
  {
   "cell_type": "markdown",
   "metadata": {},
   "source": [
    "# Summary:\n",
    "There are two parts to how a movement between point A and point B might vary. The second part is the speed of the movement. Here, I calculate the average velocity, `v`, of each __Hit__ trial's movement. I then find the mean of these average velocities, `mean_v`, and variance of these average velocities, `var_v`, across all trials for the day."
   ]
  },
  {
   "cell_type": "markdown",
   "metadata": {},
   "source": [
    "### imports"
   ]
  },
  {
   "cell_type": "code",
   "execution_count": 10,
   "metadata": {},
   "outputs": [],
   "source": [
    "from scipy import io\n",
    "import numpy as np\n",
    "import matplotlib.pyplot as plt\n",
    "import statistics\n",
    "import pandas as pd\n",
    "\n",
    "# https://docs.scipy.org/doc/scipy/reference/generated/scipy.signal.lombscargle.html\n",
    "import scipy.signal as signal\n",
    "\n",
    "# interpolation because ARDUINO data is spaced unevenly\n",
    "import scipy.interpolate as interpolate\n",
    "\n",
    "import pickle # save data\n",
    "import glob # find files in a directory\n",
    "import re # regex for string parsing"
   ]
  },
  {
   "cell_type": "markdown",
   "metadata": {},
   "source": [
    "### set `folder_name`"
   ]
  },
  {
   "cell_type": "code",
   "execution_count": 11,
   "metadata": {},
   "outputs": [],
   "source": [
    "# for all .mat files in this folder starting with \"ToneDisc_ANChandler_p1_\" in their name\n",
    "folder_name = './Chandler/Phase1/ToneDisc_ANChandler_p1_'"
   ]
  },
  {
   "cell_type": "markdown",
   "metadata": {},
   "source": [
    "### sort through relevant .mat files found in folder by day (\"_d#\")"
   ]
  },
  {
   "cell_type": "code",
   "execution_count": 12,
   "metadata": {},
   "outputs": [
    {
     "data": {
      "text/plain": [
       "['./Chandler/Phase1/ToneDisc_ANChandler_p1_d1.mat',\n",
       " './Chandler/Phase1/ToneDisc_ANChandler_p1_d2.mat',\n",
       " './Chandler/Phase1/ToneDisc_ANChandler_p1_d3.mat',\n",
       " './Chandler/Phase1/ToneDisc_ANChandler_p1_d4.mat',\n",
       " './Chandler/Phase1/ToneDisc_ANChandler_p1_d5.mat',\n",
       " './Chandler/Phase1/ToneDisc_ANChandler_p1_d6.mat',\n",
       " './Chandler/Phase1/ToneDisc_ANChandler_p1_d7.mat',\n",
       " './Chandler/Phase1/ToneDisc_ANChandler_p1_d8.mat',\n",
       " './Chandler/Phase1/ToneDisc_ANChandler_p1_d9.mat',\n",
       " './Chandler/Phase1/ToneDisc_ANChandler_p1_d10.mat',\n",
       " './Chandler/Phase1/ToneDisc_ANChandler_p1_d11.mat',\n",
       " './Chandler/Phase1/ToneDisc_ANChandler_p1_d12.mat',\n",
       " './Chandler/Phase1/ToneDisc_ANChandler_p1_d13.mat',\n",
       " './Chandler/Phase1/ToneDisc_ANChandler_p1_d14.mat']"
      ]
     },
     "execution_count": 12,
     "metadata": {},
     "output_type": "execute_result"
    }
   ],
   "source": [
    "unsorted_mat_files = glob.glob(folder_name+'*.mat')\n",
    "sorted_mat_files = sorted(unsorted_mat_files, key=lambda x: int(re.search(r'\\d+.mat$',x).group()[:-4]))\n",
    "sorted_mat_files"
   ]
  },
  {
   "cell_type": "markdown",
   "metadata": {},
   "source": [
    "### Get `var_vs` and `mean_vs`\n",
    "\n",
    "for each day, extract corresponding `interpolated_times_dataArduino` from .pickle file in folder\n",
    "\n",
    "Find `mean_v` and `var_v` for that day\n",
    "\n",
    "For each movement from that day, get the `total_movement_time`, the total time it took to do the movement from the first threshold to the second threshold.\n",
    "\n",
    "Then, assuming the total displacement is always the difference between the first and second threshold (e.g. -0.25V), calculate the average velocity, `v`\n",
    "\n",
    "Then, find the variance and mean of these average velocities, `var_v` and `mean_v`, respectively\n",
    "\n",
    "Append to `vars_vs` and `mean_vs`"
   ]
  },
  {
   "cell_type": "code",
   "execution_count": 20,
   "metadata": {},
   "outputs": [
    {
     "ename": "FileNotFoundError",
     "evalue": "[Errno 2] No such file or directory: './Chandler/Phase1/ToneDisc_ANChandler_p1_d1.mat_interpolated_times_dataArduino.pickle'",
     "output_type": "error",
     "traceback": [
      "\u001b[0;31m---------------------------------------------------------------------------\u001b[0m",
      "\u001b[0;31mFileNotFoundError\u001b[0m                         Traceback (most recent call last)",
      "\u001b[1;32m/Users/paulazhu/Dropbox/DataShare_with_Paula/analysis/4_var_v.ipynb Cell 9\u001b[0m line \u001b[0;36m4\n\u001b[1;32m      <a href='vscode-notebook-cell:/Users/paulazhu/Dropbox/DataShare_with_Paula/analysis/4_var_v.ipynb#X16sZmlsZQ%3D%3D?line=1'>2</a>\u001b[0m mean_vs \u001b[39m=\u001b[39m []\n\u001b[1;32m      <a href='vscode-notebook-cell:/Users/paulazhu/Dropbox/DataShare_with_Paula/analysis/4_var_v.ipynb#X16sZmlsZQ%3D%3D?line=2'>3</a>\u001b[0m \u001b[39mfor\u001b[39;00m mat_file \u001b[39min\u001b[39;00m sorted_mat_files:\n\u001b[0;32m----> <a href='vscode-notebook-cell:/Users/paulazhu/Dropbox/DataShare_with_Paula/analysis/4_var_v.ipynb#X16sZmlsZQ%3D%3D?line=3'>4</a>\u001b[0m     file \u001b[39m=\u001b[39m \u001b[39mopen\u001b[39;49m(mat_file\u001b[39m+\u001b[39;49m\u001b[39m'\u001b[39;49m\u001b[39m_interpolated_times_dataArduino.pickle\u001b[39;49m\u001b[39m'\u001b[39;49m, \u001b[39m'\u001b[39;49m\u001b[39mrb\u001b[39;49m\u001b[39m'\u001b[39;49m)\n\u001b[1;32m      <a href='vscode-notebook-cell:/Users/paulazhu/Dropbox/DataShare_with_Paula/analysis/4_var_v.ipynb#X16sZmlsZQ%3D%3D?line=4'>5</a>\u001b[0m     interpolated_times_dataArduino \u001b[39m=\u001b[39m pickle\u001b[39m.\u001b[39mload(file)\n\u001b[1;32m      <a href='vscode-notebook-cell:/Users/paulazhu/Dropbox/DataShare_with_Paula/analysis/4_var_v.ipynb#X16sZmlsZQ%3D%3D?line=5'>6</a>\u001b[0m     file\u001b[39m.\u001b[39mclose()\n",
      "File \u001b[0;32m/opt/homebrew/lib/python3.11/site-packages/IPython/core/interactiveshell.py:286\u001b[0m, in \u001b[0;36m_modified_open\u001b[0;34m(file, *args, **kwargs)\u001b[0m\n\u001b[1;32m    279\u001b[0m \u001b[39mif\u001b[39;00m file \u001b[39min\u001b[39;00m {\u001b[39m0\u001b[39m, \u001b[39m1\u001b[39m, \u001b[39m2\u001b[39m}:\n\u001b[1;32m    280\u001b[0m     \u001b[39mraise\u001b[39;00m \u001b[39mValueError\u001b[39;00m(\n\u001b[1;32m    281\u001b[0m         \u001b[39mf\u001b[39m\u001b[39m\"\u001b[39m\u001b[39mIPython won\u001b[39m\u001b[39m'\u001b[39m\u001b[39mt let you open fd=\u001b[39m\u001b[39m{\u001b[39;00mfile\u001b[39m}\u001b[39;00m\u001b[39m by default \u001b[39m\u001b[39m\"\u001b[39m\n\u001b[1;32m    282\u001b[0m         \u001b[39m\"\u001b[39m\u001b[39mas it is likely to crash IPython. If you know what you are doing, \u001b[39m\u001b[39m\"\u001b[39m\n\u001b[1;32m    283\u001b[0m         \u001b[39m\"\u001b[39m\u001b[39myou can use builtins\u001b[39m\u001b[39m'\u001b[39m\u001b[39m open.\u001b[39m\u001b[39m\"\u001b[39m\n\u001b[1;32m    284\u001b[0m     )\n\u001b[0;32m--> 286\u001b[0m \u001b[39mreturn\u001b[39;00m io_open(file, \u001b[39m*\u001b[39;49margs, \u001b[39m*\u001b[39;49m\u001b[39m*\u001b[39;49mkwargs)\n",
      "\u001b[0;31mFileNotFoundError\u001b[0m: [Errno 2] No such file or directory: './Chandler/Phase1/ToneDisc_ANChandler_p1_d1.mat_interpolated_times_dataArduino.pickle'"
     ]
    }
   ],
   "source": [
    "var_vs = []\n",
    "mean_vs = []\n",
    "for mat_file in sorted_mat_files:\n",
    "    file = open(mat_file+'_interpolated_times_dataArduino.pickle', 'rb')\n",
    "    interpolated_times_dataArduino = pickle.load(file)\n",
    "    file.close()\n",
    "\n",
    "    vs = []\n",
    "    for interpolated_time_dataArduino in interpolated_times_dataArduino:\n",
    "        total_movement_time = interpolated_time_dataArduino[-1] - interpolated_time_dataArduino[0]\n",
    "        vs.append((-0.25) / total_movement_time)\n",
    "\n",
    "    var_v = np.var(vs)\n",
    "    mean_v = np.mean(vs)\n",
    "\n",
    "    var_vs.append(var_v)\n",
    "    mean_vs.append(mean_v)"
   ]
  },
  {
   "cell_type": "markdown",
   "metadata": {},
   "source": [
    "### Plot `var_vs` and `mean_vs` across days"
   ]
  },
  {
   "cell_type": "code",
   "execution_count": 16,
   "metadata": {},
   "outputs": [
    {
     "name": "stdout",
     "output_type": "stream",
     "text": [
      "0.17006325685685653\n"
     ]
    }
   ],
   "source": [
    "plt.plot(range(0, len(var_vs)), var_vs)\n",
    "plt.show()\n",
    "\n",
    "plt.plot(range(0, len(mean_vs)), mean_vs)\n",
    "plt.show()"
   ]
  }
 ],
 "metadata": {
  "kernelspec": {
   "display_name": "Python 3",
   "language": "python",
   "name": "python3"
  },
  "language_info": {
   "codemirror_mode": {
    "name": "ipython",
    "version": 3
   },
   "file_extension": ".py",
   "mimetype": "text/x-python",
   "name": "python",
   "nbconvert_exporter": "python",
   "pygments_lexer": "ipython3",
   "version": "3.11.6"
  }
 },
 "nbformat": 4,
 "nbformat_minor": 2
}
