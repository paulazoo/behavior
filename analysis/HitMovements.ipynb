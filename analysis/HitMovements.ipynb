{
 "cells": [
  {
   "cell_type": "markdown",
   "metadata": {},
   "source": [
    "### set folder_name and `num_trials`\n",
    "- `num_trials` and `threshold_shift` based on preprocessing alignment (see PreprocessLeverData notebooks) and can be found for each day's session in the Google sheets analysis log"
   ]
  },
  {
   "cell_type": "code",
   "execution_count": 103,
   "metadata": {},
   "outputs": [],
   "source": [
    "name = 'ANM1'\n",
    "session = '20240203_d5'\n",
    "num_trials = 64\n",
    "threshold_shift = 0.0"
   ]
  },
  {
   "cell_type": "code",
   "execution_count": 104,
   "metadata": {},
   "outputs": [],
   "source": [
    "hit_trials_to_exclude = [60]"
   ]
  },
  {
   "cell_type": "markdown",
   "metadata": {},
   "source": [
    "### imports:"
   ]
  },
  {
   "cell_type": "code",
   "execution_count": 105,
   "metadata": {},
   "outputs": [],
   "source": [
    "from scipy import io\n",
    "import numpy as np\n",
    "import matplotlib.pyplot as plt\n",
    "import statistics\n",
    "import pandas as pd\n",
    "import scipy.signal as signal\n",
    "import scipy.interpolate as interpolate\n",
    "import pickle\n",
    "import glob # find files in a directory\n",
    "import re # regex for string parsing\n",
    "\n",
    "from common.set_matplotlib_settings import set_matplotlib_settings\n",
    "from common.load_tonedisc_matfile import load_tonedisc_matfile\n",
    "from common.select_trials import select_hit_trials\n",
    "from common.select_trials import save_custom_hit_trials\n",
    "from common.select_trials import select_custom_hit_trials\n",
    "from hit_movements.get_movement_thresholds import get_movement_thresholds\n",
    "from hit_movements.extract_leverpresses import extract_leverpresses\n",
    "from common.extract_movement_intervals import extract_movement_intervals"
   ]
  },
  {
   "cell_type": "markdown",
   "metadata": {},
   "source": [
    "### Setup folders and matfiles"
   ]
  },
  {
   "cell_type": "code",
   "execution_count": 106,
   "metadata": {},
   "outputs": [
    {
     "name": "stdout",
     "output_type": "stream",
     "text": [
      "respMTX shape: (70, 7)\n",
      "MTXTrialType shape: (1000, 5)\n",
      "number of trials: 70\n",
      "mkdir: ../Data_Copy/AnalysisData/ANM1/HitMovements_ANM1_20240203_d5/: File exists\n"
     ]
    }
   ],
   "source": [
    "tone_discriminiation_matfile = '../Data_Copy/ToneDiscriminationData/'+name+'/ToneDisc_'+name+'_'+session+'.mat'\n",
    "params, response, arduino, respMTX, MTXTrialType = load_tonedisc_matfile(tone_discriminiation_matfile)\n",
    "\n",
    "PreprocessLeverData_folder = \"../Data_Copy/AnalysisData/\"+name+\"/PreprocessLeverData_\"+name+\"_\"+session+\"/\"\n",
    "output_folder = \"../Data_Copy/AnalysisData/\"+name+\"/HitMovements_\"+name+\"_\"+session+\"/\"\n",
    "!mkdir {output_folder}"
   ]
  },
  {
   "cell_type": "markdown",
   "metadata": {},
   "source": [
    "### find all movements from trials that meet all thresholds"
   ]
  },
  {
   "cell_type": "markdown",
   "metadata": {},
   "source": [
    "select all hit trials for consideration"
   ]
  },
  {
   "cell_type": "code",
   "execution_count": 107,
   "metadata": {},
   "outputs": [
    {
     "name": "stdout",
     "output_type": "stream",
     "text": [
      "45  hit trials in this session.\n"
     ]
    }
   ],
   "source": [
    "hit_trials = select_hit_trials(respMTX, num_trials)\n",
    "save_custom_hit_trials(output_folder, hit_trials)"
   ]
  },
  {
   "cell_type": "markdown",
   "metadata": {},
   "source": [
    "delete trials as necessary and resave"
   ]
  },
  {
   "cell_type": "code",
   "execution_count": 108,
   "metadata": {},
   "outputs": [
    {
     "name": "stdout",
     "output_type": "stream",
     "text": [
      "44  hit trials in this session.\n"
     ]
    }
   ],
   "source": [
    "for trial_index in hit_trials_to_exclude:\n",
    "    hit_trials.remove(trial_index)\n",
    "save_custom_hit_trials(output_folder, hit_trials)\n",
    "hit_trials = select_custom_hit_trials(output_folder)"
   ]
  },
  {
   "cell_type": "markdown",
   "metadata": {},
   "source": [
    "_in LeverData voltage_"
   ]
  },
  {
   "cell_type": "code",
   "execution_count": 109,
   "metadata": {},
   "outputs": [
    {
     "name": "stdout",
     "output_type": "stream",
     "text": [
      "movement_baseline for all trials should be the same:  1.6850439882697943\n",
      "mvt threshold:  0.25 + movement_baseline =  1.9350439882697943\n",
      "nomvt threshold:  0.15 + movement_baseline =  1.8350439882697942\n"
     ]
    }
   ],
   "source": [
    "movement_baseline, movement_threshold, no_movement_threshold = get_movement_thresholds(params, respMTX, threshold_shift)"
   ]
  },
  {
   "cell_type": "markdown",
   "metadata": {},
   "source": [
    "`leverpress_informations`: each selected trial has a row\n",
    "\n",
    "columns are `trial_index` |  `leverpress_left_index` sample when leverpress starts | `leverpress_right_index` sample when leverpress ends"
   ]
  },
  {
   "cell_type": "code",
   "execution_count": 110,
   "metadata": {},
   "outputs": [
    {
     "name": "stdout",
     "output_type": "stream",
     "text": [
      "[0. 0. 0. 0. 0. 0. 0. 0. 0. 0. 0. 0. 0. 0. 0. 0. 0. 0. 0. 0. 0. 0. 0. 0.\n",
      " 0. 0. 0. 0. 0. 0. 0. 0. 0. 0. 0. 0. 0. 0. 0. 0. 0. 0. 0. 0. 0. 0. 0. 0.\n",
      " 0. 0. 0. 0. 0. 0. 0. 0. 0. 0. 0. 0. 0. 0. 0. 0.]\n",
      "Checking trial  0 ...\n",
      "finding right threshold...\n",
      "met\n",
      "finding left threshold...\n",
      "met\n",
      "Checking trial  4 ...\n",
      "leverpress detection was at below first threshold, try moving leverpress index up...\n",
      "1.7067961635113256\n",
      "48809\n",
      "new leverpress index value:  1.9351979468473823\n",
      "finding right threshold...\n",
      "met\n",
      "finding left threshold...\n",
      "met\n",
      "Checking trial  6 ...\n",
      "leverpress detection was at below first threshold, try moving leverpress index up...\n",
      "1.8046281481190043\n",
      "53516\n",
      "new leverpress index value:  1.9366255226188436\n",
      "finding right threshold...\n",
      "met\n",
      "finding left threshold...\n",
      "met\n",
      "Checking trial  7 ...\n",
      "leverpress detection was at below first threshold, try moving leverpress index up...\n",
      "1.7119905995196434\n",
      "44779\n",
      "new leverpress index value:  1.9353965269304472\n",
      "finding right threshold...\n",
      "met\n",
      "finding left threshold...\n",
      "met\n",
      "Checking trial  8 ...\n",
      "finding right threshold...\n",
      "met\n",
      "finding left threshold...\n",
      "met\n",
      "Checking trial  10 ...\n",
      "leverpress detection was at below first threshold, try moving leverpress index up...\n",
      "1.7099557989912668\n",
      "51151\n",
      "new leverpress index value:  1.937629600925995\n",
      "finding right threshold...\n",
      "met\n",
      "finding left threshold...\n",
      "met\n",
      "Checking trial  11 ...\n",
      "finding right threshold...\n",
      "met\n",
      "finding left threshold...\n",
      "met\n",
      "Checking trial  12 ...\n",
      "leverpress detection was at below first threshold, try moving leverpress index up...\n",
      "1.819748354142884\n",
      "39633\n",
      "new leverpress index value:  1.936042204740136\n",
      "finding right threshold...\n",
      "met\n",
      "finding left threshold...\n",
      "met\n",
      "Checking trial  13 ...\n",
      "leverpress detection was at below first threshold, try moving leverpress index up...\n",
      "1.7697372622295244\n",
      "43387\n",
      "new leverpress index value:  1.93526878204014\n",
      "finding right threshold...\n",
      "met\n",
      "finding left threshold...\n",
      "met\n",
      "Checking trial  14 ...\n",
      "leverpress detection was at below first threshold, try moving leverpress index up...\n",
      "1.7335106928686388\n",
      "16275\n",
      "new leverpress index value:  1.9372674177485814\n",
      "finding right threshold...\n",
      "met\n",
      "finding left threshold...\n",
      "met\n",
      "Checking trial  15 ...\n",
      "finding right threshold...\n",
      "met\n",
      "finding left threshold...\n",
      "met\n",
      "Checking trial  16 ...\n",
      "finding right threshold...\n",
      "met\n",
      "finding left threshold...\n",
      "met\n",
      "Checking trial  18 ...\n",
      "leverpress detection was at below first threshold, try moving leverpress index up...\n",
      "1.7213502355724701\n",
      "44077\n",
      "new leverpress index value:  1.9370443627262968\n",
      "finding right threshold...\n",
      "met\n",
      "finding left threshold...\n",
      "met\n",
      "Checking trial  20 ...\n",
      "leverpress detection was at below first threshold, try moving leverpress index up...\n",
      "1.710773845558291\n",
      "42398\n",
      "new leverpress index value:  1.9351840371459943\n",
      "finding right threshold...\n"
     ]
    },
    {
     "name": "stdout",
     "output_type": "stream",
     "text": [
      "met\n",
      "finding left threshold...\n",
      "met\n",
      "Checking trial  21 ...\n",
      "leverpress detection was at below first threshold, try moving leverpress index up...\n",
      "1.696474366015949\n",
      "27468\n",
      "new leverpress index value:  1.9358814023335316\n",
      "finding right threshold...\n",
      "met\n",
      "finding left threshold...\n",
      "met\n",
      "Checking trial  22 ...\n",
      "leverpress detection was at below first threshold, try moving leverpress index up...\n",
      "1.7825437421339285\n",
      "36958\n",
      "new leverpress index value:  1.935479607264532\n",
      "finding right threshold...\n",
      "met\n",
      "finding left threshold...\n",
      "met\n",
      "Checking trial  23 ...\n",
      "leverpress detection was at below first threshold, try moving leverpress index up...\n",
      "1.7319335631533028\n",
      "48462\n",
      "new leverpress index value:  1.9362299007991641\n",
      "finding right threshold...\n",
      "met\n",
      "finding left threshold...\n",
      "met\n",
      "Checking trial  24 ...\n",
      "leverpress detection was at below first threshold, try moving leverpress index up...\n",
      "1.705503124792989\n",
      "3601\n",
      "end of trial, did not have leverpress.\n",
      "new leverpress index value:  1.9350148211022327\n",
      "finding right threshold...\n",
      "met\n",
      "finding left threshold...\n",
      "threshold:  1.8350439882697942 value at trial edge:  2.1219276297326695\n",
      "first threshold not met within trial.\n",
      "Checking trial  25 ...\n",
      "leverpress detection was at below first threshold, try moving leverpress index up...\n",
      "1.7352398435865473\n",
      "2666\n",
      "new leverpress index value:  1.9357326321523378\n",
      "finding right threshold...\n",
      "met\n",
      "finding left threshold...\n",
      "met\n",
      "Checking trial  26 ...\n",
      "leverpress detection was at below first threshold, try moving leverpress index up...\n",
      "1.6974059747103678\n",
      "15498\n",
      "new leverpress index value:  1.936434580271437\n",
      "finding right threshold...\n",
      "met\n",
      "finding left threshold...\n",
      "met\n",
      "Checking trial  27 ...\n",
      "leverpress detection was at below first threshold, try moving leverpress index up...\n",
      "1.8001205651069672\n",
      "9222\n",
      "new leverpress index value:  1.9353587850046248\n",
      "finding right threshold...\n",
      "met\n",
      "finding left threshold...\n",
      "met\n",
      "Checking trial  28 ...\n",
      "leverpress detection was at below first threshold, try moving leverpress index up...\n",
      "1.7081551487870295\n",
      "1546\n",
      "new leverpress index value:  1.9353311371355804\n",
      "finding right threshold...\n",
      "met\n",
      "finding left threshold...\n",
      "met\n",
      "Checking trial  29 ...\n",
      "leverpress detection was at below first threshold, try moving leverpress index up...\n",
      "1.706370677514458\n",
      "17349\n",
      "new leverpress index value:  1.9358254192913842\n",
      "finding right threshold...\n",
      "met\n",
      "finding left threshold...\n",
      "met\n",
      "Checking trial  30 ...\n",
      "leverpress detection was at below first threshold, try moving leverpress index up...\n",
      "1.695386516577087\n",
      "22647\n",
      "new leverpress index value:  1.936719508948741\n",
      "finding right threshold...\n",
      "met\n",
      "finding left threshold...\n",
      "met\n",
      "Checking trial  32 ...\n",
      "leverpress detection was at below first threshold, try moving leverpress index up...\n",
      "1.7061822172801508\n",
      "2745\n",
      "new leverpress index value:  1.9352443248911846\n",
      "finding right threshold...\n",
      "met\n",
      "finding left threshold...\n",
      "met\n",
      "Checking trial  33 ...\n",
      "leverpress detection was at below first threshold, try moving leverpress index up...\n",
      "1.701393554857534\n",
      "36953\n",
      "new leverpress index value:  1.9364193972466412\n",
      "finding right threshold...\n",
      "met\n",
      "finding left threshold...\n",
      "met\n",
      "Checking trial  34 ...\n",
      "leverpress detection was at below first threshold, try moving leverpress index up...\n",
      "1.726540118280333\n",
      "10676\n",
      "new leverpress index value:  1.936323288970132\n",
      "finding right threshold...\n",
      "met\n",
      "finding left threshold...\n",
      "met\n",
      "Checking trial  35 ...\n",
      "finding right threshold...\n",
      "met\n",
      "finding left threshold...\n",
      "met\n",
      "Checking trial  36 ...\n",
      "leverpress detection was at below first threshold, try moving leverpress index up...\n",
      "1.7068300785360067\n",
      "17356\n",
      "new leverpress index value:  1.9361016609813468\n",
      "finding right threshold...\n",
      "met\n",
      "finding left threshold...\n",
      "met\n",
      "Checking trial  37 ...\n",
      "finding right threshold...\n",
      "met\n",
      "finding left threshold...\n",
      "met\n",
      "Checking trial  38 ...\n",
      "leverpress detection was at below first threshold, try moving leverpress index up...\n",
      "1.7198564625445107\n",
      "24665\n",
      "new leverpress index value:  1.9350935277542671\n",
      "finding right threshold...\n",
      "met\n",
      "finding left threshold...\n",
      "met\n",
      "Checking trial  41 ...\n",
      "leverpress detection was at below first threshold, try moving leverpress index up...\n",
      "1.785219151175133\n",
      "3285\n",
      "new leverpress index value:  1.9355522616594811\n",
      "finding right threshold...\n",
      "met\n",
      "finding left threshold...\n",
      "met\n",
      "Checking trial  42 ...\n",
      "leverpress detection was at below first threshold, try moving leverpress index up...\n",
      "1.702003042888653\n",
      "47222\n",
      "new leverpress index value:  1.9356311451329562\n",
      "finding right threshold...\n",
      "met\n",
      "finding left threshold...\n",
      "met\n",
      "Checking trial  43 ...\n",
      "leverpress detection was at below first threshold, try moving leverpress index up...\n",
      "1.693618776714764\n",
      "11057\n",
      "new leverpress index value:  1.9354717151831893\n",
      "finding right threshold...\n",
      "met\n",
      "finding left threshold...\n",
      "met\n",
      "Checking trial  44 ...\n",
      "leverpress detection was at below first threshold, try moving leverpress index up...\n",
      "1.798996607976182\n",
      "3988\n",
      "new leverpress index value:  1.937490702200471\n",
      "finding right threshold...\n",
      "met\n",
      "finding left threshold...\n",
      "met\n",
      "Checking trial  46 ...\n",
      "leverpress detection was at below first threshold, try moving leverpress index up...\n",
      "1.7064309708608358\n",
      "2999\n",
      "new leverpress index value:  1.93676898558748\n",
      "finding right threshold...\n",
      "met\n",
      "finding left threshold...\n",
      "met\n",
      "Checking trial  47 ...\n",
      "finding right threshold...\n",
      "met\n",
      "finding left threshold...\n",
      "met\n",
      "Checking trial  48 ...\n",
      "leverpress detection was at below first threshold, try moving leverpress index up...\n",
      "1.7953390550911097\n",
      "56334\n",
      "new leverpress index value:  1.9356226746533909\n",
      "finding right threshold...\n",
      "met\n",
      "finding left threshold...\n",
      "met\n",
      "Checking trial  49 ...\n",
      "leverpress detection was at below first threshold, try moving leverpress index up...\n",
      "1.6995964652958766\n",
      "23437\n",
      "new leverpress index value:  1.9366704893210342\n",
      "finding right threshold...\n",
      "met\n",
      "finding left threshold...\n",
      "met\n",
      "Checking trial  52 ...\n",
      "leverpress detection was at below first threshold, try moving leverpress index up...\n",
      "1.7087670399137918\n",
      "37389\n",
      "new leverpress index value:  1.9368050306154725\n",
      "finding right threshold...\n",
      "met\n",
      "finding left threshold...\n",
      "met\n",
      "Checking trial  53 ...\n",
      "leverpress detection was at below first threshold, try moving leverpress index up...\n",
      "1.7102746429882911\n",
      "42832\n",
      "new leverpress index value:  1.935324317613901\n",
      "finding right threshold...\n",
      "met\n",
      "finding left threshold...\n",
      "met\n",
      "Checking trial  54 ...\n",
      "leverpress detection was at below first threshold, try moving leverpress index up...\n",
      "1.7433733323827019\n",
      "17901\n",
      "new leverpress index value:  1.9362076781803714\n",
      "finding right threshold...\n",
      "met\n",
      "finding left threshold...\n",
      "met\n",
      "Checking trial  55 ...\n",
      "finding right threshold...\n",
      "met\n",
      "finding left threshold...\n",
      "met\n",
      "Checking trial  62 ...\n",
      "finding right threshold...\n",
      "met\n",
      "finding left threshold...\n",
      "threshold:  1.8350439882697942 value at trial edge:  2.346476263529063\n",
      "first threshold not met within trial.\n",
      "number of extracted leverpresses  44\n"
     ]
    }
   ],
   "source": [
    "hit_leverpress_informations = extract_leverpresses(hit_trials, PreprocessLeverData_folder, \\\n",
    "                                              movement_baseline, movement_threshold, no_movement_threshold,\\\n",
    "                                                output_folder)"
   ]
  },
  {
   "cell_type": "markdown",
   "metadata": {},
   "source": [
    "### Save movements from `movements` into separate \"movement_trial#\" .npy files\n",
    "`movement`: first row is times, second row is leverdata\n",
    "\n",
    "Movements will have MVT0 subtracted off and be temporally aligned to be comparable"
   ]
  },
  {
   "cell_type": "code",
   "execution_count": 111,
   "metadata": {},
   "outputs": [],
   "source": [
    "hit_movements = extract_movement_intervals(hit_leverpress_informations, \\\n",
    "                                           'processed', PreprocessLeverData_folder, PreprocessLeverData_folder, output_folder, \\\n",
    "                                            movement_baseline)"
   ]
  },
  {
   "cell_type": "markdown",
   "metadata": {},
   "source": [
    "check by plotting movements that are MVT0 subtracted and temporally aligned:"
   ]
  },
  {
   "cell_type": "code",
   "execution_count": 112,
   "metadata": {},
   "outputs": [
    {
     "data": {
      "image/png": "[encoded data removed]",
      "text/plain": [
       "<Figure size 500x400 with 1 Axes>"
      ]
     },
     "metadata": {},
     "output_type": "display_data"
    }
   ],
   "source": [
    "set_matplotlib_settings()\n",
    "\n",
    "for hit_movement in hit_movements:\n",
    "    # also check by plotting all of the movements\n",
    "    plt.plot(hit_movement[0, :], hit_movement[1, :])\n",
    "plt.title(\"Movements: from first to third threshold \\n\"+session)\n",
    "plt.xlabel(\"time from hitting first threshold (s)\")\n",
    "plt.ylabel(\"$\\Delta$V from MVT0 (displacement)\")\n",
    "\n",
    "plt.savefig(output_folder+\"plot_movements.png\")\n",
    "plt.show()"
   ]
  }
 ],
 "metadata": {
  "kernelspec": {
   "display_name": "Python 3",
   "language": "python",
   "name": "python3"
  },
  "language_info": {
   "codemirror_mode": {
    "name": "ipython",
    "version": 3
   },
   "file_extension": ".py",
   "mimetype": "text/x-python",
   "name": "python",
   "nbconvert_exporter": "python",
   "pygments_lexer": "ipython3",
   "version": "3.11.6"
  }
 },
 "nbformat": 4,
 "nbformat_minor": 2
}
