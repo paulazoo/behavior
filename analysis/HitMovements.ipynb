{
 "cells": [
  {
   "cell_type": "markdown",
   "metadata": {},
   "source": [
    "### set folder_name and `num_trials`\n",
    "- `num_trials` and `threshold_shift` based on preprocessing alignment (see PreprocessLeverData notebooks) and can be found for each day's session in the Google sheets analysis log"
   ]
  },
  {
   "cell_type": "code",
   "execution_count": 11,
   "metadata": {},
   "outputs": [],
   "source": [
    "name = 'ANM7'\n",
    "session = '20240130_d1'\n",
    "num_trials = 53\n",
    "threshold_shift = 0.0"
   ]
  },
  {
   "cell_type": "code",
   "execution_count": 12,
   "metadata": {},
   "outputs": [],
   "source": [
    "hit_trials_to_exclude = []"
   ]
  },
  {
   "cell_type": "markdown",
   "metadata": {},
   "source": [
    "### imports:"
   ]
  },
  {
   "cell_type": "code",
   "execution_count": 13,
   "metadata": {},
   "outputs": [],
   "source": [
    "from scipy import io\n",
    "import numpy as np\n",
    "import matplotlib.pyplot as plt\n",
    "import statistics\n",
    "import pandas as pd\n",
    "import scipy.signal as signal\n",
    "import scipy.interpolate as interpolate\n",
    "import pickle\n",
    "import glob # find files in a directory\n",
    "import re # regex for string parsing\n",
    "\n",
    "from common.set_matplotlib_settings import set_matplotlib_settings\n",
    "from common.load_tonedisc_matfile import load_tonedisc_matfile\n",
    "from common.select_trials import select_hit_trials\n",
    "from common.select_trials import save_custom_hit_trials\n",
    "from common.select_trials import select_custom_hit_trials\n",
    "from hit_movements.get_movement_thresholds import get_movement_thresholds\n",
    "from hit_movements.extract_leverpresses import extract_leverpresses\n",
    "from common.extract_movement_intervals import extract_movement_intervals"
   ]
  },
  {
   "cell_type": "markdown",
   "metadata": {},
   "source": [
    "### Setup folders and matfiles"
   ]
  },
  {
   "cell_type": "code",
   "execution_count": 14,
   "metadata": {},
   "outputs": [
    {
     "name": "stdout",
     "output_type": "stream",
     "text": [
      "respMTX shape: (54, 7)\n",
      "MTXTrialType shape: (1000, 5)\n",
      "number of trials: 54\n"
     ]
    }
   ],
   "source": [
    "tone_discriminiation_matfile = '../Data_Copy/ToneDiscriminationData/'+name+'/ToneDisc_'+name+'_'+session+'.mat'\n",
    "params, response, arduino, respMTX, MTXTrialType = load_tonedisc_matfile(tone_discriminiation_matfile)\n",
    "\n",
    "PreprocessLeverData_folder = \"../Data_Copy/AnalysisData/\"+name+\"/PreprocessLeverData_\"+name+\"_\"+session+\"/\"\n",
    "output_folder = \"../Data_Copy/AnalysisData/\"+name+\"/HitMovements_\"+name+\"_\"+session+\"/\"\n",
    "!mkdir {output_folder}"
   ]
  },
  {
   "cell_type": "markdown",
   "metadata": {},
   "source": [
    "### find all movements from trials that meet all thresholds"
   ]
  },
  {
   "cell_type": "markdown",
   "metadata": {},
   "source": [
    "select all hit trials for consideration"
   ]
  },
  {
   "cell_type": "code",
   "execution_count": 15,
   "metadata": {},
   "outputs": [
    {
     "name": "stdout",
     "output_type": "stream",
     "text": [
      "37  hit trials in this session.\n"
     ]
    }
   ],
   "source": [
    "hit_trials = select_hit_trials(respMTX, num_trials)\n",
    "save_custom_hit_trials(output_folder, hit_trials)"
   ]
  },
  {
   "cell_type": "markdown",
   "metadata": {},
   "source": [
    "delete trials as necessary and resave"
   ]
  },
  {
   "cell_type": "code",
   "execution_count": 16,
   "metadata": {},
   "outputs": [
    {
     "name": "stdout",
     "output_type": "stream",
     "text": [
      "37  hit trials in this session.\n"
     ]
    }
   ],
   "source": [
    "for trial_index in hit_trials_to_exclude:\n",
    "    hit_trials.remove(trial_index)\n",
    "save_custom_hit_trials(output_folder, hit_trials)\n",
    "hit_trials = select_custom_hit_trials(output_folder)"
   ]
  },
  {
   "cell_type": "markdown",
   "metadata": {},
   "source": [
    "_in LeverData voltage_"
   ]
  },
  {
   "cell_type": "code",
   "execution_count": 17,
   "metadata": {},
   "outputs": [
    {
     "name": "stdout",
     "output_type": "stream",
     "text": [
      "movement_baseline for all trials should be the same:  2.0454545454545454\n",
      "mvt threshold:  0.15 + movement_baseline =  2.1954545454545453\n",
      "nomvt threshold:  0.1 + movement_baseline =  2.1454545454545455\n"
     ]
    }
   ],
   "source": [
    "movement_baseline, movement_threshold, no_movement_threshold = get_movement_thresholds(params, respMTX, threshold_shift)"
   ]
  },
  {
   "cell_type": "markdown",
   "metadata": {},
   "source": [
    "`leverpress_informations`: each selected trial has a row\n",
    "\n",
    "columns are `trial_index` |  `leverpress_left_index` sample when leverpress starts | `leverpress_right_index` sample when leverpress ends"
   ]
  },
  {
   "cell_type": "code",
   "execution_count": 18,
   "metadata": {},
   "outputs": [
    {
     "name": "stdout",
     "output_type": "stream",
     "text": [
      "[0. 0. 0. 0. 0. 0. 0. 0. 0. 0. 0. 0. 0. 0. 0. 0. 0. 0. 0. 0. 0. 0. 0. 0.\n",
      " 0. 0. 0. 0. 0. 0. 0. 0. 0. 0. 0. 0. 0. 0. 0. 0. 0. 0. 0. 0. 0. 0. 0. 0.\n",
      " 0. 0. 0. 0. 0.]\n",
      "Checking trial  0 ...\n",
      "leverpress detection was at below first threshold, try moving leverpress index up...\n",
      "1.690111927668084\n",
      "20859\n",
      "new leverpress index value:  2.1973485545411284\n",
      "finding right threshold...\n",
      "met\n",
      "finding left threshold...\n",
      "met\n",
      "Checking trial  1 ...\n",
      "leverpress detection was at below first threshold, try moving leverpress index up...\n",
      "1.9005182524703463\n",
      "37639\n",
      "new leverpress index value:  2.195938185946645\n",
      "finding right threshold...\n",
      "met\n",
      "finding left threshold...\n",
      "met\n",
      "Checking trial  2 ...\n",
      "leverpress detection was at below first threshold, try moving leverpress index up...\n",
      "2.1425635401740597\n",
      "109900\n",
      "new leverpress index value:  2.1956591130020784\n",
      "finding right threshold...\n",
      "met\n",
      "finding left threshold...\n",
      "met\n",
      "Checking trial  3 ...\n",
      "leverpress detection was at below first threshold, try moving leverpress index up...\n",
      "1.7820366842040167\n",
      "8796\n",
      "new leverpress index value:  2.1958134514714955\n",
      "finding right threshold...\n",
      "met\n",
      "finding left threshold...\n",
      "met\n",
      "Checking trial  4 ...\n",
      "leverpress detection was at below first threshold, try moving leverpress index up...\n",
      "2.042281912499244\n",
      "37320\n",
      "end of trial, did not have leverpress.\n",
      "new leverpress index value:  2.1951752851336024\n",
      "finding right threshold...\n",
      "met\n",
      "finding left threshold...\n",
      "met\n",
      "Checking trial  5 ...\n",
      "leverpress detection was at below first threshold, try moving leverpress index up...\n",
      "2.0126856511110613\n",
      "15745\n",
      "new leverpress index value:  2.1958436087024595\n",
      "finding right threshold...\n",
      "met\n",
      "finding left threshold...\n",
      "met\n",
      "Checking trial  6 ...\n",
      "leverpress detection was at below first threshold, try moving leverpress index up...\n",
      "1.8467954195312055\n",
      "33188\n",
      "end of trial, did not have leverpress.\n",
      "new leverpress index value:  2.1954226900853575\n",
      "finding right threshold...\n"
     ]
    },
    {
     "name": "stdout",
     "output_type": "stream",
     "text": [
      "met\n",
      "finding left threshold...\n",
      "met\n",
      "Checking trial  7 ...\n",
      "leverpress detection was at below first threshold, try moving leverpress index up...\n",
      "2.0980365994952153\n",
      "8591\n",
      "end of trial, did not have leverpress.\n",
      "new leverpress index value:  2.1953104735448363\n",
      "finding right threshold...\n",
      "met\n",
      "finding left threshold...\n",
      "met\n",
      "Checking trial  8 ...\n",
      "finding right threshold...\n",
      "met\n",
      "finding left threshold...\n",
      "met\n",
      "Checking trial  9 ...\n",
      "leverpress detection was at below first threshold, try moving leverpress index up...\n",
      "1.781560974128781\n",
      "12358\n",
      "new leverpress index value:  2.1956021568955526\n",
      "finding right threshold...\n",
      "met\n",
      "finding left threshold...\n",
      "met\n",
      "Checking trial  10 ...\n",
      "leverpress detection was at below first threshold, try moving leverpress index up...\n",
      "1.898185382625599\n",
      "13184\n",
      "new leverpress index value:  2.1962051488892995\n",
      "finding right threshold...\n",
      "met\n",
      "finding left threshold...\n",
      "met\n",
      "Checking trial  11 ...\n",
      "leverpress detection was at below first threshold, try moving leverpress index up...\n",
      "1.898307066174446\n",
      "33635\n",
      "end of trial, did not have leverpress.\n",
      "new leverpress index value:  2.195397400009237\n",
      "finding right threshold...\n",
      "met\n",
      "finding left threshold...\n",
      "met\n",
      "Checking trial  12 ...\n",
      "leverpress detection was at below first threshold, try moving leverpress index up...\n",
      "1.8939246785431134\n",
      "19026\n",
      "new leverpress index value:  2.195573224233256\n",
      "finding right threshold...\n",
      "met\n",
      "finding left threshold...\n",
      "met\n",
      "Checking trial  14 ...\n",
      "leverpress detection was at below first threshold, try moving leverpress index up...\n",
      "1.8757140767099831\n",
      "14664\n",
      "new leverpress index value:  2.196101440623958\n",
      "finding right threshold...\n",
      "met\n",
      "finding left threshold...\n",
      "met\n",
      "Checking trial  15 ...\n",
      "leverpress detection was at below first threshold, try moving leverpress index up...\n",
      "2.0556874771431146\n",
      "24198\n",
      "end of trial, did not have leverpress.\n",
      "new leverpress index value:  2.1951589618374205\n",
      "finding right threshold...\n",
      "met\n",
      "finding left threshold...\n",
      "met\n",
      "Checking trial  16 ...\n",
      "leverpress detection was at below first threshold, try moving leverpress index up...\n",
      "1.83629485909163\n",
      "121731\n",
      "end of trial, did not have leverpress.\n",
      "new leverpress index value:  2.1950484752030057\n",
      "finding right threshold...\n",
      "met\n",
      "finding left threshold...\n",
      "met\n",
      "Checking trial  17 ...\n",
      "leverpress detection was at below first threshold, try moving leverpress index up...\n",
      "1.877356046876205\n",
      "82889\n",
      "new leverpress index value:  2.195772030741166\n",
      "finding right threshold...\n",
      "met\n",
      "finding left threshold...\n",
      "met\n",
      "Checking trial  19 ...\n",
      "leverpress detection was at below first threshold, try moving leverpress index up...\n",
      "1.8689692955830282\n",
      "19809\n",
      "end of trial, did not have leverpress.\n",
      "new leverpress index value:  2.1938978022930082\n",
      "finding right threshold...\n",
      "met\n",
      "finding left threshold...\n",
      "met\n",
      "Checking trial  21 ...\n",
      "leverpress detection was at below first threshold, try moving leverpress index up...\n",
      "1.7971202793655983\n",
      "89788\n",
      "new leverpress index value:  2.195525685686945\n",
      "finding right threshold...\n",
      "met\n",
      "finding left threshold...\n",
      "met\n",
      "Checking trial  22 ...\n",
      "finding right threshold...\n",
      "met\n",
      "finding left threshold...\n",
      "met\n",
      "Checking trial  24 ...\n",
      "leverpress detection was at below first threshold, try moving leverpress index up...\n",
      "2.113360046392666\n",
      "92094\n",
      "end of trial, did not have leverpress.\n",
      "new leverpress index value:  2.1945996776076147\n",
      "finding right threshold...\n",
      "met\n",
      "finding left threshold...\n",
      "met\n",
      "Checking trial  26 ...\n",
      "leverpress detection was at below first threshold, try moving leverpress index up...\n",
      "1.866998807492239\n",
      "109553\n",
      "end of trial, did not have leverpress.\n",
      "new leverpress index value:  2.195222702171816\n",
      "finding right threshold...\n",
      "met\n",
      "finding left threshold...\n",
      "met\n",
      "Checking trial  30 ...\n",
      "leverpress detection was at below first threshold, try moving leverpress index up...\n",
      "1.911957474814173\n",
      "75027\n",
      "new leverpress index value:  2.1962230170600163\n",
      "finding right threshold...\n",
      "met\n",
      "finding left threshold...\n",
      "met\n",
      "Checking trial  31 ...\n",
      "leverpress detection was at below first threshold, try moving leverpress index up...\n",
      "1.926096420880671\n",
      "58225\n",
      "new leverpress index value:  2.195688194658363\n",
      "finding right threshold...\n",
      "met\n",
      "finding left threshold...\n",
      "met\n",
      "Checking trial  32 ...\n",
      "finding right threshold...\n",
      "met\n",
      "finding left threshold...\n",
      "met\n",
      "Checking trial  33 ...\n",
      "leverpress detection was at below first threshold, try moving leverpress index up...\n",
      "2.1358675100241302\n",
      "99937\n",
      "new leverpress index value:  2.196290666346684\n",
      "finding right threshold...\n",
      "met\n",
      "finding left threshold...\n",
      "met\n",
      "Checking trial  34 ...\n",
      "leverpress detection was at below first threshold, try moving leverpress index up...\n",
      "2.1317106187080466\n",
      "132944\n",
      "new leverpress index value:  2.195890095137386\n",
      "finding right threshold...\n",
      "met\n",
      "finding left threshold...\n",
      "met\n",
      "Checking trial  35 ...\n",
      "leverpress detection was at below first threshold, try moving leverpress index up...\n",
      "2.037768240825211\n",
      "101545\n",
      "new leverpress index value:  2.1956335180981017\n",
      "finding right threshold...\n",
      "met\n",
      "finding left threshold...\n",
      "met\n",
      "Checking trial  37 ...\n",
      "leverpress detection was at below first threshold, try moving leverpress index up...\n",
      "1.6891788232231137\n",
      "11364\n",
      "new leverpress index value:  2.1958893539645126\n",
      "finding right threshold...\n",
      "met\n",
      "finding left threshold...\n",
      "met\n",
      "Checking trial  38 ...\n",
      "leverpress detection was at below first threshold, try moving leverpress index up...\n",
      "2.0334831407424465\n",
      "81808\n",
      "new leverpress index value:  2.196025853732365\n",
      "finding right threshold...\n",
      "met\n",
      "finding left threshold...\n",
      "met\n",
      "Checking trial  39 ...\n",
      "finding right threshold...\n",
      "met\n",
      "finding left threshold...\n",
      "met\n",
      "Checking trial  40 ...\n",
      "finding right threshold...\n",
      "met\n",
      "finding left threshold...\n",
      "met\n",
      "Checking trial  41 ...\n",
      "leverpress detection was at below first threshold, try moving leverpress index up...\n",
      "2.0370824913021006\n",
      "56696\n",
      "end of trial, did not have leverpress.\n",
      "new leverpress index value:  2.195338729223441\n",
      "finding right threshold...\n",
      "met\n",
      "finding left threshold...\n",
      "met\n",
      "Checking trial  42 ...\n",
      "leverpress detection was at below first threshold, try moving leverpress index up...\n",
      "1.8962407425436267\n",
      "107286\n",
      "new leverpress index value:  2.195675942260316\n",
      "finding right threshold...\n",
      "met\n",
      "finding left threshold...\n",
      "met\n",
      "Checking trial  43 ...\n",
      "leverpress detection was at below first threshold, try moving leverpress index up...\n",
      "1.9366029018313369\n",
      "148035\n",
      "new leverpress index value:  2.1955574649901193\n",
      "finding right threshold...\n",
      "met\n",
      "finding left threshold...\n",
      "met\n",
      "Checking trial  46 ...\n",
      "leverpress detection was at below first threshold, try moving leverpress index up...\n",
      "1.9204957403434229\n",
      "118376\n",
      "new leverpress index value:  2.1957491004589933\n",
      "finding right threshold...\n",
      "met\n",
      "finding left threshold...\n",
      "met\n",
      "Checking trial  52 ...\n",
      "leverpress detection was at below first threshold, try moving leverpress index up...\n",
      "1.9260614951074082\n",
      "144158\n",
      "new leverpress index value:  2.1956194762680545\n",
      "finding right threshold...\n",
      "met\n",
      "finding left threshold...\n",
      "met\n",
      "number of extracted leverpresses  37\n"
     ]
    }
   ],
   "source": [
    "hit_leverpress_informations = extract_leverpresses(hit_trials, PreprocessLeverData_folder, \\\n",
    "                                              movement_baseline, movement_threshold, no_movement_threshold,\\\n",
    "                                                output_folder)"
   ]
  },
  {
   "cell_type": "markdown",
   "metadata": {},
   "source": [
    "### Save movements from `movements` into separate \"movement_trial#\" .npy files\n",
    "`movement`: first row is times, second row is leverdata\n",
    "\n",
    "Movements will have MVT0 subtracted off and be temporally aligned to be comparable"
   ]
  },
  {
   "cell_type": "code",
   "execution_count": 19,
   "metadata": {},
   "outputs": [],
   "source": [
    "hit_movements = extract_movement_intervals(hit_leverpress_informations, \\\n",
    "                                           'processed', PreprocessLeverData_folder, PreprocessLeverData_folder, output_folder, \\\n",
    "                                            movement_baseline)"
   ]
  },
  {
   "cell_type": "markdown",
   "metadata": {},
   "source": [
    "check by plotting movements that are MVT0 subtracted and temporally aligned:"
   ]
  },
  {
   "cell_type": "code",
   "execution_count": 20,
   "metadata": {},
   "outputs": [
    {
     "data": {
      "image/png": "[encoded data removed]",
      "text/plain": [
       "<Figure size 500x400 with 1 Axes>"
      ]
     },
     "metadata": {},
     "output_type": "display_data"
    }
   ],
   "source": [
    "set_matplotlib_settings()\n",
    "\n",
    "for hit_movement in hit_movements:\n",
    "    # also check by plotting all of the movements\n",
    "    plt.plot(hit_movement[0, :], hit_movement[1, :])\n",
    "plt.title(\"Movements: from first to third threshold \\n\"+session)\n",
    "plt.xlabel(\"time from hitting first threshold (s)\")\n",
    "plt.ylabel(\"$\\Delta$V from MVT0 (displacement)\")\n",
    "\n",
    "plt.savefig(output_folder+\"plot_movements.png\")\n",
    "plt.show()"
   ]
  }
 ],
 "metadata": {
  "kernelspec": {
   "display_name": "Python 3",
   "language": "python",
   "name": "python3"
  },
  "language_info": {
   "codemirror_mode": {
    "name": "ipython",
    "version": 3
   },
   "file_extension": ".py",
   "mimetype": "text/x-python",
   "name": "python",
   "nbconvert_exporter": "python",
   "pygments_lexer": "ipython3",
   "version": "3.11.6"
  }
 },
 "nbformat": 4,
 "nbformat_minor": 2
}
