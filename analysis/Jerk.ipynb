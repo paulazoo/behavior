{
 "cells": [
  {
   "cell_type": "markdown",
   "metadata": {},
   "source": [
    "### set session"
   ]
  },
  {
   "cell_type": "code",
   "execution_count": 176,
   "metadata": {},
   "outputs": [],
   "source": [
    "name = 'ANB1'\n",
    "session = '20231030_d5'\n",
    "num_trials = 183\n",
    "day = 5"
   ]
  },
  {
   "cell_type": "markdown",
   "metadata": {},
   "source": [
    "### imports"
   ]
  },
  {
   "cell_type": "code",
   "execution_count": 175,
   "metadata": {},
   "outputs": [],
   "source": [
    "from scipy import io\n",
    "import numpy as np\n",
    "import matplotlib.pyplot as plt\n",
    "import statistics\n",
    "import pandas as pd\n",
    "import scipy.signal as signal\n",
    "import scipy.interpolate as interpolate\n",
    "import pickle\n",
    "import glob # find files in a directory\n",
    "import re # regex for string parsing\n",
    "\n",
    "from common.set_matplotlib_settings import set_matplotlib_settings\n",
    "from common.load_tonedisc_matfile import load_tonedisc_matfile\n",
    "from common.select_trials import select_hit_trials\n",
    "from common.make_percent_scaled import make_percent_scaled\n",
    "from common.extract_movement_intervals import extract_movement_intervals\n",
    "from jerk.get_jerks import get_jerks"
   ]
  },
  {
   "cell_type": "code",
   "execution_count": 177,
   "metadata": {},
   "outputs": [],
   "source": [
    "tone_discriminiation_matfile = '../Data_Copy/ToneDiscrimination/'+name+'/ToneDisc_'+name+'_'+session+'.mat'\n",
    "params, response, respMTX, MTXTrialType, num_trials = load_tonedisc_matfile(tone_discriminiation_matfile)\n",
    "\n",
    "Velocity_folder = \"../Data_Copy/AnalysisData/\"+name+\"/Velocity_\"+name+\"_\"+session+\"/\"\n",
    "PreprocessLeverData_folder = \"../Data_Copy/AnalysisData/\"+name+\"/PreprocessLeverData_\"+name+\"_\"+session+\"/\"\n",
    "HitMovements_folder = \"../Data_Copy/AnalysisData/\"+name+\"/HitMovements_\"+name+\"_\"+session+\"/\"\n",
    "output_folder = \"../Data_Copy/AnalysisData/\"+name+\"/Jerk_\"+name+\"_\"+session+\"/\""
   ]
  },
  {
   "cell_type": "markdown",
   "metadata": {},
   "source": [
    "for mac:"
   ]
  },
  {
   "cell_type": "code",
   "execution_count": 178,
   "metadata": {},
   "outputs": [
    {
     "name": "stderr",
     "output_type": "stream",
     "text": [
      "The syntax of the command is incorrect.\n"
     ]
    }
   ],
   "source": [
    "!mkdir {output_folder}"
   ]
  },
  {
   "cell_type": "markdown",
   "metadata": {},
   "source": [
    "for windows:"
   ]
  },
  {
   "cell_type": "code",
   "execution_count": 179,
   "metadata": {},
   "outputs": [
    {
     "name": "stderr",
     "output_type": "stream",
     "text": [
      "A subdirectory or file ../Data_Copy/AnalysisData/ANB1/analysis6_ANB1_20231030_d5/ already exists.\n"
     ]
    }
   ],
   "source": [
    "!mkdir \"{output_folder}\""
   ]
  },
  {
   "cell_type": "markdown",
   "metadata": {},
   "source": [
    "### An example window cutoff frequency calculation"
   ]
  },
  {
   "cell_type": "code",
   "execution_count": null,
   "metadata": {},
   "outputs": [],
   "source": [
    "samples = 201\n",
    "f_sampling = 5888\n",
    "M = (samples - 1) / 2\n",
    "f_c=5 / (3.2*M - 4.6)\n",
    "f_cutoff = f_c /2 *f_sampling\n",
    "print('f_cutoff', f_cutoff, \"Hz =\", 1/(f_cutoff) *1000, 'ms')\n",
    "print('200 Hz = 5 ms')\n",
    "print('fastest movement: about', 1/50 * 1000, 'ms')"
   ]
  },
  {
   "cell_type": "markdown",
   "metadata": {},
   "source": [
    "### calculate jerks for all trials"
   ]
  },
  {
   "cell_type": "code",
   "execution_count": null,
   "metadata": {},
   "outputs": [],
   "source": [
    "window_duration = 1.0\n",
    "get_jerks(num_trials, window_duration, Velocity_folder, PreprocessLeverData_folder, output_folder)"
   ]
  },
  {
   "cell_type": "markdown",
   "metadata": {},
   "source": [
    "### Extract just the leverpress movement jerks"
   ]
  },
  {
   "cell_type": "code",
   "execution_count": null,
   "metadata": {},
   "outputs": [],
   "source": [
    "hit_movement_informations = np.load(HitMovements_folder+\"leverpress_informations.npy\")\n",
    "jerks = extract_movement_intervals(hit_movement_informations, 'jerk', output_folder, PreprocessLeverData_folder, output_folder)"
   ]
  },
  {
   "cell_type": "markdown",
   "metadata": {},
   "source": [
    "plot"
   ]
  },
  {
   "cell_type": "code",
   "execution_count": null,
   "metadata": {},
   "outputs": [],
   "source": [
    "set_matplotlib_settings()\n",
    "\n",
    "for jerk in jerks:\n",
    "    plt.plot(jerk[0,:],jerk[1,:])\n",
    "plt.xlabel(\"Time (s)\")\n",
    "plt.ylabel(\"V/s^2\")\n",
    "plt.ylim([-0.003, 0.003])\n",
    "plt.title(\"Jerk profiles from first to third threshold \\n\"+session)\n",
    "plt.show()"
   ]
  },
  {
   "cell_type": "markdown",
   "metadata": {},
   "source": [
    "### Make completion scaled jerks"
   ]
  },
  {
   "cell_type": "code",
   "execution_count": null,
   "metadata": {},
   "outputs": [],
   "source": [
    "hit_trials = select_hit_trials(respMTX, num_trials)\n",
    "num_interpolation_samples = 10*10000\n",
    "jerks_percent_scaled = make_percent_scaled(hit_trials, num_interpolation_samples, 'jerk', output_folder, output_folder)"
   ]
  },
  {
   "cell_type": "markdown",
   "metadata": {},
   "source": [
    "plot"
   ]
  },
  {
   "cell_type": "code",
   "execution_count": null,
   "metadata": {},
   "outputs": [],
   "source": [
    "x_range = np.array(range(0,num_interpolation_samples)) * 100 / num_interpolation_samples\n",
    "for jerk_percent_scaled in jerks_percent_scaled:\n",
    "    plt.plot(x_range, jerk_percent_scaled)\n",
    "plt.xlabel(\"% movement completion\")\n",
    "plt.ylabel(\"V/s\")\n",
    "plt.title(\"Jerk profiles from first to third threshold \\n\"+session)\n",
    "plt.show()"
   ]
  },
  {
   "cell_type": "markdown",
   "metadata": {},
   "source": [
    "### Find the peak of the movement"
   ]
  },
  {
   "cell_type": "markdown",
   "metadata": {},
   "source": [
    "Find the index of the maximum value of leverdata in movement_trial#.npy"
   ]
  },
  {
   "cell_type": "markdown",
   "metadata": {},
   "source": [
    "### Calculate the minimum jerk from start of movement to peak"
   ]
  },
  {
   "cell_type": "markdown",
   "metadata": {},
   "source": [
    "1) $x(0)=x_0$\n",
    "2) $v(0)=v_0$\n",
    "3) $a(0)=a_0$ and \n",
    "4) $x(t_f)=x_f$\n",
    "5) $v(t_f)=v_f$\n",
    "6) $a(t_f)=a_f$\n",
    "\n",
    "- First point is the left_index, second point is the peak\n",
    "- Record the leverdata value\n",
    "- record the velocity value\n",
    "- acceleration = velocity derivative of a Taylor polynomial of degree 4 with a window of window_duration at each of the points\n",
    "- solve boundary conditions\n"
   ]
  },
  {
   "cell_type": "markdown",
   "metadata": {},
   "source": [
    "### Calculate the minimum jerk from peak to end of movement"
   ]
  },
  {
   "cell_type": "markdown",
   "metadata": {},
   "source": []
  }
 ],
 "metadata": {
  "kernelspec": {
   "display_name": "Python 3",
   "language": "python",
   "name": "python3"
  },
  "language_info": {
   "codemirror_mode": {
    "name": "ipython",
    "version": 3
   },
   "file_extension": ".py",
   "mimetype": "text/x-python",
   "name": "python",
   "nbconvert_exporter": "python",
   "pygments_lexer": "ipython3",
   "version": "3.11.5"
  }
 },
 "nbformat": 4,
 "nbformat_minor": 2
}
