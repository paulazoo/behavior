{
 "cells": [
  {
   "cell_type": "markdown",
   "metadata": {},
   "source": [
    "### set folder_name and day session to analyze"
   ]
  },
  {
   "cell_type": "code",
   "execution_count": 6,
   "metadata": {},
   "outputs": [],
   "source": [
    "name = 'ANM1'\n",
    "session = '20240214_d9'"
   ]
  },
  {
   "cell_type": "markdown",
   "metadata": {},
   "source": [
    "### imports"
   ]
  },
  {
   "cell_type": "code",
   "execution_count": 7,
   "metadata": {},
   "outputs": [],
   "source": [
    "from scipy import io\n",
    "import numpy as np\n",
    "import pylab as pl\n",
    "import matplotlib.pyplot as plt\n",
    "import statistics\n",
    "import re\n",
    "import glob\n",
    "import scipy.signal as signal\n",
    "import pickle\n",
    "\n",
    "from common.load_tonedisc_matfile import load_tonedisc_matfile\n",
    "from common.align_times import get_leverdata_indices\n",
    "from preprocess_leverdata.get_trial_frequencies import get_trial_frequencies\n",
    "from preprocess_leverdata.butterworth_filter_leverdata import butterworth_filter_leverdata\n",
    "from preprocess_leverdata.rescale_leverdata import rescale_leverdata\n",
    "from preprocess_leverdata.view_processed_trial_FFT import view_processed_trial_FFT\n",
    "from preprocess_leverdata.calculate_leverdata_sample_times import calculate_leverdata_sample_times"
   ]
  },
  {
   "cell_type": "markdown",
   "metadata": {},
   "source": [
    "### Setup folders and matfiles"
   ]
  },
  {
   "cell_type": "code",
   "execution_count": 8,
   "metadata": {},
   "outputs": [
    {
     "name": "stdout",
     "output_type": "stream",
     "text": [
      "respMTX shape: (132, 7)\n",
      "MTXTrialType shape: (1, 1)\n",
      "number of trials: 132\n"
     ]
    }
   ],
   "source": [
    "tone_discriminiation_matfile = '../Data_Copy/ToneDiscriminationData/'+name+'/ToneDisc_'+name+'_'+session+'.mat'\n",
    "params, response, arduino, respMTX, MTXTrialType = load_tonedisc_matfile(tone_discriminiation_matfile)\n",
    "\n",
    "output_folder = \"../Data_Copy/AnalysisData/\"+name+\"/PreprocessLeverData_\"+name+\"_\"+session+\"/\"\n",
    "leverdata_matfile = \"../Data_Copy/LeverData/\"+name+\"/LeverData_\"+name+\"_\"+session+\".mat\""
   ]
  },
  {
   "cell_type": "code",
   "execution_count": 9,
   "metadata": {},
   "outputs": [
    {
     "ename": "FileNotFoundError",
     "evalue": "[Errno 2] No such file or directory: '../Data_Copy/LeverData/ANM1/LeverData_ANM1_20240214_d9.mat'",
     "output_type": "error",
     "traceback": [
      "\u001b[0;31m---------------------------------------------------------------------------\u001b[0m",
      "\u001b[0;31mFileNotFoundError\u001b[0m                         Traceback (most recent call last)",
      "Cell \u001b[0;32mIn[9], line 1\u001b[0m\n\u001b[0;32m----> 1\u001b[0m \u001b[38;5;28;43mopen\u001b[39;49m\u001b[43m(\u001b[49m\u001b[43mleverdata_matfile\u001b[49m\u001b[43m)\u001b[49m\n",
      "File \u001b[0;32m/opt/homebrew/lib/python3.11/site-packages/IPython/core/interactiveshell.py:310\u001b[0m, in \u001b[0;36m_modified_open\u001b[0;34m(file, *args, **kwargs)\u001b[0m\n\u001b[1;32m    303\u001b[0m \u001b[38;5;28;01mif\u001b[39;00m file \u001b[38;5;129;01min\u001b[39;00m {\u001b[38;5;241m0\u001b[39m, \u001b[38;5;241m1\u001b[39m, \u001b[38;5;241m2\u001b[39m}:\n\u001b[1;32m    304\u001b[0m     \u001b[38;5;28;01mraise\u001b[39;00m \u001b[38;5;167;01mValueError\u001b[39;00m(\n\u001b[1;32m    305\u001b[0m         \u001b[38;5;124mf\u001b[39m\u001b[38;5;124m\"\u001b[39m\u001b[38;5;124mIPython won\u001b[39m\u001b[38;5;124m'\u001b[39m\u001b[38;5;124mt let you open fd=\u001b[39m\u001b[38;5;132;01m{\u001b[39;00mfile\u001b[38;5;132;01m}\u001b[39;00m\u001b[38;5;124m by default \u001b[39m\u001b[38;5;124m\"\u001b[39m\n\u001b[1;32m    306\u001b[0m         \u001b[38;5;124m\"\u001b[39m\u001b[38;5;124mas it is likely to crash IPython. If you know what you are doing, \u001b[39m\u001b[38;5;124m\"\u001b[39m\n\u001b[1;32m    307\u001b[0m         \u001b[38;5;124m\"\u001b[39m\u001b[38;5;124myou can use builtins\u001b[39m\u001b[38;5;124m'\u001b[39m\u001b[38;5;124m open.\u001b[39m\u001b[38;5;124m\"\u001b[39m\n\u001b[1;32m    308\u001b[0m     )\n\u001b[0;32m--> 310\u001b[0m \u001b[38;5;28;01mreturn\u001b[39;00m \u001b[43mio_open\u001b[49m\u001b[43m(\u001b[49m\u001b[43mfile\u001b[49m\u001b[43m,\u001b[49m\u001b[43m \u001b[49m\u001b[38;5;241;43m*\u001b[39;49m\u001b[43margs\u001b[49m\u001b[43m,\u001b[49m\u001b[43m \u001b[49m\u001b[38;5;241;43m*\u001b[39;49m\u001b[38;5;241;43m*\u001b[39;49m\u001b[43mkwargs\u001b[49m\u001b[43m)\u001b[49m\n",
      "\u001b[0;31mFileNotFoundError\u001b[0m: [Errno 2] No such file or directory: '../Data_Copy/LeverData/ANM1/LeverData_ANM1_20240214_d9.mat'"
     ]
    }
   ],
   "source": [
    "open(leverdata_matfile)"
   ]
  },
  {
   "cell_type": "markdown",
   "metadata": {},
   "source": [
    "For mac:"
   ]
  },
  {
   "cell_type": "code",
   "execution_count": 110,
   "metadata": {},
   "outputs": [
    {
     "name": "stdout",
     "output_type": "stream",
     "text": [
      "mkdir: ../Data_Copy/AnalysisData/ANM4/PreprocessLeverData_ANM4_20240213_d1/: File exists\n"
     ]
    }
   ],
   "source": [
    "!mkdir {output_folder}"
   ]
  },
  {
   "cell_type": "markdown",
   "metadata": {},
   "source": [
    "For windows:"
   ]
  },
  {
   "cell_type": "code",
   "execution_count": 111,
   "metadata": {},
   "outputs": [
    {
     "name": "stdout",
     "output_type": "stream",
     "text": [
      "mkdir: ../Data_Copy/AnalysisData/ANM4/PreprocessLeverData_ANM4_20240213_d1/: File exists\n"
     ]
    }
   ],
   "source": [
    "!mkdir \"{output_folder}\""
   ]
  },
  {
   "cell_type": "markdown",
   "metadata": {},
   "source": [
    "preview trials"
   ]
  },
  {
   "cell_type": "code",
   "execution_count": 112,
   "metadata": {},
   "outputs": [
    {
     "data": {
      "text/plain": [
       "(59, 7)"
      ]
     },
     "execution_count": 112,
     "metadata": {},
     "output_type": "execute_result"
    }
   ],
   "source": [
    "respMTX.shape"
   ]
  },
  {
   "cell_type": "code",
   "execution_count": 113,
   "metadata": {},
   "outputs": [
    {
     "name": "stdout",
     "output_type": "stream",
     "text": [
      "[[7.063785 0.000000]\n",
      " [5.326539 1.000000]\n",
      " [20.452759 2.000000]\n",
      " [26.085240 3.000000]\n",
      " [34.840794 4.000000]\n",
      " [8.253351 5.000000]\n",
      " [6.038934 6.000000]\n",
      " [36.784063 7.000000]\n",
      " [7.245849 8.000000]\n",
      " [6.983772 9.000000]\n",
      " [6.014138 10.000000]\n",
      " [27.873570 11.000000]\n",
      " [9.066830 12.000000]\n",
      " [7.363628 13.000000]\n",
      " [36.958423 14.000000]\n",
      " [19.818578 15.000000]\n",
      " [5.937559 16.000000]\n",
      " [7.453426 17.000000]\n",
      " [35.724327 18.000000]\n",
      " [6.497606 19.000000]\n",
      " [6.006015 20.000000]\n",
      " [36.266686 21.000000]\n",
      " [36.050554 22.000000]\n",
      " [7.936130 23.000000]\n",
      " [5.756002 24.000000]\n",
      " [5.991212 25.000000]\n",
      " [20.457319 26.000000]\n",
      " [7.089535 27.000000]\n",
      " [6.905659 28.000000]\n",
      " [6.643847 29.000000]\n",
      " [12.581020 30.000000]\n",
      " [16.287164 31.000000]\n",
      " [5.742417 32.000000]\n",
      " [16.255459 33.000000]\n",
      " [35.848904 34.000000]\n",
      " [5.954296 35.000000]\n",
      " [6.707542 36.000000]\n",
      " [32.139098 37.000000]\n",
      " [9.663999 38.000000]\n",
      " [7.365010 39.000000]\n",
      " [11.182841 40.000000]\n",
      " [6.945831 41.000000]\n",
      " [8.474034 42.000000]\n",
      " [7.169877 43.000000]\n",
      " [35.601479 44.000000]\n",
      " [5.990605 45.000000]\n",
      " [22.742718 46.000000]\n",
      " [5.835543 47.000000]\n",
      " [21.175170 48.000000]\n",
      " [5.467563 49.000000]\n",
      " [5.820373 50.000000]\n",
      " [7.243965 51.000000]\n",
      " [7.224007 52.000000]\n",
      " [7.442734 53.000000]\n",
      " [6.443134 54.000000]\n",
      " [7.761876 55.000000]\n",
      " [7.048360 56.000000]\n",
      " [12.111824 57.000000]]\n"
     ]
    }
   ],
   "source": [
    "respMTX_shape = respMTX.shape[0]\n",
    "np.set_printoptions(suppress = True,\n",
    "   formatter = {'float_kind':'{:f}'.format})\n",
    "print(np.hstack((respMTX[1:respMTX_shape, 1:2]-respMTX[0:respMTX_shape-1, 1:2], np.array([np.linspace(0, respMTX_shape-2, respMTX_shape-1)]).transpose())))"
   ]
  },
  {
   "cell_type": "markdown",
   "metadata": {},
   "source": [
    "### Run leverdata2binary.cpp to create binary files for each trial from `lever_data` in the LeverData .mat file"
   ]
  },
  {
   "cell_type": "code",
   "execution_count": 114,
   "metadata": {},
   "outputs": [
    {
     "name": "stdout",
     "output_type": "stream",
     "text": [
      "leverdata from .mat size: 72000000,72000000\n",
      "leverdata from .mat rank: 2\n",
      "leverdata vector size: 72000000\n",
      "leverdata vector with unused rows taken out size: 5095909\n",
      "vector saved to .bin file ../Data_Copy/AnalysisData/ANM4/PreprocessLeverData_ANM4_20240213_d1/full.bin\n",
      "finished a trialITI: 71832 index:0 trialITI length: 41482 samples = ~7s\n",
      "vector saved to .bin file ../Data_Copy/AnalysisData/ANM4/PreprocessLeverData_ANM4_20240213_d1/trial0.bin\n",
      "finished a trialITI: 103113 index:1 trialITI length: 31281 samples = ~5s\n",
      "vector saved to .bin file ../Data_Copy/AnalysisData/ANM4/PreprocessLeverData_ANM4_20240213_d1/trial1.bin\n",
      "finished a trialITI: 223224 index:2 trialITI length: 120111 samples = ~20s\n",
      "vector saved to .bin file ../Data_Copy/AnalysisData/ANM4/PreprocessLeverData_ANM4_20240213_d1/trial2.bin\n",
      "finished a trialITI: 376411 index:3 trialITI length: 153187 samples = ~26s\n",
      "vector saved to .bin file ../Data_Copy/AnalysisData/ANM4/PreprocessLeverData_ANM4_20240213_d1/trial3.bin\n",
      "finished a trialITI: 581023 index:4 trialITI length: 204612 samples = ~34s\n",
      "vector saved to .bin file ../Data_Copy/AnalysisData/ANM4/PreprocessLeverData_ANM4_20240213_d1/trial4.bin\n",
      "finished a trialITI: 629492 index:5 trialITI length: 48469 samples = ~8s\n",
      "vector saved to .bin file ../Data_Copy/AnalysisData/ANM4/PreprocessLeverData_ANM4_20240213_d1/trial5.bin\n",
      "finished a trialITI: 664956 index:6 trialITI length: 35464 samples = ~6s\n",
      "vector saved to .bin file ../Data_Copy/AnalysisData/ANM4/PreprocessLeverData_ANM4_20240213_d1/trial6.bin\n",
      "finished a trialITI: 880976 index:7 trialITI length: 216020 samples = ~36s\n",
      "vector saved to .bin file ../Data_Copy/AnalysisData/ANM4/PreprocessLeverData_ANM4_20240213_d1/trial7.bin\n",
      "finished a trialITI: 923528 index:8 trialITI length: 42552 samples = ~7s\n",
      "vector saved to .bin file ../Data_Copy/AnalysisData/ANM4/PreprocessLeverData_ANM4_20240213_d1/trial8.bin\n",
      "finished a trialITI: 964541 index:9 trialITI length: 41013 samples = ~6s\n",
      "vector saved to .bin file ../Data_Copy/AnalysisData/ANM4/PreprocessLeverData_ANM4_20240213_d1/trial9.bin\n",
      "finished a trialITI: 999860 index:10 trialITI length: 35319 samples = ~5s\n",
      "vector saved to .bin file ../Data_Copy/AnalysisData/ANM4/PreprocessLeverData_ANM4_20240213_d1/trial10.bin\n",
      "finished a trialITI: 1163552 index:11 trialITI length: 163692 samples = ~27s\n",
      "vector saved to .bin file ../Data_Copy/AnalysisData/ANM4/PreprocessLeverData_ANM4_20240213_d1/trial11.bin\n",
      "finished a trialITI: 1216798 index:12 trialITI length: 53246 samples = ~9s\n",
      "vector saved to .bin file ../Data_Copy/AnalysisData/ANM4/PreprocessLeverData_ANM4_20240213_d1/trial12.bin\n",
      "finished a trialITI: 1260042 index:13 trialITI length: 43244 samples = ~7s\n",
      "vector saved to .bin file ../Data_Copy/AnalysisData/ANM4/PreprocessLeverData_ANM4_20240213_d1/trial13.bin\n",
      "finished a trialITI: 1477085 index:14 trialITI length: 217043 samples = ~36s\n",
      "vector saved to .bin file ../Data_Copy/AnalysisData/ANM4/PreprocessLeverData_ANM4_20240213_d1/trial14.bin\n",
      "finished a trialITI: 1593473 index:15 trialITI length: 116388 samples = ~19s\n",
      "vector saved to .bin file ../Data_Copy/AnalysisData/ANM4/PreprocessLeverData_ANM4_20240213_d1/trial15.bin\n",
      "finished a trialITI: 1628342 index:16 trialITI length: 34869 samples = ~5s\n",
      "vector saved to .bin file ../Data_Copy/AnalysisData/ANM4/PreprocessLeverData_ANM4_20240213_d1/trial16.bin\n",
      "finished a trialITI: 1672114 index:17 trialITI length: 43772 samples = ~7s\n",
      "vector saved to .bin file ../Data_Copy/AnalysisData/ANM4/PreprocessLeverData_ANM4_20240213_d1/trial17.bin\n",
      "finished a trialITI: 1881910 index:18 trialITI length: 209796 samples = ~35s\n",
      "vector saved to .bin file ../Data_Copy/AnalysisData/ANM4/PreprocessLeverData_ANM4_20240213_d1/trial18.bin\n",
      "finished a trialITI: 1920068 index:19 trialITI length: 38158 samples = ~6s\n",
      "vector saved to .bin file ../Data_Copy/AnalysisData/ANM4/PreprocessLeverData_ANM4_20240213_d1/trial19.bin\n",
      "finished a trialITI: 1955339 index:20 trialITI length: 35271 samples = ~5s\n",
      "vector saved to .bin file ../Data_Copy/AnalysisData/ANM4/PreprocessLeverData_ANM4_20240213_d1/trial20.bin\n",
      "finished a trialITI: 2168321 index:21 trialITI length: 212982 samples = ~36s\n",
      "vector saved to .bin file ../Data_Copy/AnalysisData/ANM4/PreprocessLeverData_ANM4_20240213_d1/trial21.bin\n",
      "finished a trialITI: 2380033 index:22 trialITI length: 211712 samples = ~35s\n",
      "vector saved to .bin file ../Data_Copy/AnalysisData/ANM4/PreprocessLeverData_ANM4_20240213_d1/trial22.bin\n",
      "finished a trialITI: 2426639 index:23 trialITI length: 46606 samples = ~7s\n",
      "vector saved to .bin file ../Data_Copy/AnalysisData/ANM4/PreprocessLeverData_ANM4_20240213_d1/trial23.bin\n",
      "finished a trialITI: 2460442 index:24 trialITI length: 33803 samples = ~5s\n",
      "vector saved to .bin file ../Data_Copy/AnalysisData/ANM4/PreprocessLeverData_ANM4_20240213_d1/trial24.bin\n",
      "finished a trialITI: 2495627 index:25 trialITI length: 35185 samples = ~5s\n",
      "vector saved to .bin file ../Data_Copy/AnalysisData/ANM4/PreprocessLeverData_ANM4_20240213_d1/trial25.bin\n",
      "finished a trialITI: 2615765 index:26 trialITI length: 120138 samples = ~20s\n",
      "vector saved to .bin file ../Data_Copy/AnalysisData/ANM4/PreprocessLeverData_ANM4_20240213_d1/trial26.bin\n",
      "finished a trialITI: 2657399 index:27 trialITI length: 41634 samples = ~7s\n",
      "vector saved to .bin file ../Data_Copy/AnalysisData/ANM4/PreprocessLeverData_ANM4_20240213_d1/trial27.bin\n",
      "finished a trialITI: 2697953 index:28 trialITI length: 40554 samples = ~6s\n",
      "vector saved to .bin file ../Data_Copy/AnalysisData/ANM4/PreprocessLeverData_ANM4_20240213_d1/trial28.bin\n",
      "finished a trialITI: 2736971 index:29 trialITI length: 39018 samples = ~6s\n",
      "vector saved to .bin file ../Data_Copy/AnalysisData/ANM4/PreprocessLeverData_ANM4_20240213_d1/trial29.bin\n",
      "finished a trialITI: 2810854 index:30 trialITI length: 73883 samples = ~12s\n",
      "vector saved to .bin file ../Data_Copy/AnalysisData/ANM4/PreprocessLeverData_ANM4_20240213_d1/trial30.bin\n",
      "finished a trialITI: 2906503 index:31 trialITI length: 95649 samples = ~16s\n",
      "vector saved to .bin file ../Data_Copy/AnalysisData/ANM4/PreprocessLeverData_ANM4_20240213_d1/trial31.bin\n",
      "finished a trialITI: 2940226 index:32 trialITI length: 33723 samples = ~5s\n",
      "vector saved to .bin file ../Data_Copy/AnalysisData/ANM4/PreprocessLeverData_ANM4_20240213_d1/trial32.bin\n",
      "finished a trialITI: 3035689 index:33 trialITI length: 95463 samples = ~16s\n",
      "vector saved to .bin file ../Data_Copy/AnalysisData/ANM4/PreprocessLeverData_ANM4_20240213_d1/trial33.bin\n",
      "finished a trialITI: 3246217 index:34 trialITI length: 210528 samples = ~35s\n",
      "vector saved to .bin file ../Data_Copy/AnalysisData/ANM4/PreprocessLeverData_ANM4_20240213_d1/trial34.bin\n",
      "finished a trialITI: 3281184 index:35 trialITI length: 34967 samples = ~5s\n",
      "vector saved to .bin file ../Data_Copy/AnalysisData/ANM4/PreprocessLeverData_ANM4_20240213_d1/trial35.bin\n",
      "finished a trialITI: 3320575 index:36 trialITI length: 39391 samples = ~6s\n",
      "vector saved to .bin file ../Data_Copy/AnalysisData/ANM4/PreprocessLeverData_ANM4_20240213_d1/trial36.bin\n",
      "finished a trialITI: 3509317 index:37 trialITI length: 188742 samples = ~32s\n",
      "vector saved to .bin file ../Data_Copy/AnalysisData/ANM4/PreprocessLeverData_ANM4_20240213_d1/trial37.bin\n",
      "finished a trialITI: 3566070 index:38 trialITI length: 56753 samples = ~9s\n",
      "vector saved to .bin file ../Data_Copy/AnalysisData/ANM4/PreprocessLeverData_ANM4_20240213_d1/trial38.bin\n",
      "finished a trialITI: 3609323 index:39 trialITI length: 43253 samples = ~7s\n",
      "vector saved to .bin file ../Data_Copy/AnalysisData/ANM4/PreprocessLeverData_ANM4_20240213_d1/trial39.bin\n",
      "finished a trialITI: 3674995 index:40 trialITI length: 65672 samples = ~11s\n",
      "vector saved to .bin file ../Data_Copy/AnalysisData/ANM4/PreprocessLeverData_ANM4_20240213_d1/trial40.bin\n",
      "finished a trialITI: 3715785 index:41 trialITI length: 40790 samples = ~6s\n",
      "vector saved to .bin file ../Data_Copy/AnalysisData/ANM4/PreprocessLeverData_ANM4_20240213_d1/trial41.bin\n",
      "finished a trialITI: 3765550 index:42 trialITI length: 49765 samples = ~8s\n",
      "vector saved to .bin file ../Data_Copy/AnalysisData/ANM4/PreprocessLeverData_ANM4_20240213_d1/trial42.bin\n",
      "finished a trialITI: 3807657 index:43 trialITI length: 42107 samples = ~7s\n",
      "vector saved to .bin file ../Data_Copy/AnalysisData/ANM4/PreprocessLeverData_ANM4_20240213_d1/trial43.bin\n",
      "finished a trialITI: 4016731 index:44 trialITI length: 209074 samples = ~35s\n",
      "vector saved to .bin file ../Data_Copy/AnalysisData/ANM4/PreprocessLeverData_ANM4_20240213_d1/trial44.bin\n",
      "finished a trialITI: 4051912 index:45 trialITI length: 35181 samples = ~5s\n",
      "vector saved to .bin file ../Data_Copy/AnalysisData/ANM4/PreprocessLeverData_ANM4_20240213_d1/trial45.bin\n",
      "finished a trialITI: 4185472 index:46 trialITI length: 133560 samples = ~22s\n",
      "vector saved to .bin file ../Data_Copy/AnalysisData/ANM4/PreprocessLeverData_ANM4_20240213_d1/trial46.bin\n",
      "finished a trialITI: 4219743 index:47 trialITI length: 34271 samples = ~5s\n",
      "vector saved to .bin file ../Data_Copy/AnalysisData/ANM4/PreprocessLeverData_ANM4_20240213_d1/trial47.bin\n",
      "finished a trialITI: 4344096 index:48 trialITI length: 124353 samples = ~21s\n",
      "vector saved to .bin file ../Data_Copy/AnalysisData/ANM4/PreprocessLeverData_ANM4_20240213_d1/trial48.bin\n",
      "finished a trialITI: 4376206 index:49 trialITI length: 32110 samples = ~5s\n",
      "vector saved to .bin file ../Data_Copy/AnalysisData/ANM4/PreprocessLeverData_ANM4_20240213_d1/trial49.bin\n",
      "finished a trialITI: 4410386 index:50 trialITI length: 34180 samples = ~5s\n",
      "vector saved to .bin file ../Data_Copy/AnalysisData/ANM4/PreprocessLeverData_ANM4_20240213_d1/trial50.bin\n",
      "finished a trialITI: 4452927 index:51 trialITI length: 42541 samples = ~7s\n",
      "vector saved to .bin file ../Data_Copy/AnalysisData/ANM4/PreprocessLeverData_ANM4_20240213_d1/trial51.bin\n",
      "finished a trialITI: 4495352 index:52 trialITI length: 42425 samples = ~7s\n",
      "vector saved to .bin file ../Data_Copy/AnalysisData/ANM4/PreprocessLeverData_ANM4_20240213_d1/trial52.bin\n",
      "finished a trialITI: 4539061 index:53 trialITI length: 43709 samples = ~7s\n",
      "vector saved to .bin file ../Data_Copy/AnalysisData/ANM4/PreprocessLeverData_ANM4_20240213_d1/trial53.bin\n",
      "finished a trialITI: 4576899 index:54 trialITI length: 37838 samples = ~6s\n",
      "vector saved to .bin file ../Data_Copy/AnalysisData/ANM4/PreprocessLeverData_ANM4_20240213_d1/trial54.bin\n",
      "finished a trialITI: 4622481 index:55 trialITI length: 45582 samples = ~7s\n",
      "vector saved to .bin file ../Data_Copy/AnalysisData/ANM4/PreprocessLeverData_ANM4_20240213_d1/trial55.bin\n",
      "finished a trialITI: 4663874 index:56 trialITI length: 41393 samples = ~7s\n",
      "vector saved to .bin file ../Data_Copy/AnalysisData/ANM4/PreprocessLeverData_ANM4_20240213_d1/trial56.bin\n",
      "finished a trialITI: 4735001 index:57 trialITI length: 71127 samples = ~12s\n",
      "vector saved to .bin file ../Data_Copy/AnalysisData/ANM4/PreprocessLeverData_ANM4_20240213_d1/trial57.bin\n",
      "total switches/trials detected: 58\n"
     ]
    }
   ],
   "source": [
    "!./preprocess_leverdata/leverdata2binary {output_folder} {leverdata_matfile} 30350"
   ]
  },
  {
   "cell_type": "markdown",
   "metadata": {},
   "source": [
    "change `num_trials` if seems like `lever_data` stopped before behavior (if total trials detected is less than `num_trials` from `respMTX`)"
   ]
  },
  {
   "cell_type": "code",
   "execution_count": 115,
   "metadata": {},
   "outputs": [],
   "source": [
    "num_trials = 58"
   ]
  },
  {
   "cell_type": "markdown",
   "metadata": {},
   "source": [
    "### Look at sampling rates for the `lever_data`"
   ]
  },
  {
   "cell_type": "code",
   "execution_count": 116,
   "metadata": {},
   "outputs": [
    {
     "name": "stdout",
     "output_type": "stream",
     "text": [
      "Trial  0\n",
      "Duration in MATLAB seconds from respMTX:  7.063784700000001\n",
      "Number of leverdata samples:  41482\n",
      "Estimated freq:  5872.489290337515\n",
      "Trial  1\n",
      "Duration in MATLAB seconds from respMTX:  5.326538999999999\n",
      "Number of leverdata samples:  31281\n",
      "Estimated freq:  5872.668913153552\n",
      "Trial  2\n",
      "Duration in MATLAB seconds from respMTX:  20.452758700000004\n",
      "Number of leverdata samples:  120111\n",
      "Estimated freq:  5872.606319850631\n",
      "Trial  3\n",
      "Duration in MATLAB seconds from respMTX:  26.0852401\n",
      "Number of leverdata samples:  153187\n",
      "Estimated freq:  5872.554724922774\n",
      "Trial  4\n",
      "Duration in MATLAB seconds from respMTX:  34.8407942\n"
     ]
    },
    {
     "name": "stdout",
     "output_type": "stream",
     "text": [
      "Number of leverdata samples:  204612\n",
      "Estimated freq:  5872.7708336797905\n",
      "Trial  5\n",
      "Duration in MATLAB seconds from respMTX:  8.253350900000001\n",
      "Number of leverdata samples:  48469\n",
      "Estimated freq:  5872.64501258513\n",
      "Trial  6\n",
      "Duration in MATLAB seconds from respMTX:  6.038933700000001\n",
      "Number of leverdata samples:  35464\n",
      "Estimated freq:  5872.559918980398\n",
      "Trial  7\n",
      "Duration in MATLAB seconds from respMTX:  36.78406349999999\n",
      "Number of leverdata samples:  216020\n",
      "Estimated freq:  5872.6518890442885\n",
      "Trial  8\n",
      "Duration in MATLAB seconds from respMTX:  7.245848899999999\n",
      "Number of leverdata samples:  42552\n",
      "Estimated freq:  5872.603829759686\n",
      "Trial  9\n",
      "Duration in MATLAB seconds from respMTX:  6.983772200000004\n",
      "Number of leverdata samples:  41013\n",
      "Estimated freq:  5872.614229885673\n",
      "Trial  10\n",
      "Duration in MATLAB seconds from respMTX:  6.0141377000000205\n",
      "Number of leverdata samples:  35319\n",
      "Estimated freq:  5872.662343597467\n",
      "Trial  11\n",
      "Duration in MATLAB seconds from respMTX:  27.87356989999998\n",
      "Number of leverdata samples:  163692\n",
      "Estimated freq:  5872.660035555766\n",
      "Trial  12\n",
      "Duration in MATLAB seconds from respMTX:  9.066829900000016\n",
      "Number of leverdata samples:  53246\n",
      "Estimated freq:  5872.614859577316\n",
      "Trial  13\n",
      "Duration in MATLAB seconds from respMTX:  7.363628299999988\n",
      "Number of leverdata samples:  43244\n",
      "Estimated freq:  5872.648406221166\n",
      "Trial  14\n",
      "Duration in MATLAB seconds from respMTX:  36.9584232\n",
      "Number of leverdata samples:  217043\n",
      "Estimated freq:  5872.626081082377\n",
      "Trial  15\n",
      "Duration in MATLAB seconds from respMTX:  19.818577600000026\n",
      "Number of leverdata samples:  116388\n",
      "Estimated freq:  5872.6717098001955\n",
      "Trial  16\n",
      "Duration in MATLAB seconds from respMTX:  5.937559399999998\n",
      "Number of leverdata samples:  34869\n",
      "Estimated freq:  5872.614933334396\n",
      "Trial  17\n",
      "Duration in MATLAB seconds from respMTX:  7.453426499999978\n",
      "Number of leverdata samples:  43772\n",
      "Estimated freq:  5872.735177572373\n",
      "Trial  18\n",
      "Duration in MATLAB seconds from respMTX:  35.72432650000002\n",
      "Number of leverdata samples:  209796\n",
      "Estimated freq:  5872.636955101166\n",
      "Trial  19\n",
      "Duration in MATLAB seconds from respMTX:  6.497606200000007\n",
      "Number of leverdata samples:  38158\n",
      "Estimated freq:  5872.624290465612\n",
      "Trial  20\n",
      "Duration in MATLAB seconds from respMTX:  6.00601469999998\n",
      "Number of leverdata samples:  35271\n",
      "Estimated freq:  5872.612999099072\n",
      "Trial  21\n",
      "Duration in MATLAB seconds from respMTX:  36.26668599999999\n",
      "Number of leverdata samples:  212982\n",
      "Estimated freq:  5872.662310529284\n",
      "Trial  22\n",
      "Duration in MATLAB seconds from respMTX:  36.05055390000001\n",
      "Number of leverdata samples:  211712\n",
      "Estimated freq:  5872.64208442578\n",
      "Trial  23\n",
      "Duration in MATLAB seconds from respMTX:  7.936129600000015\n",
      "Number of leverdata samples:  46606\n",
      "Estimated freq:  5872.6359509048225\n",
      "Trial  24\n",
      "Duration in MATLAB seconds from respMTX:  5.7560024\n",
      "Number of leverdata samples:  33803\n",
      "Estimated freq:  5872.652172625919\n",
      "Trial  25\n",
      "Duration in MATLAB seconds from respMTX:  5.9912124999999605\n",
      "Number of leverdata samples:  35185\n",
      "Estimated freq:  5872.767824543067\n",
      "Trial  26\n",
      "Duration in MATLAB seconds from respMTX:  20.457318600000008\n",
      "Number of leverdata samples:  120138\n",
      "Estimated freq:  5872.617147390956\n",
      "Trial  27\n",
      "Duration in MATLAB seconds from respMTX:  7.089534800000024\n",
      "Number of leverdata samples:  41634\n",
      "Estimated freq:  5872.599708516821\n",
      "Trial  28\n",
      "Duration in MATLAB seconds from respMTX:  6.905658799999969\n",
      "Number of leverdata samples:  40554\n",
      "Estimated freq:  5872.575111877839\n",
      "Trial  29\n",
      "Duration in MATLAB seconds from respMTX:  6.64384670000004\n",
      "Number of leverdata samples:  39018\n",
      "Estimated freq:  5872.8025738462275\n",
      "Trial  30\n",
      "Duration in MATLAB seconds from respMTX:  12.58102009999999\n",
      "Number of leverdata samples:  73883\n",
      "Estimated freq:  5872.576262714982\n",
      "Trial  31\n",
      "Duration in MATLAB seconds from respMTX:  16.287164399999995\n",
      "Number of leverdata samples:  95649\n",
      "Estimated freq:  5872.661296400989\n",
      "Trial  32\n",
      "Duration in MATLAB seconds from respMTX:  5.742417199999977\n",
      "Number of leverdata samples:  33723\n",
      "Estimated freq:  5872.614062245449\n",
      "Trial  33\n",
      "Duration in MATLAB seconds from respMTX:  16.255458799999985\n",
      "Number of leverdata samples:  95463\n",
      "Estimated freq:  5872.673369268426\n",
      "Trial  34\n",
      "Duration in MATLAB seconds from respMTX:  35.84890400000006\n",
      "Number of leverdata samples:  210528\n",
      "Estimated freq:  5872.64815683067\n",
      "Trial  35\n",
      "Duration in MATLAB seconds from respMTX:  5.954296499999941\n",
      "Number of leverdata samples:  34967\n",
      "Estimated freq:  5872.566137746137\n",
      "Trial  36\n",
      "Duration in MATLAB seconds from respMTX:  6.707541699999979\n",
      "Number of leverdata samples:  39391\n",
      "Estimated freq:  5872.643326242776\n",
      "Trial  37\n",
      "Duration in MATLAB seconds from respMTX:  32.13909750000005\n",
      "Number of leverdata samples:  188742\n",
      "Estimated freq:  5872.660238825926\n",
      "Trial  38\n",
      "Duration in MATLAB seconds from respMTX:  9.663998799999945\n",
      "Number of leverdata samples:  56753\n",
      "Estimated freq:  5872.620762328771\n",
      "Trial  39\n",
      "Duration in MATLAB seconds from respMTX:  7.365009500000042\n",
      "Number of leverdata samples:  43253\n",
      "Estimated freq:  5872.769071105713\n",
      "Trial  40\n",
      "Duration in MATLAB seconds from respMTX:  11.182841499999995\n",
      "Number of leverdata samples:  65672\n",
      "Estimated freq:  5872.568255572613\n",
      "Trial  41\n",
      "Duration in MATLAB seconds from respMTX:  6.945830500000056\n",
      "Number of leverdata samples:  40790\n",
      "Estimated freq:  5872.587878440118\n",
      "Trial  42\n",
      "Duration in MATLAB seconds from respMTX:  8.474034299999971\n",
      "Number of leverdata samples:  49765\n",
      "Estimated freq:  5872.645570953161\n",
      "Trial  43\n",
      "Duration in MATLAB seconds from respMTX:  7.169876799999997\n",
      "Number of leverdata samples:  42107\n",
      "Estimated freq:  5872.764787255482\n",
      "Trial  44\n",
      "Duration in MATLAB seconds from respMTX:  35.60147870000003\n",
      "Number of leverdata samples:  209074\n",
      "Estimated freq:  5872.621240308196\n",
      "Trial  45\n",
      "Duration in MATLAB seconds from respMTX:  5.990604599999983\n",
      "Number of leverdata samples:  35181\n",
      "Estimated freq:  5872.696054752153\n",
      "Trial  46\n",
      "Duration in MATLAB seconds from respMTX:  22.742717699999957\n",
      "Number of leverdata samples:  133560\n",
      "Estimated freq:  5872.64907219071\n",
      "Trial  47\n",
      "Duration in MATLAB seconds from respMTX:  5.835543200000075\n",
      "Number of leverdata samples:  34271\n",
      "Estimated freq:  5872.8037520139615\n",
      "Trial  48\n",
      "Duration in MATLAB seconds from respMTX:  21.17516999999998\n",
      "Number of leverdata samples:  124353\n",
      "Estimated freq:  5872.585674636856\n",
      "Trial  49\n",
      "Duration in MATLAB seconds from respMTX:  5.467562999999927\n",
      "Number of leverdata samples:  32110\n",
      "Estimated freq:  5872.8175605842\n",
      "Trial  50\n",
      "Duration in MATLAB seconds from respMTX:  5.820373000000018\n",
      "Number of leverdata samples:  34180\n",
      "Estimated freq:  5872.4758705326785\n",
      "Trial  51\n",
      "Duration in MATLAB seconds from respMTX:  7.243964600000027\n",
      "Number of leverdata samples:  42541\n",
      "Estimated freq:  5872.612905921689\n",
      "Trial  52\n",
      "Duration in MATLAB seconds from respMTX:  7.224007300000039\n",
      "Number of leverdata samples:  42425\n",
      "Estimated freq:  5872.779226012101\n",
      "Trial  53\n",
      "Duration in MATLAB seconds from respMTX:  7.4427339000000075\n",
      "Number of leverdata samples:  43709\n",
      "Estimated freq:  5872.707608154573\n",
      "Trial  54\n",
      "Duration in MATLAB seconds from respMTX:  6.443133599999896\n",
      "Number of leverdata samples:  37838\n",
      "Estimated freq:  5872.608322137013\n",
      "Trial  55\n",
      "Duration in MATLAB seconds from respMTX:  7.761876400000006\n",
      "Number of leverdata samples:  45582\n",
      "Estimated freq:  5872.549065584189\n",
      "Trial  56\n",
      "Duration in MATLAB seconds from respMTX:  7.048359600000026\n",
      "Number of leverdata samples:  41393\n",
      "Estimated freq:  5872.713985818749\n",
      "mean:  5872.645460172515  Hz, std:  0.05947705026832779  Hz\n",
      "min:  5872.4758705326785  Hz max:  5872.8175605842  Hz\n",
      "1st fastest percentile 5872.8037520139615 50th 5872.643326242776 99th slowest 5872.489290337515\n"
     ]
    }
   ],
   "source": [
    "dts, trial_frequencies = get_trial_frequencies(num_trials, respMTX, output_folder)"
   ]
  },
  {
   "cell_type": "markdown",
   "metadata": {},
   "source": [
    "So if estimated frequencies are not all around 5882 Hz, then trials probably aren't aligned. Make sure files are correct, and try increasing the skipped samples in for the C++ trial detection program. Also make sure the statistics are all between 4500 and 5900."
   ]
  },
  {
   "cell_type": "markdown",
   "metadata": {},
   "source": [
    "### low pass Butterworth filter `lever_data` with a cutoff frequency of 50 Hz\n",
    "\n",
    "Assuming electrical noise will be around 60 Hz"
   ]
  },
  {
   "cell_type": "code",
   "execution_count": 117,
   "metadata": {},
   "outputs": [],
   "source": [
    "cutoff_frequency = 50\n",
    "butterworth_filter_leverdata(output_folder, num_trials, cutoff_frequency)"
   ]
  },
  {
   "cell_type": "markdown",
   "metadata": {},
   "source": [
    "### Rescale the filtered_lever_data to 0-5V from 0-1023 analogRead values"
   ]
  },
  {
   "cell_type": "code",
   "execution_count": 118,
   "metadata": {},
   "outputs": [],
   "source": [
    "rescale_leverdata(output_folder, num_trials)"
   ]
  },
  {
   "cell_type": "markdown",
   "metadata": {},
   "source": [
    "### Calculate sample time values for each sample based on trial start times"
   ]
  },
  {
   "cell_type": "code",
   "execution_count": 119,
   "metadata": {},
   "outputs": [],
   "source": [
    "calculate_leverdata_sample_times(output_folder, respMTX, num_trials)"
   ]
  },
  {
   "cell_type": "markdown",
   "metadata": {},
   "source": [
    "### Get tone and leverpress sample indicies"
   ]
  },
  {
   "cell_type": "code",
   "execution_count": 120,
   "metadata": {},
   "outputs": [],
   "source": [
    "get_leverdata_indices(output_folder, respMTX, num_trials)"
   ]
  },
  {
   "cell_type": "markdown",
   "metadata": {},
   "source": [
    "### Check the FFT power spectrum for one of the trials"
   ]
  },
  {
   "cell_type": "code",
   "execution_count": 121,
   "metadata": {},
   "outputs": [
    {
     "data": {
      "image/png": "[encoded data removed]",
      "text/plain": [
       "<Figure size 640x480 with 1 Axes>"
      ]
     },
     "metadata": {},
     "output_type": "display_data"
    }
   ],
   "source": [
    "# set which trial to look at\n",
    "trial_index = 10\n",
    "view_processed_trial_FFT(trial_index, output_folder)"
   ]
  }
 ],
 "metadata": {
  "kernelspec": {
   "display_name": "Python 3",
   "language": "python",
   "name": "python3"
  },
  "language_info": {
   "codemirror_mode": {
    "name": "ipython",
    "version": 3
   },
   "file_extension": ".py",
   "mimetype": "text/x-python",
   "name": "python",
   "nbconvert_exporter": "python",
   "pygments_lexer": "ipython3",
   "version": "3.11.6"
  }
 },
 "nbformat": 4,
 "nbformat_minor": 2
}
