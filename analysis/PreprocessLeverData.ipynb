{
 "cells": [
  {
   "cell_type": "markdown",
   "metadata": {},
   "source": [
    "### set folder_name and day session to analyze"
   ]
  },
  {
   "cell_type": "code",
   "execution_count": 13,
   "metadata": {},
   "outputs": [],
   "source": [
    "name = 'ANM7'\n",
    "session = '20240130_d1'"
   ]
  },
  {
   "cell_type": "markdown",
   "metadata": {},
   "source": [
    "### imports"
   ]
  },
  {
   "cell_type": "code",
   "execution_count": 14,
   "metadata": {},
   "outputs": [],
   "source": [
    "from scipy import io\n",
    "import numpy as np\n",
    "import pylab as pl\n",
    "import matplotlib.pyplot as plt\n",
    "import statistics\n",
    "import re\n",
    "import glob\n",
    "import scipy.signal as signal\n",
    "import pickle\n",
    "\n",
    "from common.load_tonedisc_matfile import load_tonedisc_matfile\n",
    "from common.align_times import get_leverdata_indices\n",
    "from preprocess_leverdata.get_trial_frequencies import get_trial_frequencies\n",
    "from preprocess_leverdata.butterworth_filter_leverdata import butterworth_filter_leverdata\n",
    "from preprocess_leverdata.rescale_leverdata import rescale_leverdata\n",
    "from preprocess_leverdata.view_processed_trial_FFT import view_processed_trial_FFT\n",
    "from preprocess_leverdata.calculate_leverdata_sample_times import calculate_leverdata_sample_times"
   ]
  },
  {
   "cell_type": "markdown",
   "metadata": {},
   "source": [
    "### Setup folders and matfiles"
   ]
  },
  {
   "cell_type": "code",
   "execution_count": 15,
   "metadata": {},
   "outputs": [
    {
     "name": "stdout",
     "output_type": "stream",
     "text": [
      "respMTX shape: (54, 7)\n",
      "MTXTrialType shape: (1000, 5)\n",
      "number of trials: 54\n"
     ]
    }
   ],
   "source": [
    "tone_discriminiation_matfile = '../Data_Copy/ToneDiscriminationData/'+name+'/ToneDisc_'+name+'_'+session+'.mat'\n",
    "params, response, arduino, respMTX, MTXTrialType = load_tonedisc_matfile(tone_discriminiation_matfile)\n",
    "\n",
    "output_folder = \"../Data_Copy/AnalysisData/\"+name+\"/PreprocessLeverData_\"+name+\"_\"+session+\"/\"\n",
    "leverdata_matfile = \"../Data_Copy/LeverData/\"+name+\"/LeverData_\"+name+\"_\"+session+\".mat\""
   ]
  },
  {
   "cell_type": "code",
   "execution_count": 16,
   "metadata": {},
   "outputs": [
    {
     "data": {
      "text/plain": [
       "<_io.TextIOWrapper name='../Data_Copy/LeverData/ANM7/LeverData_ANM7_20240130_d1.mat' mode='r' encoding='UTF-8'>"
      ]
     },
     "execution_count": 16,
     "metadata": {},
     "output_type": "execute_result"
    }
   ],
   "source": [
    "open(leverdata_matfile)"
   ]
  },
  {
   "cell_type": "markdown",
   "metadata": {},
   "source": [
    "For mac:"
   ]
  },
  {
   "cell_type": "code",
   "execution_count": 17,
   "metadata": {},
   "outputs": [
    {
     "name": "stdout",
     "output_type": "stream",
     "text": [
      "mkdir: ../Data_Copy/AnalysisData/ANM7/PreprocessLeverData_ANM7_20240130_d1/: File exists\n"
     ]
    }
   ],
   "source": [
    "!mkdir {output_folder}"
   ]
  },
  {
   "cell_type": "markdown",
   "metadata": {},
   "source": [
    "For windows:"
   ]
  },
  {
   "cell_type": "code",
   "execution_count": 18,
   "metadata": {},
   "outputs": [
    {
     "name": "stdout",
     "output_type": "stream",
     "text": [
      "mkdir: ../Data_Copy/AnalysisData/ANM7/PreprocessLeverData_ANM7_20240130_d1/: File exists\n"
     ]
    }
   ],
   "source": [
    "!mkdir \"{output_folder}\""
   ]
  },
  {
   "cell_type": "markdown",
   "metadata": {},
   "source": [
    "preview trials"
   ]
  },
  {
   "cell_type": "code",
   "execution_count": 19,
   "metadata": {},
   "outputs": [
    {
     "data": {
      "text/plain": [
       "(54, 7)"
      ]
     },
     "execution_count": 19,
     "metadata": {},
     "output_type": "execute_result"
    }
   ],
   "source": [
    "respMTX.shape"
   ]
  },
  {
   "cell_type": "code",
   "execution_count": 20,
   "metadata": {},
   "outputs": [
    {
     "name": "stdout",
     "output_type": "stream",
     "text": [
      "[[9.788656 0.000000]\n",
      " [11.815893 1.000000]\n",
      " [25.627311 2.000000]\n",
      " [7.183123 3.000000]\n",
      " [12.783934 4.000000]\n",
      " [9.129263 5.000000]\n",
      " [12.348188 6.000000]\n",
      " [7.849333 7.000000]\n",
      " [7.376110 8.000000]\n",
      " [8.163235 9.000000]\n",
      " [7.874665 10.000000]\n",
      " [12.686383 11.000000]\n",
      " [9.326425 12.000000]\n",
      " [36.783645 13.000000]\n",
      " [8.812011 14.000000]\n",
      " [10.337000 15.000000]\n",
      " [26.915742 16.000000]\n",
      " [19.670894 17.000000]\n",
      " [36.048750 18.000000]\n",
      " [9.590087 19.000000]\n",
      " [36.241779 20.000000]\n",
      " [22.264019 21.000000]\n",
      " [8.973410 22.000000]\n",
      " [36.991553 23.000000]\n",
      " [22.247730 24.000000]\n",
      " [37.110638 25.000000]\n",
      " [25.006971 26.000000]\n",
      " [35.788521 27.000000]\n",
      " [36.963919 28.000000]\n",
      " [36.519214 29.000000]\n",
      " [19.149891 30.000000]\n",
      " [70.503575 31.000000]\n",
      " [10.762509 32.000000]\n",
      " [22.774592 33.000000]\n",
      " [28.814812 34.000000]\n",
      " [22.902610 35.000000]\n",
      " [37.342695 36.000000]\n",
      " [8.447748 37.000000]\n",
      " [21.034127 38.000000]\n",
      " [12.350967 39.000000]\n",
      " [16.297810 40.000000]\n",
      " [16.230121 41.000000]\n",
      " [24.945341 42.000000]\n",
      " [31.641860 43.000000]\n",
      " [36.596835 44.000000]\n",
      " [35.617118 45.000000]\n",
      " [27.194273 46.000000]\n",
      " [36.912120 47.000000]\n",
      " [36.097705 48.000000]\n",
      " [35.959932 49.000000]\n",
      " [35.904022 50.000000]\n",
      " [35.658047 51.000000]\n",
      " [30.619425 52.000000]]\n"
     ]
    }
   ],
   "source": [
    "respMTX_shape = respMTX.shape[0]\n",
    "np.set_printoptions(suppress = True,\n",
    "   formatter = {'float_kind':'{:f}'.format})\n",
    "print(np.hstack((respMTX[1:respMTX_shape, 0:1]-respMTX[0:respMTX_shape-1, 0:1], np.array([np.linspace(0, respMTX_shape-2, respMTX_shape-1)]).transpose())))"
   ]
  },
  {
   "cell_type": "markdown",
   "metadata": {},
   "source": [
    "### Run leverdata2binary.cpp to create binary files for each trial from `lever_data` in the LeverData .mat file"
   ]
  },
  {
   "cell_type": "code",
   "execution_count": 21,
   "metadata": {},
   "outputs": [
    {
     "name": "stdout",
     "output_type": "stream",
     "text": [
      "leverdata from .mat size: 72000000,72000000\n",
      "leverdata from .mat rank: 2\n",
      "leverdata vector size: 72000000\n",
      "leverdata vector with unused rows taken out size: 8227720\n",
      "vector saved to .bin file ../Data_Copy/AnalysisData/ANM7/PreprocessLeverData_ANM7_20240130_d1/full.bin\n",
      "finished a trialITI: 102794 index:0 trialITI length: 52365 samples = ~8s\n",
      "vector saved to .bin file ../Data_Copy/AnalysisData/ANM7/PreprocessLeverData_ANM7_20240130_d1/trial0.bin\n",
      "finished a trialITI: 181017 index:1 trialITI length: 78223 samples = ~13s\n",
      "vector saved to .bin file ../Data_Copy/AnalysisData/ANM7/PreprocessLeverData_ANM7_20240130_d1/trial1.bin\n",
      "finished a trialITI: 323881 index:2 trialITI length: 142864 samples = ~24s\n",
      "vector saved to .bin file ../Data_Copy/AnalysisData/ANM7/PreprocessLeverData_ANM7_20240130_d1/trial2.bin\n",
      "finished a trialITI: 370431 index:3 trialITI length: 46550 samples = ~7s\n",
      "vector saved to .bin file ../Data_Copy/AnalysisData/ANM7/PreprocessLeverData_ANM7_20240130_d1/trial3.bin\n",
      "finished a trialITI: 446298 index:4 trialITI length: 75867 samples = ~12s\n",
      "vector saved to .bin file ../Data_Copy/AnalysisData/ANM7/PreprocessLeverData_ANM7_20240130_d1/trial4.bin\n",
      "finished a trialITI: 501076 index:5 trialITI length: 54778 samples = ~9s\n",
      "vector saved to .bin file ../Data_Copy/AnalysisData/ANM7/PreprocessLeverData_ANM7_20240130_d1/trial5.bin\n",
      "finished a trialITI: 570970 index:6 trialITI length: 69894 samples = ~11s\n",
      "vector saved to .bin file ../Data_Copy/AnalysisData/ANM7/PreprocessLeverData_ANM7_20240130_d1/trial6.bin\n",
      "finished a trialITI: 613698 index:7 trialITI length: 42728 samples = ~7s\n",
      "vector saved to .bin file ../Data_Copy/AnalysisData/ANM7/PreprocessLeverData_ANM7_20240130_d1/trial7.bin\n",
      "finished a trialITI: 659395 index:8 trialITI length: 45697 samples = ~7s\n",
      "vector saved to .bin file ../Data_Copy/AnalysisData/ANM7/PreprocessLeverData_ANM7_20240130_d1/trial8.bin\n",
      "finished a trialITI: 704260 index:9 trialITI length: 44865 samples = ~7s\n",
      "vector saved to .bin file ../Data_Copy/AnalysisData/ANM7/PreprocessLeverData_ANM7_20240130_d1/trial9.bin\n",
      "finished a trialITI: 758324 index:10 trialITI length: 54064 samples = ~9s\n",
      "vector saved to .bin file ../Data_Copy/AnalysisData/ANM7/PreprocessLeverData_ANM7_20240130_d1/trial10.bin\n",
      "finished a trialITI: 828171 index:11 trialITI length: 69847 samples = ~11s\n",
      "vector saved to .bin file ../Data_Copy/AnalysisData/ANM7/PreprocessLeverData_ANM7_20240130_d1/trial11.bin\n",
      "finished a trialITI: 887060 index:12 trialITI length: 58889 samples = ~10s\n",
      "vector saved to .bin file ../Data_Copy/AnalysisData/ANM7/PreprocessLeverData_ANM7_20240130_d1/trial12.bin\n",
      "finished a trialITI: 1100618 index:13 trialITI length: 213558 samples = ~36s\n",
      "vector saved to .bin file ../Data_Copy/AnalysisData/ANM7/PreprocessLeverData_ANM7_20240130_d1/trial13.bin\n",
      "finished a trialITI: 1151457 index:14 trialITI length: 50839 samples = ~8s\n",
      "vector saved to .bin file ../Data_Copy/AnalysisData/ANM7/PreprocessLeverData_ANM7_20240130_d1/trial14.bin\n",
      "finished a trialITI: 1211451 index:15 trialITI length: 59994 samples = ~10s\n",
      "vector saved to .bin file ../Data_Copy/AnalysisData/ANM7/PreprocessLeverData_ANM7_20240130_d1/trial15.bin\n",
      "finished a trialITI: 1366689 index:16 trialITI length: 155238 samples = ~26s\n",
      "vector saved to .bin file ../Data_Copy/AnalysisData/ANM7/PreprocessLeverData_ANM7_20240130_d1/trial16.bin\n",
      "finished a trialITI: 1485431 index:17 trialITI length: 118742 samples = ~20s\n",
      "vector saved to .bin file ../Data_Copy/AnalysisData/ANM7/PreprocessLeverData_ANM7_20240130_d1/trial17.bin\n",
      "finished a trialITI: 1697767 index:18 trialITI length: 212336 samples = ~36s\n",
      "vector saved to .bin file ../Data_Copy/AnalysisData/ANM7/PreprocessLeverData_ANM7_20240130_d1/trial18.bin\n",
      "finished a trialITI: 1754655 index:19 trialITI length: 56888 samples = ~9s\n",
      "vector saved to .bin file ../Data_Copy/AnalysisData/ANM7/PreprocessLeverData_ANM7_20240130_d1/trial19.bin\n",
      "finished a trialITI: 1971434 index:20 trialITI length: 216779 samples = ~36s\n",
      "vector saved to .bin file ../Data_Copy/AnalysisData/ANM7/PreprocessLeverData_ANM7_20240130_d1/trial20.bin\n",
      "finished a trialITI: 2100814 index:21 trialITI length: 129380 samples = ~21s\n",
      "vector saved to .bin file ../Data_Copy/AnalysisData/ANM7/PreprocessLeverData_ANM7_20240130_d1/trial21.bin\n",
      "finished a trialITI: 2155268 index:22 trialITI length: 54454 samples = ~9s\n",
      "vector saved to .bin file ../Data_Copy/AnalysisData/ANM7/PreprocessLeverData_ANM7_20240130_d1/trial22.bin\n",
      "finished a trialITI: 2369205 index:23 trialITI length: 213937 samples = ~36s\n",
      "vector saved to .bin file ../Data_Copy/AnalysisData/ANM7/PreprocessLeverData_ANM7_20240130_d1/trial23.bin\n",
      "finished a trialITI: 2503459 index:24 trialITI length: 134254 samples = ~22s\n",
      "vector saved to .bin file ../Data_Copy/AnalysisData/ANM7/PreprocessLeverData_ANM7_20240130_d1/trial24.bin\n",
      "finished a trialITI: 2716687 index:25 trialITI length: 213228 samples = ~36s\n",
      "vector saved to .bin file ../Data_Copy/AnalysisData/ANM7/PreprocessLeverData_ANM7_20240130_d1/trial25.bin\n",
      "finished a trialITI: 2861259 index:26 trialITI length: 144572 samples = ~24s\n",
      "vector saved to .bin file ../Data_Copy/AnalysisData/ANM7/PreprocessLeverData_ANM7_20240130_d1/trial26.bin\n",
      "finished a trialITI: 3078036 index:27 trialITI length: 216777 samples = ~36s\n",
      "vector saved to .bin file ../Data_Copy/AnalysisData/ANM7/PreprocessLeverData_ANM7_20240130_d1/trial27.bin\n",
      "finished a trialITI: 3292034 index:28 trialITI length: 213998 samples = ~36s\n",
      "vector saved to .bin file ../Data_Copy/AnalysisData/ANM7/PreprocessLeverData_ANM7_20240130_d1/trial28.bin\n",
      "finished a trialITI: 3506126 index:29 trialITI length: 214092 samples = ~36s\n",
      "vector saved to .bin file ../Data_Copy/AnalysisData/ANM7/PreprocessLeverData_ANM7_20240130_d1/trial29.bin\n",
      "finished a trialITI: 3936186 index:30 trialITI length: 430060 samples = ~73s\n",
      "vector saved to .bin file ../Data_Copy/AnalysisData/ANM7/PreprocessLeverData_ANM7_20240130_d1/trial30.bin\n",
      "finished a trialITI: 4031065 index:31 trialITI length: 94879 samples = ~16s\n",
      "vector saved to .bin file ../Data_Copy/AnalysisData/ANM7/PreprocessLeverData_ANM7_20240130_d1/trial31.bin\n",
      "finished a trialITI: 4091059 index:32 trialITI length: 59994 samples = ~10s\n",
      "vector saved to .bin file ../Data_Copy/AnalysisData/ANM7/PreprocessLeverData_ANM7_20240130_d1/trial32.bin\n",
      "finished a trialITI: 4227170 index:33 trialITI length: 136111 samples = ~23s\n",
      "vector saved to .bin file ../Data_Copy/AnalysisData/ANM7/PreprocessLeverData_ANM7_20240130_d1/trial33.bin\n",
      "finished a trialITI: 4393166 index:34 trialITI length: 165996 samples = ~28s\n",
      "vector saved to .bin file ../Data_Copy/AnalysisData/ANM7/PreprocessLeverData_ANM7_20240130_d1/trial34.bin\n",
      "finished a trialITI: 4538353 index:35 trialITI length: 145187 samples = ~24s\n",
      "vector saved to .bin file ../Data_Copy/AnalysisData/ANM7/PreprocessLeverData_ANM7_20240130_d1/trial35.bin\n",
      "finished a trialITI: 4752954 index:36 trialITI length: 214601 samples = ~36s\n",
      "vector saved to .bin file ../Data_Copy/AnalysisData/ANM7/PreprocessLeverData_ANM7_20240130_d1/trial36.bin\n",
      "finished a trialITI: 4806110 index:37 trialITI length: 53156 samples = ~9s\n",
      "vector saved to .bin file ../Data_Copy/AnalysisData/ANM7/PreprocessLeverData_ANM7_20240130_d1/trial37.bin\n",
      "finished a trialITI: 4924487 index:38 trialITI length: 118377 samples = ~20s\n",
      "vector saved to .bin file ../Data_Copy/AnalysisData/ANM7/PreprocessLeverData_ANM7_20240130_d1/trial38.bin\n",
      "finished a trialITI: 4996623 index:39 trialITI length: 72136 samples = ~12s\n",
      "vector saved to .bin file ../Data_Copy/AnalysisData/ANM7/PreprocessLeverData_ANM7_20240130_d1/trial39.bin\n",
      "finished a trialITI: 5094788 index:40 trialITI length: 98165 samples = ~16s\n",
      "vector saved to .bin file ../Data_Copy/AnalysisData/ANM7/PreprocessLeverData_ANM7_20240130_d1/trial40.bin\n",
      "finished a trialITI: 5189964 index:41 trialITI length: 95176 samples = ~16s\n",
      "vector saved to .bin file ../Data_Copy/AnalysisData/ANM7/PreprocessLeverData_ANM7_20240130_d1/trial41.bin\n",
      "finished a trialITI: 5335436 index:42 trialITI length: 145472 samples = ~24s\n",
      "vector saved to .bin file ../Data_Copy/AnalysisData/ANM7/PreprocessLeverData_ANM7_20240130_d1/trial42.bin\n",
      "finished a trialITI: 5522326 index:43 trialITI length: 186890 samples = ~31s\n",
      "vector saved to .bin file ../Data_Copy/AnalysisData/ANM7/PreprocessLeverData_ANM7_20240130_d1/trial43.bin\n",
      "finished a trialITI: 5731655 index:44 trialITI length: 209329 samples = ~35s\n",
      "vector saved to .bin file ../Data_Copy/AnalysisData/ANM7/PreprocessLeverData_ANM7_20240130_d1/trial44.bin\n",
      "finished a trialITI: 5948346 index:45 trialITI length: 216691 samples = ~36s\n",
      "vector saved to .bin file ../Data_Copy/AnalysisData/ANM7/PreprocessLeverData_ANM7_20240130_d1/trial45.bin\n",
      "finished a trialITI: 6108743 index:46 trialITI length: 160397 samples = ~27s\n",
      "vector saved to .bin file ../Data_Copy/AnalysisData/ANM7/PreprocessLeverData_ANM7_20240130_d1/trial46.bin\n",
      "finished a trialITI: 6320059 index:47 trialITI length: 211316 samples = ~35s\n",
      "vector saved to .bin file ../Data_Copy/AnalysisData/ANM7/PreprocessLeverData_ANM7_20240130_d1/trial47.bin\n",
      "finished a trialITI: 6531681 index:48 trialITI length: 211622 samples = ~35s\n",
      "vector saved to .bin file ../Data_Copy/AnalysisData/ANM7/PreprocessLeverData_ANM7_20240130_d1/trial48.bin\n",
      "finished a trialITI: 6741767 index:49 trialITI length: 210086 samples = ~35s\n",
      "vector saved to .bin file ../Data_Copy/AnalysisData/ANM7/PreprocessLeverData_ANM7_20240130_d1/trial49.bin\n",
      "finished a trialITI: 6951470 index:50 trialITI length: 209703 samples = ~35s\n",
      "vector saved to .bin file ../Data_Copy/AnalysisData/ANM7/PreprocessLeverData_ANM7_20240130_d1/trial50.bin\n",
      "finished a trialITI: 7163012 index:51 trialITI length: 211542 samples = ~35s\n",
      "vector saved to .bin file ../Data_Copy/AnalysisData/ANM7/PreprocessLeverData_ANM7_20240130_d1/trial51.bin\n",
      "finished a trialITI: 7348514 index:52 trialITI length: 185502 samples = ~31s\n",
      "vector saved to .bin file ../Data_Copy/AnalysisData/ANM7/PreprocessLeverData_ANM7_20240130_d1/trial52.bin\n",
      "total switches/trials detected: 53\n"
     ]
    }
   ],
   "source": [
    "!./preprocess_leverdata/leverdata2binary {output_folder} {leverdata_matfile} 50429"
   ]
  },
  {
   "cell_type": "markdown",
   "metadata": {},
   "source": [
    "change `num_trials` if seems like `lever_data` stopped before behavior (if total trials detected is less than `num_trials` from `respMTX`)"
   ]
  },
  {
   "cell_type": "code",
   "execution_count": 22,
   "metadata": {},
   "outputs": [],
   "source": [
    "num_trials = 53"
   ]
  },
  {
   "cell_type": "markdown",
   "metadata": {},
   "source": [
    "### Look at sampling rates for the `lever_data`"
   ]
  },
  {
   "cell_type": "code",
   "execution_count": 23,
   "metadata": {},
   "outputs": [
    {
     "name": "stdout",
     "output_type": "stream",
     "text": [
      "Trial  0\n",
      "Duration in MATLAB seconds from respMTX:  8.917055\n",
      "Number of leverdata samples:  52365\n",
      "Estimated freq:  5872.454526746779\n",
      "Trial  1\n",
      "Duration in MATLAB seconds from respMTX:  13.320095600000002\n",
      "Number of leverdata samples:  78223\n",
      "Estimated freq:  5872.555449226655\n",
      "Trial  2\n",
      "Duration in MATLAB seconds from respMTX:  24.326945600000002\n",
      "Number of leverdata samples:  142864\n",
      "Estimated freq:  5872.664918525571\n",
      "Trial  3\n",
      "Duration in MATLAB seconds from respMTX:  7.927304799999995\n",
      "Number of leverdata samples:  46550\n",
      "Estimated freq:  5872.109269723051\n",
      "Trial  4\n",
      "Duration in MATLAB seconds from respMTX:  12.9180165\n",
      "Number of leverdata samples:  75867\n",
      "Estimated freq:  5872.960450236304\n",
      "Trial  5\n",
      "Duration in MATLAB seconds from respMTX:  9.327744699999997\n",
      "Number of leverdata samples:  54778\n",
      "Estimated freq:  5872.587829295973\n",
      "Trial  6\n",
      "Duration in MATLAB seconds from respMTX:  11.901921600000009\n",
      "Number of leverdata samples:  69894\n",
      "Estimated freq:  5872.497093242485\n",
      "Trial  7\n",
      "Duration in MATLAB seconds from respMTX:  7.275746699999999\n",
      "Number of leverdata samples:  42728\n",
      "Estimated freq:  5872.661839643209\n",
      "Trial  8\n",
      "Duration in MATLAB seconds from respMTX:  7.7814999\n",
      "Number of leverdata samples:  45697\n",
      "Estimated freq:  5872.518227494933\n",
      "Trial  9\n",
      "Duration in MATLAB seconds from respMTX:  7.639634000000001\n",
      "Number of leverdata samples:  44865\n",
      "Estimated freq:  5872.663533357749\n",
      "Trial  10\n",
      "Duration in MATLAB seconds from respMTX:  9.206136200000003\n",
      "Number of leverdata samples:  54064\n",
      "Estimated freq:  5872.604839367897\n",
      "Trial  11\n",
      "Duration in MATLAB seconds from respMTX:  11.893744799999993\n",
      "Number of leverdata samples:  69847\n",
      "Estimated freq:  5872.582704145463\n",
      "Trial  12\n",
      "Duration in MATLAB seconds from respMTX:  10.027800799999994\n",
      "Number of leverdata samples:  58889\n",
      "Estimated freq:  5872.573775099325\n",
      "Trial  13\n",
      "Duration in MATLAB seconds from respMTX:  36.36538810000002\n",
      "Number of leverdata samples:  213558\n",
      "Estimated freq:  5872.562102533972\n",
      "Trial  14\n",
      "Duration in MATLAB seconds from respMTX:  8.65700339999998\n",
      "Number of leverdata samples:  50839\n",
      "Estimated freq:  5872.586350145146\n",
      "Trial  15\n",
      "Duration in MATLAB seconds from respMTX:  10.215721400000007\n",
      "Number of leverdata samples:  59994\n",
      "Estimated freq:  5872.7130127099945\n",
      "Trial  16\n",
      "Duration in MATLAB seconds from respMTX:  26.434396899999996\n",
      "Number of leverdata samples:  155238\n",
      "Estimated freq:  5872.575818062262\n",
      "Trial  17\n",
      "Duration in MATLAB seconds from respMTX:  20.21984950000001\n",
      "Number of leverdata samples:  118742\n",
      "Estimated freq:  5872.546182898144\n",
      "Trial  18\n",
      "Duration in MATLAB seconds from respMTX:  36.15704019999998\n",
      "Number of leverdata samples:  212336\n",
      "Estimated freq:  5872.604583380697\n",
      "Trial  19\n",
      "Duration in MATLAB seconds from respMTX:  9.68708730000003\n",
      "Number of leverdata samples:  56888\n",
      "Estimated freq:  5872.559856046701\n",
      "Trial  20\n",
      "Duration in MATLAB seconds from respMTX:  36.91385879999996\n",
      "Number of leverdata samples:  216779\n",
      "Estimated freq:  5872.564046325069\n",
      "Trial  21\n",
      "Duration in MATLAB seconds from respMTX:  22.0310872\n",
      "Number of leverdata samples:  129380\n",
      "Estimated freq:  5872.610771564646\n",
      "Trial  22\n",
      "Duration in MATLAB seconds from respMTX:  9.272589600000003\n",
      "Number of leverdata samples:  54454\n",
      "Estimated freq:  5872.577386580333\n",
      "Trial  23\n",
      "Duration in MATLAB seconds from respMTX:  36.42982380000001\n",
      "Number of leverdata samples:  213937\n",
      "Estimated freq:  5872.578499816954\n",
      "Trial  24\n",
      "Duration in MATLAB seconds from respMTX:  22.86106369999999\n",
      "Number of leverdata samples:  134254\n",
      "Estimated freq:  5872.605131667608\n",
      "Trial  25\n",
      "Duration in MATLAB seconds from respMTX:  36.30903790000002\n",
      "Number of leverdata samples:  213228\n",
      "Estimated freq:  5872.587441927231\n",
      "Trial  26\n",
      "Duration in MATLAB seconds from respMTX:  24.618163700000025\n",
      "Number of leverdata samples:  144572\n",
      "Estimated freq:  5872.574484505514\n",
      "Trial  27\n",
      "Duration in MATLAB seconds from respMTX:  36.91335709999993\n",
      "Number of leverdata samples:  216777\n",
      "Estimated freq:  5872.589681094068\n",
      "Trial  28\n",
      "Duration in MATLAB seconds from respMTX:  36.44004840000002\n",
      "Number of leverdata samples:  213998\n",
      "Estimated freq:  5872.604713664427\n",
      "Trial  29\n",
      "Duration in MATLAB seconds from respMTX:  36.456317900000045\n",
      "Number of leverdata samples:  214092\n",
      "Estimated freq:  5872.562352217137\n",
      "Trial  30\n",
      "Duration in MATLAB seconds from respMTX:  73.23180130000003\n",
      "Number of leverdata samples:  430060\n",
      "Estimated freq:  5872.585302636818\n",
      "Trial  31\n",
      "Duration in MATLAB seconds from respMTX:  16.156316199999992\n",
      "Number of leverdata samples:  94879\n",
      "Estimated freq:  5872.563944991374\n",
      "Trial  32\n",
      "Duration in MATLAB seconds from respMTX:  10.215811400000007\n",
      "Number of leverdata samples:  59994\n",
      "Estimated freq:  5872.661274854777\n",
      "Trial  33\n",
      "Duration in MATLAB seconds from respMTX:  23.177318999999898\n",
      "Number of leverdata samples:  136111\n",
      "Estimated freq:  5872.594668952031\n",
      "Trial  34\n",
      "Duration in MATLAB seconds from respMTX:  28.266353500000037\n",
      "Number of leverdata samples:  165996\n",
      "Estimated freq:  5872.565062203718\n",
      "Trial  35\n",
      "Duration in MATLAB seconds from respMTX:  24.722718500000042\n",
      "Number of leverdata samples:  145187\n",
      "Estimated freq:  5872.614696478454\n",
      "Trial  36\n",
      "Duration in MATLAB seconds from respMTX:  36.5428359\n",
      "Number of leverdata samples:  214601\n",
      "Estimated freq:  5872.58746385362\n",
      "Trial  37\n",
      "Duration in MATLAB seconds from respMTX:  9.051664399999936\n",
      "Number of leverdata samples:  53156\n",
      "Estimated freq:  5872.511137288781\n",
      "Trial  38\n",
      "Duration in MATLAB seconds from respMTX:  20.157405799999992\n",
      "Number of leverdata samples:  118377\n",
      "Estimated freq:  5872.630693380199\n",
      "Trial  39\n",
      "Duration in MATLAB seconds from respMTX:  12.283558900000003\n",
      "Number of leverdata samples:  72136\n",
      "Estimated freq:  5872.565156992082\n",
      "Trial  40\n",
      "Duration in MATLAB seconds from respMTX:  16.71582030000002\n",
      "Number of leverdata samples:  98165\n",
      "Estimated freq:  5872.580479942099\n",
      "Trial  41\n",
      "Duration in MATLAB seconds from respMTX:  16.206772399999977\n",
      "Number of leverdata samples:  95176\n",
      "Estimated freq:  5872.606688793886\n",
      "Trial  42\n",
      "Duration in MATLAB seconds from respMTX:  24.77152860000001\n",
      "Number of leverdata samples:  145472\n",
      "Estimated freq:  5872.548373942492\n",
      "Trial  43\n",
      "Duration in MATLAB seconds from respMTX:  31.82398420000004\n",
      "Number of leverdata samples:  186890\n",
      "Estimated freq:  5872.614780898482\n",
      "Trial  44\n",
      "Duration in MATLAB seconds from respMTX:  35.64527899999996\n",
      "Number of leverdata samples:  209329\n",
      "Estimated freq:  5872.558887812331\n",
      "Trial  45\n",
      "Duration in MATLAB seconds from respMTX:  36.89868290000004\n",
      "Number of leverdata samples:  216691\n",
      "Estimated freq:  5872.5944388654525\n",
      "Trial  46\n",
      "Duration in MATLAB seconds from respMTX:  27.312830599999984\n",
      "Number of leverdata samples:  160397\n",
      "Estimated freq:  5872.587955054358\n",
      "Trial  47\n",
      "Duration in MATLAB seconds from respMTX:  35.98354020000011\n",
      "Number of leverdata samples:  211316\n",
      "Estimated freq:  5872.573927564787\n",
      "Trial  48\n",
      "Duration in MATLAB seconds from respMTX:  36.035498799999914\n",
      "Number of leverdata samples:  211622\n",
      "Estimated freq:  5872.59805045353\n",
      "Trial  49\n",
      "Duration in MATLAB seconds from respMTX:  35.77412279999999\n",
      "Number of leverdata samples:  210086\n",
      "Estimated freq:  5872.568872604196\n",
      "Trial  50\n",
      "Duration in MATLAB seconds from respMTX:  35.70863159999999\n",
      "Number of leverdata samples:  209703\n",
      "Estimated freq:  5872.6137240162425\n",
      "Trial  51\n",
      "Duration in MATLAB seconds from respMTX:  36.02216580000004\n",
      "Number of leverdata samples:  211542\n",
      "Estimated freq:  5872.550839239094\n",
      "mean:  5872.5857872614915  Hz\n",
      "std:  0.06334443015408103  Hz\n",
      "min:  5872.109269723051  Hz\n",
      "max:  5872.960450236304  Hz\n",
      "1st fastest percentile 5872.960450236304\n",
      "50th percentile 5872.585302636818\n",
      "99th slowest percentile 5872.454526746779\n"
     ]
    }
   ],
   "source": [
    "dts, trial_frequencies = get_trial_frequencies(num_trials, respMTX, output_folder)"
   ]
  },
  {
   "cell_type": "markdown",
   "metadata": {},
   "source": [
    "So if estimated frequencies are not all around 5882 Hz, then trials probably aren't aligned. Make sure files are correct, and try increasing the skipped samples in for the C++ trial detection program. Also make sure the statistics are all between 4500 and 5900."
   ]
  },
  {
   "cell_type": "markdown",
   "metadata": {},
   "source": [
    "### low pass Butterworth filter `lever_data` with a cutoff frequency of 40 Hz\n",
    "\n",
    "Assuming electrical noise will be around 60 Hz"
   ]
  },
  {
   "cell_type": "code",
   "execution_count": 24,
   "metadata": {},
   "outputs": [],
   "source": [
    "cutoff_frequency = 50\n",
    "butterworth_filter_leverdata(output_folder, num_trials, cutoff_frequency)"
   ]
  },
  {
   "cell_type": "markdown",
   "metadata": {},
   "source": [
    "### Rescale the filtered_lever_data to 0-5V from 0-1023 analogRead values"
   ]
  },
  {
   "cell_type": "code",
   "execution_count": 25,
   "metadata": {},
   "outputs": [],
   "source": [
    "rescale_leverdata(output_folder, num_trials)"
   ]
  },
  {
   "cell_type": "markdown",
   "metadata": {},
   "source": [
    "### Calculate sample time values for each sample based on trial start times"
   ]
  },
  {
   "cell_type": "code",
   "execution_count": 26,
   "metadata": {},
   "outputs": [],
   "source": [
    "calculate_leverdata_sample_times(output_folder, respMTX, num_trials)"
   ]
  },
  {
   "cell_type": "markdown",
   "metadata": {},
   "source": [
    "### Get tone and leverpress sample indicies"
   ]
  },
  {
   "cell_type": "code",
   "execution_count": 27,
   "metadata": {},
   "outputs": [],
   "source": [
    "get_leverdata_indices(output_folder, respMTX, num_trials)"
   ]
  },
  {
   "cell_type": "markdown",
   "metadata": {},
   "source": [
    "### Check the FFT power spectrum for one of the trials"
   ]
  },
  {
   "cell_type": "code",
   "execution_count": 28,
   "metadata": {},
   "outputs": [
    {
     "data": {
      "image/png": "[encoded data removed]",
      "text/plain": [
       "<Figure size 640x480 with 1 Axes>"
      ]
     },
     "metadata": {},
     "output_type": "display_data"
    }
   ],
   "source": [
    "# set which trial to look at\n",
    "trial_index = 10\n",
    "view_processed_trial_FFT(trial_index, output_folder)"
   ]
  }
 ],
 "metadata": {
  "kernelspec": {
   "display_name": "Python 3",
   "language": "python",
   "name": "python3"
  },
  "language_info": {
   "codemirror_mode": {
    "name": "ipython",
    "version": 3
   },
   "file_extension": ".py",
   "mimetype": "text/x-python",
   "name": "python",
   "nbconvert_exporter": "python",
   "pygments_lexer": "ipython3",
   "version": "3.11.6"
  }
 },
 "nbformat": 4,
 "nbformat_minor": 2
}
