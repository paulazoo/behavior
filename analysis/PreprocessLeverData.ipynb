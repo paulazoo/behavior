{
 "cells": [
  {
   "cell_type": "markdown",
   "metadata": {},
   "source": [
    "### set folder_name and day session to analyze"
   ]
  },
  {
   "cell_type": "code",
   "execution_count": 11,
   "metadata": {},
   "outputs": [],
   "source": [
    "name = 'ANM3'\n",
    "session = '20240215_d3'"
   ]
  },
  {
   "cell_type": "markdown",
   "metadata": {},
   "source": [
    "### imports"
   ]
  },
  {
   "cell_type": "code",
   "execution_count": 12,
   "metadata": {},
   "outputs": [],
   "source": [
    "from scipy import io\n",
    "import numpy as np\n",
    "import pylab as pl\n",
    "import matplotlib.pyplot as plt\n",
    "import statistics\n",
    "import re\n",
    "import glob\n",
    "import scipy.signal as signal\n",
    "import pickle\n",
    "\n",
    "from common.load_tonedisc_matfile import load_tonedisc_matfile\n",
    "from common.align_times import get_leverdata_indices\n",
    "from preprocess_leverdata.get_trial_frequencies import get_trial_frequencies\n",
    "from preprocess_leverdata.butterworth_filter_leverdata import butterworth_filter_leverdata\n",
    "from preprocess_leverdata.rescale_leverdata import rescale_leverdata\n",
    "from preprocess_leverdata.view_processed_trial_FFT import view_processed_trial_FFT\n",
    "from preprocess_leverdata.calculate_leverdata_sample_times import calculate_leverdata_sample_times"
   ]
  },
  {
   "cell_type": "markdown",
   "metadata": {},
   "source": [
    "### Setup folders and matfiles"
   ]
  },
  {
   "cell_type": "code",
   "execution_count": 13,
   "metadata": {},
   "outputs": [
    {
     "name": "stdout",
     "output_type": "stream",
     "text": [
      "respMTX shape: (74, 7)\n",
      "MTXTrialType shape: (1, 1)\n",
      "number of trials: 74\n"
     ]
    }
   ],
   "source": [
    "tone_discriminiation_matfile = '../Data_Copy/ToneDiscriminationData/'+name+'/ToneDisc_'+name+'_'+session+'.mat'\n",
    "params, response, arduino, respMTX, MTXTrialType = load_tonedisc_matfile(tone_discriminiation_matfile)\n",
    "\n",
    "output_folder = \"../Data_Copy/AnalysisData/\"+name+\"/PreprocessLeverData_\"+name+\"_\"+session+\"/\"\n",
    "leverdata_matfile = \"../Data_Copy/LeverData/\"+name+\"/LeverData_\"+name+\"_\"+session+\".mat\""
   ]
  },
  {
   "cell_type": "code",
   "execution_count": 14,
   "metadata": {},
   "outputs": [
    {
     "data": {
      "text/plain": [
       "<_io.TextIOWrapper name='../Data_Copy/LeverData/ANM3/LeverData_ANM3_20240215_d3.mat' mode='r' encoding='UTF-8'>"
      ]
     },
     "execution_count": 14,
     "metadata": {},
     "output_type": "execute_result"
    }
   ],
   "source": [
    "open(leverdata_matfile)"
   ]
  },
  {
   "cell_type": "markdown",
   "metadata": {},
   "source": [
    "For mac:"
   ]
  },
  {
   "cell_type": "code",
   "execution_count": 15,
   "metadata": {},
   "outputs": [
    {
     "name": "stdout",
     "output_type": "stream",
     "text": [
      "mkdir: ../Data_Copy/AnalysisData/ANM3/PreprocessLeverData_ANM3_20240215_d3/: File exists\n"
     ]
    }
   ],
   "source": [
    "!mkdir {output_folder}"
   ]
  },
  {
   "cell_type": "markdown",
   "metadata": {},
   "source": [
    "For windows:"
   ]
  },
  {
   "cell_type": "code",
   "execution_count": 16,
   "metadata": {},
   "outputs": [
    {
     "name": "stdout",
     "output_type": "stream",
     "text": [
      "mkdir: ../Data_Copy/AnalysisData/ANM3/PreprocessLeverData_ANM3_20240215_d3/: File exists\n"
     ]
    }
   ],
   "source": [
    "!mkdir \"{output_folder}\""
   ]
  },
  {
   "cell_type": "markdown",
   "metadata": {},
   "source": [
    "preview trials"
   ]
  },
  {
   "cell_type": "code",
   "execution_count": 17,
   "metadata": {},
   "outputs": [
    {
     "data": {
      "text/plain": [
       "(74, 7)"
      ]
     },
     "execution_count": 17,
     "metadata": {},
     "output_type": "execute_result"
    }
   ],
   "source": [
    "respMTX.shape"
   ]
  },
  {
   "cell_type": "code",
   "execution_count": 18,
   "metadata": {},
   "outputs": [
    {
     "name": "stdout",
     "output_type": "stream",
     "text": [
      "[[9.195532 0.000000]\n",
      " [15.108009 1.000000]\n",
      " [10.092166 2.000000]\n",
      " [8.318223 3.000000]\n",
      " [15.239159 4.000000]\n",
      " [6.104080 5.000000]\n",
      " [15.368405 6.000000]\n",
      " [7.158558 7.000000]\n",
      " [5.828647 8.000000]\n",
      " [6.081849 9.000000]\n",
      " [15.997165 10.000000]\n",
      " [11.717166 11.000000]\n",
      " [12.175736 12.000000]\n",
      " [15.918995 13.000000]\n",
      " [6.630398 14.000000]\n",
      " [12.048088 15.000000]\n",
      " [12.735337 16.000000]\n",
      " [12.583647 17.000000]\n",
      " [11.365012 18.000000]\n",
      " [11.171709 19.000000]\n",
      " [11.024667 20.000000]\n",
      " [16.072432 21.000000]\n",
      " [13.001769 22.000000]\n",
      " [12.571035 23.000000]\n",
      " [12.136021 24.000000]\n",
      " [12.985415 25.000000]\n",
      " [10.009159 26.000000]\n",
      " [16.333467 27.000000]\n",
      " [15.824634 28.000000]\n",
      " [13.223223 29.000000]\n",
      " [15.145526 30.000000]\n",
      " [16.598225 31.000000]\n",
      " [15.576724 32.000000]\n",
      " [15.762425 33.000000]\n",
      " [13.403863 34.000000]\n",
      " [15.434066 35.000000]\n",
      " [15.040833 36.000000]\n",
      " [16.254974 37.000000]\n",
      " [17.057299 38.000000]\n",
      " [12.382458 39.000000]\n",
      " [16.182156 40.000000]\n",
      " [10.617429 41.000000]\n",
      " [15.722720 42.000000]\n",
      " [13.954820 43.000000]\n",
      " [16.166652 44.000000]\n",
      " [6.234884 45.000000]\n",
      " [15.173654 46.000000]\n",
      " [11.759200 47.000000]\n",
      " [11.445683 48.000000]\n",
      " [14.553858 49.000000]\n",
      " [12.466064 50.000000]\n",
      " [11.858656 51.000000]\n",
      " [12.651049 52.000000]\n",
      " [9.129680 53.000000]\n",
      " [11.389744 54.000000]\n",
      " [10.908459 55.000000]\n",
      " [15.343726 56.000000]\n",
      " [16.529243 57.000000]\n",
      " [6.094011 58.000000]\n",
      " [15.435741 59.000000]\n",
      " [7.389087 60.000000]\n",
      " [12.516758 61.000000]\n",
      " [11.993042 62.000000]\n",
      " [10.673383 63.000000]\n",
      " [12.529496 64.000000]\n",
      " [14.414773 65.000000]\n",
      " [12.188104 66.000000]\n",
      " [14.648839 67.000000]\n",
      " [12.229490 68.000000]\n",
      " [16.179937 69.000000]\n",
      " [11.467596 70.000000]\n",
      " [16.214431 71.000000]\n",
      " [16.602991 72.000000]]\n"
     ]
    }
   ],
   "source": [
    "respMTX_shape = respMTX.shape[0]\n",
    "np.set_printoptions(suppress = True,\n",
    "   formatter = {'float_kind':'{:f}'.format})\n",
    "print(np.hstack((respMTX[1:respMTX_shape, 1:2]-respMTX[0:respMTX_shape-1, 1:2], np.array([np.linspace(0, respMTX_shape-2, respMTX_shape-1)]).transpose())))"
   ]
  },
  {
   "cell_type": "markdown",
   "metadata": {},
   "source": [
    "### Run leverdata2binary.cpp to create binary files for each trial from `lever_data` in the LeverData .mat file"
   ]
  },
  {
   "cell_type": "code",
   "execution_count": 19,
   "metadata": {},
   "outputs": [
    {
     "name": "stdout",
     "output_type": "stream",
     "text": [
      "leverdata from .mat size: 67028828,67028828\n",
      "leverdata from .mat rank: 2\n",
      "leverdata vector size: 67028828\n",
      "leverdata vector with unused rows taken out size: 6045489\n",
      "vector saved to .bin file ../Data_Copy/AnalysisData/ANM3/PreprocessLeverData_ANM3_20240215_d3/full.bin\n",
      "finished a trialITI: 556726 index:0 trialITI length: 54005 samples = ~9s\n",
      "vector saved to .bin file ../Data_Copy/AnalysisData/ANM3/PreprocessLeverData_ANM3_20240215_d3/trial0.bin\n",
      "finished a trialITI: 645451 index:1 trialITI length: 88725 samples = ~15s\n",
      "vector saved to .bin file ../Data_Copy/AnalysisData/ANM3/PreprocessLeverData_ANM3_20240215_d3/trial1.bin\n",
      "finished a trialITI: 704720 index:2 trialITI length: 59269 samples = ~10s\n",
      "vector saved to .bin file ../Data_Copy/AnalysisData/ANM3/PreprocessLeverData_ANM3_20240215_d3/trial2.bin\n",
      "finished a trialITI: 753570 index:3 trialITI length: 48850 samples = ~8s\n",
      "vector saved to .bin file ../Data_Copy/AnalysisData/ANM3/PreprocessLeverData_ANM3_20240215_d3/trial3.bin\n",
      "finished a trialITI: 843065 index:4 trialITI length: 89495 samples = ~15s\n",
      "vector saved to .bin file ../Data_Copy/AnalysisData/ANM3/PreprocessLeverData_ANM3_20240215_d3/trial4.bin\n",
      "finished a trialITI: 878912 index:5 trialITI length: 35847 samples = ~6s\n",
      "vector saved to .bin file ../Data_Copy/AnalysisData/ANM3/PreprocessLeverData_ANM3_20240215_d3/trial5.bin\n",
      "finished a trialITI: 969167 index:6 trialITI length: 90255 samples = ~15s\n",
      "vector saved to .bin file ../Data_Copy/AnalysisData/ANM3/PreprocessLeverData_ANM3_20240215_d3/trial6.bin\n",
      "finished a trialITI: 1011206 index:7 trialITI length: 42039 samples = ~7s\n",
      "vector saved to .bin file ../Data_Copy/AnalysisData/ANM3/PreprocessLeverData_ANM3_20240215_d3/trial7.bin\n",
      "finished a trialITI: 1045436 index:8 trialITI length: 34230 samples = ~5s\n",
      "vector saved to .bin file ../Data_Copy/AnalysisData/ANM3/PreprocessLeverData_ANM3_20240215_d3/trial8.bin\n",
      "finished a trialITI: 1081153 index:9 trialITI length: 35717 samples = ~6s\n",
      "vector saved to .bin file ../Data_Copy/AnalysisData/ANM3/PreprocessLeverData_ANM3_20240215_d3/trial9.bin\n",
      "finished a trialITI: 1175099 index:10 trialITI length: 93946 samples = ~15s\n",
      "vector saved to .bin file ../Data_Copy/AnalysisData/ANM3/PreprocessLeverData_ANM3_20240215_d3/trial10.bin\n",
      "finished a trialITI: 1243911 index:11 trialITI length: 68812 samples = ~11s\n",
      "vector saved to .bin file ../Data_Copy/AnalysisData/ANM3/PreprocessLeverData_ANM3_20240215_d3/trial11.bin\n",
      "finished a trialITI: 1315416 index:12 trialITI length: 71505 samples = ~12s\n",
      "vector saved to .bin file ../Data_Copy/AnalysisData/ANM3/PreprocessLeverData_ANM3_20240215_d3/trial12.bin\n",
      "finished a trialITI: 1408903 index:13 trialITI length: 93487 samples = ~15s\n",
      "vector saved to .bin file ../Data_Copy/AnalysisData/ANM3/PreprocessLeverData_ANM3_20240215_d3/trial13.bin\n",
      "finished a trialITI: 1447842 index:14 trialITI length: 38939 samples = ~6s\n",
      "vector saved to .bin file ../Data_Copy/AnalysisData/ANM3/PreprocessLeverData_ANM3_20240215_d3/trial14.bin\n",
      "finished a trialITI: 1518596 index:15 trialITI length: 70754 samples = ~12s\n",
      "vector saved to .bin file ../Data_Copy/AnalysisData/ANM3/PreprocessLeverData_ANM3_20240215_d3/trial15.bin\n",
      "finished a trialITI: 1593387 index:16 trialITI length: 74791 samples = ~12s\n",
      "vector saved to .bin file ../Data_Copy/AnalysisData/ANM3/PreprocessLeverData_ANM3_20240215_d3/trial16.bin\n",
      "finished a trialITI: 1667287 index:17 trialITI length: 73900 samples = ~12s\n",
      "vector saved to .bin file ../Data_Copy/AnalysisData/ANM3/PreprocessLeverData_ANM3_20240215_d3/trial17.bin\n",
      "finished a trialITI: 1734030 index:18 trialITI length: 66743 samples = ~11s\n",
      "vector saved to .bin file ../Data_Copy/AnalysisData/ANM3/PreprocessLeverData_ANM3_20240215_d3/trial18.bin\n",
      "finished a trialITI: 1799638 index:19 trialITI length: 65608 samples = ~11s\n",
      "vector saved to .bin file ../Data_Copy/AnalysisData/ANM3/PreprocessLeverData_ANM3_20240215_d3/trial19.bin\n",
      "finished a trialITI: 1864383 index:20 trialITI length: 64745 samples = ~10s\n",
      "vector saved to .bin file ../Data_Copy/AnalysisData/ANM3/PreprocessLeverData_ANM3_20240215_d3/trial20.bin\n",
      "finished a trialITI: 1958772 index:21 trialITI length: 94389 samples = ~16s\n",
      "vector saved to .bin file ../Data_Copy/AnalysisData/ANM3/PreprocessLeverData_ANM3_20240215_d3/trial21.bin\n",
      "finished a trialITI: 2035127 index:22 trialITI length: 76355 samples = ~12s\n",
      "vector saved to .bin file ../Data_Copy/AnalysisData/ANM3/PreprocessLeverData_ANM3_20240215_d3/trial22.bin\n",
      "finished a trialITI: 2108953 index:23 trialITI length: 73826 samples = ~12s\n",
      "vector saved to .bin file ../Data_Copy/AnalysisData/ANM3/PreprocessLeverData_ANM3_20240215_d3/trial23.bin\n",
      "finished a trialITI: 2180224 index:24 trialITI length: 71271 samples = ~12s\n",
      "vector saved to .bin file ../Data_Copy/AnalysisData/ANM3/PreprocessLeverData_ANM3_20240215_d3/trial24.bin\n",
      "finished a trialITI: 2256484 index:25 trialITI length: 76260 samples = ~12s\n",
      "vector saved to .bin file ../Data_Copy/AnalysisData/ANM3/PreprocessLeverData_ANM3_20240215_d3/trial25.bin\n",
      "finished a trialITI: 2315264 index:26 trialITI length: 58780 samples = ~9s\n",
      "vector saved to .bin file ../Data_Copy/AnalysisData/ANM3/PreprocessLeverData_ANM3_20240215_d3/trial26.bin\n",
      "finished a trialITI: 2411186 index:27 trialITI length: 95922 samples = ~16s\n",
      "vector saved to .bin file ../Data_Copy/AnalysisData/ANM3/PreprocessLeverData_ANM3_20240215_d3/trial27.bin\n",
      "finished a trialITI: 2504119 index:28 trialITI length: 92933 samples = ~15s\n",
      "vector saved to .bin file ../Data_Copy/AnalysisData/ANM3/PreprocessLeverData_ANM3_20240215_d3/trial28.bin\n",
      "finished a trialITI: 2581775 index:29 trialITI length: 77656 samples = ~13s\n",
      "vector saved to .bin file ../Data_Copy/AnalysisData/ANM3/PreprocessLeverData_ANM3_20240215_d3/trial29.bin\n",
      "finished a trialITI: 2670721 index:30 trialITI length: 88946 samples = ~15s\n",
      "vector saved to .bin file ../Data_Copy/AnalysisData/ANM3/PreprocessLeverData_ANM3_20240215_d3/trial30.bin\n",
      "finished a trialITI: 2768197 index:31 trialITI length: 97476 samples = ~16s\n",
      "vector saved to .bin file ../Data_Copy/AnalysisData/ANM3/PreprocessLeverData_ANM3_20240215_d3/trial31.bin\n",
      "finished a trialITI: 2859674 index:32 trialITI length: 91477 samples = ~15s\n",
      "vector saved to .bin file ../Data_Copy/AnalysisData/ANM3/PreprocessLeverData_ANM3_20240215_d3/trial32.bin\n",
      "finished a trialITI: 2952242 index:33 trialITI length: 92568 samples = ~15s\n",
      "vector saved to .bin file ../Data_Copy/AnalysisData/ANM3/PreprocessLeverData_ANM3_20240215_d3/trial33.bin\n",
      "finished a trialITI: 3030959 index:34 trialITI length: 78717 samples = ~13s\n",
      "vector saved to .bin file ../Data_Copy/AnalysisData/ANM3/PreprocessLeverData_ANM3_20240215_d3/trial34.bin\n",
      "finished a trialITI: 3121599 index:35 trialITI length: 90640 samples = ~15s\n",
      "vector saved to .bin file ../Data_Copy/AnalysisData/ANM3/PreprocessLeverData_ANM3_20240215_d3/trial35.bin\n",
      "finished a trialITI: 3209929 index:36 trialITI length: 88330 samples = ~15s\n",
      "vector saved to .bin file ../Data_Copy/AnalysisData/ANM3/PreprocessLeverData_ANM3_20240215_d3/trial36.bin\n",
      "finished a trialITI: 3305390 index:37 trialITI length: 95461 samples = ~16s\n",
      "vector saved to .bin file ../Data_Copy/AnalysisData/ANM3/PreprocessLeverData_ANM3_20240215_d3/trial37.bin\n",
      "finished a trialITI: 3405562 index:38 trialITI length: 100172 samples = ~17s\n",
      "vector saved to .bin file ../Data_Copy/AnalysisData/ANM3/PreprocessLeverData_ANM3_20240215_d3/trial38.bin\n",
      "finished a trialITI: 3478280 index:39 trialITI length: 72718 samples = ~12s\n",
      "vector saved to .bin file ../Data_Copy/AnalysisData/ANM3/PreprocessLeverData_ANM3_20240215_d3/trial39.bin\n",
      "finished a trialITI: 3573314 index:40 trialITI length: 95034 samples = ~16s\n",
      "vector saved to .bin file ../Data_Copy/AnalysisData/ANM3/PreprocessLeverData_ANM3_20240215_d3/trial40.bin\n",
      "finished a trialITI: 3635666 index:41 trialITI length: 62352 samples = ~10s\n",
      "vector saved to .bin file ../Data_Copy/AnalysisData/ANM3/PreprocessLeverData_ANM3_20240215_d3/trial41.bin\n",
      "finished a trialITI: 3728001 index:42 trialITI length: 92335 samples = ~15s\n",
      "vector saved to .bin file ../Data_Copy/AnalysisData/ANM3/PreprocessLeverData_ANM3_20240215_d3/trial42.bin\n",
      "finished a trialITI: 3809954 index:43 trialITI length: 81953 samples = ~13s\n",
      "vector saved to .bin file ../Data_Copy/AnalysisData/ANM3/PreprocessLeverData_ANM3_20240215_d3/trial43.bin\n",
      "finished a trialITI: 3904896 index:44 trialITI length: 94942 samples = ~16s\n",
      "vector saved to .bin file ../Data_Copy/AnalysisData/ANM3/PreprocessLeverData_ANM3_20240215_d3/trial44.bin\n",
      "finished a trialITI: 3941512 index:45 trialITI length: 36616 samples = ~6s\n",
      "vector saved to .bin file ../Data_Copy/AnalysisData/ANM3/PreprocessLeverData_ANM3_20240215_d3/trial45.bin\n",
      "finished a trialITI: 4030621 index:46 trialITI length: 89109 samples = ~15s\n",
      "vector saved to .bin file ../Data_Copy/AnalysisData/ANM3/PreprocessLeverData_ANM3_20240215_d3/trial46.bin\n",
      "finished a trialITI: 4099680 index:47 trialITI length: 69059 samples = ~11s\n",
      "vector saved to .bin file ../Data_Copy/AnalysisData/ANM3/PreprocessLeverData_ANM3_20240215_d3/trial47.bin\n",
      "finished a trialITI: 4166897 index:48 trialITI length: 67217 samples = ~11s\n",
      "vector saved to .bin file ../Data_Copy/AnalysisData/ANM3/PreprocessLeverData_ANM3_20240215_d3/trial48.bin\n",
      "finished a trialITI: 4252367 index:49 trialITI length: 85470 samples = ~14s\n",
      "vector saved to .bin file ../Data_Copy/AnalysisData/ANM3/PreprocessLeverData_ANM3_20240215_d3/trial49.bin\n",
      "finished a trialITI: 4325576 index:50 trialITI length: 73209 samples = ~12s\n",
      "vector saved to .bin file ../Data_Copy/AnalysisData/ANM3/PreprocessLeverData_ANM3_20240215_d3/trial50.bin\n",
      "finished a trialITI: 4395219 index:51 trialITI length: 69643 samples = ~11s\n",
      "vector saved to .bin file ../Data_Copy/AnalysisData/ANM3/PreprocessLeverData_ANM3_20240215_d3/trial51.bin\n",
      "finished a trialITI: 4469515 index:52 trialITI length: 74296 samples = ~12s\n",
      "vector saved to .bin file ../Data_Copy/AnalysisData/ANM3/PreprocessLeverData_ANM3_20240215_d3/trial52.bin\n",
      "finished a trialITI: 4523130 index:53 trialITI length: 53615 samples = ~9s\n",
      "vector saved to .bin file ../Data_Copy/AnalysisData/ANM3/PreprocessLeverData_ANM3_20240215_d3/trial53.bin\n",
      "finished a trialITI: 4590019 index:54 trialITI length: 66889 samples = ~11s\n",
      "vector saved to .bin file ../Data_Copy/AnalysisData/ANM3/PreprocessLeverData_ANM3_20240215_d3/trial54.bin\n",
      "finished a trialITI: 4654081 index:55 trialITI length: 64062 samples = ~10s\n",
      "vector saved to .bin file ../Data_Copy/AnalysisData/ANM3/PreprocessLeverData_ANM3_20240215_d3/trial55.bin\n",
      "finished a trialITI: 4744191 index:56 trialITI length: 90110 samples = ~15s\n",
      "vector saved to .bin file ../Data_Copy/AnalysisData/ANM3/PreprocessLeverData_ANM3_20240215_d3/trial56.bin\n",
      "finished a trialITI: 4841261 index:57 trialITI length: 97070 samples = ~16s\n",
      "vector saved to .bin file ../Data_Copy/AnalysisData/ANM3/PreprocessLeverData_ANM3_20240215_d3/trial57.bin\n",
      "finished a trialITI: 4877050 index:58 trialITI length: 35789 samples = ~6s\n",
      "vector saved to .bin file ../Data_Copy/AnalysisData/ANM3/PreprocessLeverData_ANM3_20240215_d3/trial58.bin\n",
      "finished a trialITI: 4967699 index:59 trialITI length: 90649 samples = ~15s\n",
      "vector saved to .bin file ../Data_Copy/AnalysisData/ANM3/PreprocessLeverData_ANM3_20240215_d3/trial59.bin\n",
      "finished a trialITI: 5011093 index:60 trialITI length: 43394 samples = ~7s\n",
      "vector saved to .bin file ../Data_Copy/AnalysisData/ANM3/PreprocessLeverData_ANM3_20240215_d3/trial60.bin\n",
      "finished a trialITI: 5084600 index:61 trialITI length: 73507 samples = ~12s\n",
      "vector saved to .bin file ../Data_Copy/AnalysisData/ANM3/PreprocessLeverData_ANM3_20240215_d3/trial61.bin\n",
      "finished a trialITI: 5155032 index:62 trialITI length: 70432 samples = ~11s\n",
      "vector saved to .bin file ../Data_Copy/AnalysisData/ANM3/PreprocessLeverData_ANM3_20240215_d3/trial62.bin\n",
      "finished a trialITI: 5217714 index:63 trialITI length: 62682 samples = ~10s\n",
      "vector saved to .bin file ../Data_Copy/AnalysisData/ANM3/PreprocessLeverData_ANM3_20240215_d3/trial63.bin\n",
      "finished a trialITI: 5291295 index:64 trialITI length: 73581 samples = ~12s\n",
      "vector saved to .bin file ../Data_Copy/AnalysisData/ANM3/PreprocessLeverData_ANM3_20240215_d3/trial64.bin\n",
      "finished a trialITI: 5375949 index:65 trialITI length: 84654 samples = ~14s\n",
      "vector saved to .bin file ../Data_Copy/AnalysisData/ANM3/PreprocessLeverData_ANM3_20240215_d3/trial65.bin\n",
      "finished a trialITI: 5447526 index:66 trialITI length: 71577 samples = ~12s\n",
      "vector saved to .bin file ../Data_Copy/AnalysisData/ANM3/PreprocessLeverData_ANM3_20240215_d3/trial66.bin\n",
      "finished a trialITI: 5533554 index:67 trialITI length: 86028 samples = ~14s\n",
      "vector saved to .bin file ../Data_Copy/AnalysisData/ANM3/PreprocessLeverData_ANM3_20240215_d3/trial67.bin\n",
      "finished a trialITI: 5605374 index:68 trialITI length: 71820 samples = ~12s\n",
      "vector saved to .bin file ../Data_Copy/AnalysisData/ANM3/PreprocessLeverData_ANM3_20240215_d3/trial68.bin\n",
      "finished a trialITI: 5700394 index:69 trialITI length: 95020 samples = ~16s\n",
      "vector saved to .bin file ../Data_Copy/AnalysisData/ANM3/PreprocessLeverData_ANM3_20240215_d3/trial69.bin\n",
      "finished a trialITI: 5767739 index:70 trialITI length: 67345 samples = ~11s\n",
      "vector saved to .bin file ../Data_Copy/AnalysisData/ANM3/PreprocessLeverData_ANM3_20240215_d3/trial70.bin\n",
      "finished a trialITI: 5862963 index:71 trialITI length: 95224 samples = ~16s\n",
      "vector saved to .bin file ../Data_Copy/AnalysisData/ANM3/PreprocessLeverData_ANM3_20240215_d3/trial71.bin\n",
      "finished a trialITI: 5960467 index:72 trialITI length: 97504 samples = ~16s\n",
      "vector saved to .bin file ../Data_Copy/AnalysisData/ANM3/PreprocessLeverData_ANM3_20240215_d3/trial72.bin\n",
      "total switches/trials detected: 73\n"
     ]
    }
   ],
   "source": [
    "!./preprocess_leverdata/leverdata2binary {output_folder} {leverdata_matfile} 502721"
   ]
  },
  {
   "cell_type": "markdown",
   "metadata": {},
   "source": [
    "change `num_trials` if seems like `lever_data` stopped before behavior (if total trials detected is less than `num_trials` from `respMTX`)"
   ]
  },
  {
   "cell_type": "code",
   "execution_count": 20,
   "metadata": {},
   "outputs": [],
   "source": [
    "num_trials = 73"
   ]
  },
  {
   "cell_type": "markdown",
   "metadata": {},
   "source": [
    "### Look at sampling rates for the `lever_data`"
   ]
  },
  {
   "cell_type": "code",
   "execution_count": 21,
   "metadata": {},
   "outputs": [
    {
     "name": "stdout",
     "output_type": "stream",
     "text": [
      "Trial  0\n",
      "Duration in MATLAB seconds from respMTX:  9.195532199999999\n",
      "Number of leverdata samples:  54005\n",
      "Estimated freq:  5872.960784151243\n",
      "Trial  1\n",
      "Duration in MATLAB seconds from respMTX:  15.108008900000002\n",
      "Number of leverdata samples:  88725\n",
      "Estimated freq:  5872.71298205285\n",
      "Trial  2\n",
      "Duration in MATLAB seconds from respMTX:  10.092166000000002\n",
      "Number of leverdata samples:  59269\n",
      "Estimated freq:  5872.773000364836\n",
      "Trial  3\n",
      "Duration in MATLAB seconds from respMTX:  8.318223399999994\n",
      "Number of leverdata samples:  48850\n",
      "Estimated freq:  5872.64823880542\n",
      "Trial  4\n",
      "Duration in MATLAB seconds from respMTX:  15.239159300000004\n",
      "Number of leverdata samples:  89495\n",
      "Estimated freq:  5872.69928991424\n",
      "Trial  5\n",
      "Duration in MATLAB seconds from respMTX:  6.104080099999997\n",
      "Number of leverdata samples:  35847\n",
      "Estimated freq:  5872.629358189453\n",
      "Trial  6\n",
      "Duration in MATLAB seconds from respMTX:  15.368404999999996\n",
      "Number of leverdata samples:  90255\n",
      "Estimated freq:  5872.76298353668\n",
      "Trial  7\n",
      "Duration in MATLAB seconds from respMTX:  7.158557800000011\n",
      "Number of leverdata samples:  42039\n",
      "Estimated freq:  5872.551591327507\n",
      "Trial  8\n",
      "Duration in MATLAB seconds from respMTX:  5.828646699999993\n",
      "Number of leverdata samples:  34230\n",
      "Estimated freq:  5872.718276096583\n",
      "Trial  9\n",
      "Duration in MATLAB seconds from respMTX:  6.0818490999999995\n",
      "Number of leverdata samples:  35717\n",
      "Estimated freq:  5872.72051850152\n",
      "Trial  10\n",
      "Duration in MATLAB seconds from respMTX:  15.997164900000001\n",
      "Number of leverdata samples:  93946\n",
      "Estimated freq:  5872.665599640096\n",
      "Trial  11\n",
      "Duration in MATLAB seconds from respMTX:  11.717166300000002\n",
      "Number of leverdata samples:  68812\n",
      "Estimated freq:  5872.750990996858\n",
      "Trial  12\n",
      "Duration in MATLAB seconds from respMTX:  12.175735700000004\n",
      "Number of leverdata samples:  71505\n",
      "Estimated freq:  5872.7457429944025\n",
      "Trial  13\n",
      "Duration in MATLAB seconds from respMTX:  15.91899459999999\n",
      "Number of leverdata samples:  93487\n",
      "Estimated freq:  5872.669873259461\n",
      "Trial  14\n",
      "Duration in MATLAB seconds from respMTX:  6.630398299999996\n",
      "Number of leverdata samples:  38939\n",
      "Estimated freq:  5872.799526990712\n",
      "Trial  15\n",
      "Duration in MATLAB seconds from respMTX:  12.048087699999996\n",
      "Number of leverdata samples:  70754\n",
      "Estimated freq:  5872.633214647003\n",
      "Trial  16\n",
      "Duration in MATLAB seconds from respMTX:  12.735337200000004\n",
      "Number of leverdata samples:  74791\n",
      "Estimated freq:  5872.714544221097\n",
      "Trial  17\n",
      "Duration in MATLAB seconds from respMTX:  12.583646799999997\n",
      "Number of leverdata samples:  73900\n",
      "Estimated freq:  5872.701385738196\n",
      "Trial  18\n",
      "Duration in MATLAB seconds from respMTX:  11.365012400000012\n",
      "Number of leverdata samples:  66743\n",
      "Estimated freq:  5872.6728709948375\n",
      "Trial  19\n",
      "Duration in MATLAB seconds from respMTX:  11.171708599999988\n",
      "Number of leverdata samples:  65608\n",
      "Estimated freq:  5872.691666877175\n",
      "Trial  20\n",
      "Duration in MATLAB seconds from respMTX:  11.024666700000012\n",
      "Number of leverdata samples:  64745\n",
      "Estimated freq:  5872.739898794394\n",
      "Trial  21\n",
      "Duration in MATLAB seconds from respMTX:  16.072431999999992\n",
      "Number of leverdata samples:  94389\n",
      "Estimated freq:  5872.726666381295\n",
      "Trial  22\n",
      "Duration in MATLAB seconds from respMTX:  13.001769499999995\n",
      "Number of leverdata samples:  76355\n",
      "Estimated freq:  5872.662178790359\n",
      "Trial  23\n",
      "Duration in MATLAB seconds from respMTX:  12.57103520000004\n",
      "Number of leverdata samples:  73826\n",
      "Estimated freq:  5872.706489597592\n",
      "Trial  24\n",
      "Duration in MATLAB seconds from respMTX:  12.136020799999983\n",
      "Number of leverdata samples:  71271\n",
      "Estimated freq:  5872.682749521993\n",
      "Trial  25\n",
      "Duration in MATLAB seconds from respMTX:  12.985414899999967\n",
      "Number of leverdata samples:  76260\n",
      "Estimated freq:  5872.742656840344\n",
      "Trial  26\n",
      "Duration in MATLAB seconds from respMTX:  10.009159000000011\n",
      "Number of leverdata samples:  58780\n",
      "Estimated freq:  5872.621266182297\n",
      "Trial  27\n",
      "Duration in MATLAB seconds from respMTX:  16.33346690000002\n",
      "Number of leverdata samples:  95922\n",
      "Estimated freq:  5872.727485675432\n",
      "Trial  28\n",
      "Duration in MATLAB seconds from respMTX:  15.82463439999998\n",
      "Number of leverdata samples:  92933\n",
      "Estimated freq:  5872.679118577306\n",
      "Trial  29\n",
      "Duration in MATLAB seconds from respMTX:  13.223223000000019\n",
      "Number of leverdata samples:  77656\n",
      "Estimated freq:  5872.698358032674\n",
      "Trial  30\n",
      "Duration in MATLAB seconds from respMTX:  15.145525599999985\n",
      "Number of leverdata samples:  88946\n",
      "Estimated freq:  5872.757562140999\n",
      "Trial  31\n",
      "Duration in MATLAB seconds from respMTX:  16.598225100000036\n",
      "Number of leverdata samples:  97476\n",
      "Estimated freq:  5872.676109206387\n",
      "Trial  32\n",
      "Duration in MATLAB seconds from respMTX:  15.57672439999999\n",
      "Number of leverdata samples:  91477\n",
      "Estimated freq:  5872.672434263526\n",
      "Trial  33\n",
      "Duration in MATLAB seconds from respMTX:  15.762424500000009\n",
      "Number of leverdata samples:  92568\n",
      "Estimated freq:  5872.70061150808\n",
      "Trial  34\n",
      "Duration in MATLAB seconds from respMTX:  13.403862899999979\n",
      "Number of leverdata samples:  78717\n",
      "Estimated freq:  5872.710023018822\n",
      "Trial  35\n",
      "Duration in MATLAB seconds from respMTX:  15.434066299999984\n",
      "Number of leverdata samples:  90640\n",
      "Estimated freq:  5872.723249867087\n",
      "Trial  36\n",
      "Duration in MATLAB seconds from respMTX:  15.040833399999997\n",
      "Number of leverdata samples:  88330\n",
      "Estimated freq:  5872.679900835816\n",
      "Trial  37\n",
      "Duration in MATLAB seconds from respMTX:  16.254973800000016\n",
      "Number of leverdata samples:  95461\n",
      "Estimated freq:  5872.725553085783\n",
      "Trial  38\n",
      "Duration in MATLAB seconds from respMTX:  17.057298600000024\n",
      "Number of leverdata samples:  100172\n",
      "Estimated freq:  5872.6766968832835\n",
      "Trial  39\n",
      "Duration in MATLAB seconds from respMTX:  12.382458499999984\n",
      "Number of leverdata samples:  72718\n",
      "Estimated freq:  5872.662524974349\n",
      "Trial  40\n",
      "Duration in MATLAB seconds from respMTX:  16.182155999999964\n",
      "Number of leverdata samples:  95034\n",
      "Estimated freq:  5872.765038231013\n",
      "Trial  41\n",
      "Duration in MATLAB seconds from respMTX:  10.617429399999992\n",
      "Number of leverdata samples:  62352\n",
      "Estimated freq:  5872.607921461672\n",
      "Trial  42\n",
      "Duration in MATLAB seconds from respMTX:  15.722719999999981\n",
      "Number of leverdata samples:  92335\n",
      "Estimated freq:  5872.711591887416\n",
      "Trial  43\n",
      "Duration in MATLAB seconds from respMTX:  13.95481970000003\n",
      "Number of leverdata samples:  81953\n",
      "Estimated freq:  5872.738004633612\n",
      "Trial  44\n",
      "Duration in MATLAB seconds from respMTX:  16.166651600000023\n",
      "Number of leverdata samples:  94942\n",
      "Estimated freq:  5872.706504048115\n",
      "Trial  45\n",
      "Duration in MATLAB seconds from respMTX:  6.234883800000034\n",
      "Number of leverdata samples:  36616\n",
      "Estimated freq:  5872.763819591923\n",
      "Trial  46\n",
      "Duration in MATLAB seconds from respMTX:  15.173653899999977\n",
      "Number of leverdata samples:  89109\n",
      "Estimated freq:  5872.613187783342\n",
      "Trial  47\n",
      "Duration in MATLAB seconds from respMTX:  11.759199800000033\n",
      "Number of leverdata samples:  69059\n",
      "Estimated freq:  5872.763553179852\n",
      "Trial  48\n",
      "Duration in MATLAB seconds from respMTX:  11.445682899999952\n",
      "Number of leverdata samples:  67217\n",
      "Estimated freq:  5872.694586008519\n",
      "Trial  49\n",
      "Duration in MATLAB seconds from respMTX:  14.553858300000002\n",
      "Number of leverdata samples:  85470\n",
      "Estimated freq:  5872.669517470841\n",
      "Trial  50\n",
      "Duration in MATLAB seconds from respMTX:  12.46606369999995\n",
      "Number of leverdata samples:  73209\n",
      "Estimated freq:  5872.663718219272\n",
      "Trial  51\n",
      "Duration in MATLAB seconds from respMTX:  11.8586557000001\n",
      "Number of leverdata samples:  69643\n",
      "Estimated freq:  5872.756724018846\n",
      "Trial  52\n",
      "Duration in MATLAB seconds from respMTX:  12.651048599999967\n",
      "Number of leverdata samples:  74296\n",
      "Estimated freq:  5872.7147724339775\n",
      "Trial  53\n",
      "Duration in MATLAB seconds from respMTX:  9.129679699999997\n",
      "Number of leverdata samples:  53615\n",
      "Estimated freq:  5872.604709232025\n",
      "Trial  54\n",
      "Duration in MATLAB seconds from respMTX:  11.389744299999961\n",
      "Number of leverdata samples:  66889\n",
      "Estimated freq:  5872.739390646393\n",
      "Trial  55\n",
      "Duration in MATLAB seconds from respMTX:  10.908459100000073\n",
      "Number of leverdata samples:  64062\n",
      "Estimated freq:  5872.69012174227\n",
      "Trial  56\n",
      "Duration in MATLAB seconds from respMTX:  15.34372559999997\n",
      "Number of leverdata samples:  90110\n",
      "Estimated freq:  5872.75882983727\n",
      "Trial  57\n",
      "Duration in MATLAB seconds from respMTX:  16.52924310000003\n",
      "Number of leverdata samples:  97070\n",
      "Estimated freq:  5872.6222013154265\n",
      "Trial  58\n",
      "Duration in MATLAB seconds from respMTX:  6.094011499999965\n",
      "Number of leverdata samples:  35789\n",
      "Estimated freq:  5872.814647625822\n",
      "Trial  59\n",
      "Duration in MATLAB seconds from respMTX:  15.435740699999997\n",
      "Number of leverdata samples:  90649\n",
      "Estimated freq:  5872.669265557177\n",
      "Trial  60\n",
      "Duration in MATLAB seconds from respMTX:  7.389087300000028\n",
      "Number of leverdata samples:  43394\n",
      "Estimated freq:  5872.714482612735\n",
      "Trial  61\n",
      "Duration in MATLAB seconds from respMTX:  12.516757600000005\n",
      "Number of leverdata samples:  73507\n",
      "Estimated freq:  5872.687028787708\n",
      "Trial  62\n",
      "Duration in MATLAB seconds from respMTX:  11.993041500000004\n",
      "Number of leverdata samples:  70432\n",
      "Estimated freq:  5872.738787737871\n",
      "Trial  63\n",
      "Duration in MATLAB seconds from respMTX:  10.673382599999968\n",
      "Number of leverdata samples:  62682\n",
      "Estimated freq:  5872.739912837022\n",
      "Trial  64\n",
      "Duration in MATLAB seconds from respMTX:  12.52949620000004\n",
      "Number of leverdata samples:  73581\n",
      "Estimated freq:  5872.622396421635\n",
      "Trial  65\n",
      "Duration in MATLAB seconds from respMTX:  14.414772599999992\n",
      "Number of leverdata samples:  84654\n",
      "Estimated freq:  5872.725317914487\n",
      "Trial  66\n",
      "Duration in MATLAB seconds from respMTX:  12.188104199999998\n",
      "Number of leverdata samples:  71577\n",
      "Estimated freq:  5872.693474346897\n",
      "Trial  67\n",
      "Duration in MATLAB seconds from respMTX:  14.648838599999976\n",
      "Number of leverdata samples:  86028\n",
      "Estimated freq:  5872.683995576287\n",
      "Trial  68\n",
      "Duration in MATLAB seconds from respMTX:  12.229489699999931\n",
      "Number of leverdata samples:  71820\n",
      "Estimated freq:  5872.689847394075\n",
      "Trial  69\n",
      "Duration in MATLAB seconds from respMTX:  16.1799367000001\n",
      "Number of leverdata samples:  95020\n",
      "Estimated freq:  5872.705299273477\n",
      "Trial  70\n",
      "Duration in MATLAB seconds from respMTX:  11.467596299999968\n",
      "Number of leverdata samples:  67345\n",
      "Estimated freq:  5872.634354943258\n",
      "Trial  71\n",
      "Duration in MATLAB seconds from respMTX:  16.214430600000014\n",
      "Number of leverdata samples:  95224\n",
      "Estimated freq:  5872.79333755944\n",
      "mean:  5872.703132067748  Hz, std:  0.05295818329420417  Hz\n",
      "min:  5872.551591327507  Hz max:  5872.960784151243  Hz\n",
      "1st fastest percentile 5872.960784151243 50th 5872.701385738196 99th slowest 5872.604709232025\n"
     ]
    }
   ],
   "source": [
    "dts, trial_frequencies = get_trial_frequencies(num_trials, respMTX, output_folder)"
   ]
  },
  {
   "cell_type": "markdown",
   "metadata": {},
   "source": [
    "So if estimated frequencies are not all around 5882 Hz, then trials probably aren't aligned. Make sure files are correct, and try increasing the skipped samples in for the C++ trial detection program. Also make sure the statistics are all between 4500 and 5900."
   ]
  },
  {
   "cell_type": "markdown",
   "metadata": {},
   "source": [
    "### low pass Butterworth filter `lever_data` with a cutoff frequency of 50 Hz\n",
    "\n",
    "Assuming electrical noise will be around 60 Hz"
   ]
  },
  {
   "cell_type": "code",
   "execution_count": 22,
   "metadata": {},
   "outputs": [],
   "source": [
    "cutoff_frequency = 50\n",
    "butterworth_filter_leverdata(output_folder, num_trials, cutoff_frequency)"
   ]
  },
  {
   "cell_type": "markdown",
   "metadata": {},
   "source": [
    "### Rescale the filtered_lever_data to 0-5V from 0-1023 analogRead values"
   ]
  },
  {
   "cell_type": "code",
   "execution_count": 23,
   "metadata": {},
   "outputs": [],
   "source": [
    "rescale_leverdata(output_folder, num_trials)"
   ]
  },
  {
   "cell_type": "markdown",
   "metadata": {},
   "source": [
    "### Calculate sample time values for each sample based on trial start times"
   ]
  },
  {
   "cell_type": "code",
   "execution_count": 24,
   "metadata": {},
   "outputs": [],
   "source": [
    "calculate_leverdata_sample_times(output_folder, respMTX, num_trials)"
   ]
  },
  {
   "cell_type": "markdown",
   "metadata": {},
   "source": [
    "### Get tone and leverpress sample indicies"
   ]
  },
  {
   "cell_type": "code",
   "execution_count": 25,
   "metadata": {},
   "outputs": [],
   "source": [
    "get_leverdata_indices(output_folder, respMTX, num_trials)"
   ]
  },
  {
   "cell_type": "markdown",
   "metadata": {},
   "source": [
    "### Check the FFT power spectrum for one of the trials"
   ]
  },
  {
   "cell_type": "code",
   "execution_count": 26,
   "metadata": {},
   "outputs": [
    {
     "data": {
      "image/png": "[encoded data removed]",
      "text/plain": [
       "<Figure size 640x480 with 1 Axes>"
      ]
     },
     "metadata": {},
     "output_type": "display_data"
    }
   ],
   "source": [
    "# set which trial to look at\n",
    "trial_index = 10\n",
    "view_processed_trial_FFT(trial_index, output_folder)"
   ]
  }
 ],
 "metadata": {
  "kernelspec": {
   "display_name": "Python 3",
   "language": "python",
   "name": "python3"
  },
  "language_info": {
   "codemirror_mode": {
    "name": "ipython",
    "version": 3
   },
   "file_extension": ".py",
   "mimetype": "text/x-python",
   "name": "python",
   "nbconvert_exporter": "python",
   "pygments_lexer": "ipython3",
   "version": "3.11.6"
  }
 },
 "nbformat": 4,
 "nbformat_minor": 2
}
