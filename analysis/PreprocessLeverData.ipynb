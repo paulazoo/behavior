{
 "cells": [
  {
   "cell_type": "markdown",
   "metadata": {},
   "source": [
    "### set folder_name and day session to analyze"
   ]
  },
  {
   "cell_type": "code",
   "execution_count": 36,
   "metadata": {},
   "outputs": [],
   "source": [
    "name = 'ANM5'\n",
    "session = '20240212_d1'"
   ]
  },
  {
   "cell_type": "markdown",
   "metadata": {},
   "source": [
    "### imports"
   ]
  },
  {
   "cell_type": "code",
   "execution_count": 37,
   "metadata": {},
   "outputs": [],
   "source": [
    "from scipy import io\n",
    "import numpy as np\n",
    "import pylab as pl\n",
    "import matplotlib.pyplot as plt\n",
    "import statistics\n",
    "import re\n",
    "import glob\n",
    "import scipy.signal as signal\n",
    "import pickle\n",
    "\n",
    "from common.load_tonedisc_matfile import load_tonedisc_matfile\n",
    "from common.align_times import get_leverdata_indices\n",
    "from preprocess_leverdata.get_trial_frequencies import get_trial_frequencies\n",
    "from preprocess_leverdata.butterworth_filter_leverdata import butterworth_filter_leverdata\n",
    "from preprocess_leverdata.rescale_leverdata import rescale_leverdata\n",
    "from preprocess_leverdata.view_processed_trial_FFT import view_processed_trial_FFT\n",
    "from preprocess_leverdata.calculate_leverdata_sample_times import calculate_leverdata_sample_times"
   ]
  },
  {
   "cell_type": "markdown",
   "metadata": {},
   "source": [
    "### Setup folders and matfiles"
   ]
  },
  {
   "cell_type": "code",
   "execution_count": 38,
   "metadata": {},
   "outputs": [
    {
     "name": "stdout",
     "output_type": "stream",
     "text": [
      "respMTX shape: (58, 7)\n",
      "MTXTrialType shape: (1, 1)\n",
      "number of trials: 58\n"
     ]
    }
   ],
   "source": [
    "tone_discriminiation_matfile = '../Data_Copy/ToneDiscriminationData/'+name+'/ToneDisc_'+name+'_'+session+'.mat'\n",
    "params, response, arduino, respMTX, MTXTrialType = load_tonedisc_matfile(tone_discriminiation_matfile)\n",
    "\n",
    "output_folder = \"../Data_Copy/AnalysisData/\"+name+\"/PreprocessLeverData_\"+name+\"_\"+session+\"/\"\n",
    "leverdata_matfile = \"../Data_Copy/LeverData/\"+name+\"/LeverData_\"+name+\"_\"+session+\".mat\""
   ]
  },
  {
   "cell_type": "code",
   "execution_count": 39,
   "metadata": {},
   "outputs": [
    {
     "data": {
      "text/plain": [
       "<_io.TextIOWrapper name='../Data_Copy/LeverData/ANM5/LeverData_ANM5_20240212_d1.mat' mode='r' encoding='UTF-8'>"
      ]
     },
     "execution_count": 39,
     "metadata": {},
     "output_type": "execute_result"
    }
   ],
   "source": [
    "open(leverdata_matfile)"
   ]
  },
  {
   "cell_type": "markdown",
   "metadata": {},
   "source": [
    "For mac:"
   ]
  },
  {
   "cell_type": "code",
   "execution_count": 40,
   "metadata": {},
   "outputs": [
    {
     "name": "stdout",
     "output_type": "stream",
     "text": [
      "mkdir: ../Data_Copy/AnalysisData/ANM5/PreprocessLeverData_ANM5_20240212_d1/: File exists\n"
     ]
    }
   ],
   "source": [
    "!mkdir {output_folder}"
   ]
  },
  {
   "cell_type": "markdown",
   "metadata": {},
   "source": [
    "For windows:"
   ]
  },
  {
   "cell_type": "code",
   "execution_count": 41,
   "metadata": {},
   "outputs": [
    {
     "name": "stdout",
     "output_type": "stream",
     "text": [
      "mkdir: ../Data_Copy/AnalysisData/ANM5/PreprocessLeverData_ANM5_20240212_d1/: File exists\n"
     ]
    }
   ],
   "source": [
    "!mkdir \"{output_folder}\""
   ]
  },
  {
   "cell_type": "markdown",
   "metadata": {},
   "source": [
    "preview trials"
   ]
  },
  {
   "cell_type": "code",
   "execution_count": 42,
   "metadata": {},
   "outputs": [
    {
     "data": {
      "text/plain": [
       "(58, 7)"
      ]
     },
     "execution_count": 42,
     "metadata": {},
     "output_type": "execute_result"
    }
   ],
   "source": [
    "respMTX.shape"
   ]
  },
  {
   "cell_type": "code",
   "execution_count": 43,
   "metadata": {},
   "outputs": [
    {
     "name": "stdout",
     "output_type": "stream",
     "text": [
      "[[5.673604 0.000000]\n",
      " [25.227830 1.000000]\n",
      " [5.755553 2.000000]\n",
      " [7.391006 3.000000]\n",
      " [6.345269 4.000000]\n",
      " [13.599167 5.000000]\n",
      " [16.520498 6.000000]\n",
      " [6.017405 7.000000]\n",
      " [34.556688 8.000000]\n",
      " [35.393147 9.000000]\n",
      " [24.560262 10.000000]\n",
      " [6.815593 11.000000]\n",
      " [14.548424 12.000000]\n",
      " [6.106580 13.000000]\n",
      " [6.422878 14.000000]\n",
      " [6.355444 15.000000]\n",
      " [4.811069 16.000000]\n",
      " [17.998131 17.000000]\n",
      " [18.052752 18.000000]\n",
      " [6.902540 19.000000]\n",
      " [5.558875 20.000000]\n",
      " [6.269499 21.000000]\n",
      " [6.497890 22.000000]\n",
      " [7.037219 23.000000]\n",
      " [6.827862 24.000000]\n",
      " [22.536218 25.000000]\n",
      " [7.244517 26.000000]\n",
      " [6.003238 27.000000]\n",
      " [15.642252 28.000000]\n",
      " [7.497431 29.000000]\n",
      " [17.657936 30.000000]\n",
      " [5.570945 31.000000]\n",
      " [6.672302 32.000000]\n",
      " [7.386785 33.000000]\n",
      " [6.291356 34.000000]\n",
      " [5.533448 35.000000]\n",
      " [7.245774 36.000000]\n",
      " [6.489694 37.000000]\n",
      " [7.450641 38.000000]\n",
      " [4.800217 39.000000]\n",
      " [5.743401 40.000000]\n",
      " [5.975175 41.000000]\n",
      " [31.119704 42.000000]\n",
      " [30.920134 43.000000]\n",
      " [34.230999 44.000000]\n",
      " [19.385613 45.000000]\n",
      " [7.463896 46.000000]\n",
      " [6.753356 47.000000]\n",
      " [6.169516 48.000000]\n",
      " [7.235768 49.000000]\n",
      " [7.169350 50.000000]\n",
      " [35.772757 51.000000]\n",
      " [8.527784 52.000000]\n",
      " [7.178032 53.000000]\n",
      " [21.122281 54.000000]\n",
      " [14.806777 55.000000]\n",
      " [7.573009 56.000000]]\n"
     ]
    }
   ],
   "source": [
    "respMTX_shape = respMTX.shape[0]\n",
    "np.set_printoptions(suppress = True,\n",
    "   formatter = {'float_kind':'{:f}'.format})\n",
    "print(np.hstack((respMTX[1:respMTX_shape, 1:2]-respMTX[0:respMTX_shape-1, 1:2], np.array([np.linspace(0, respMTX_shape-2, respMTX_shape-1)]).transpose())))"
   ]
  },
  {
   "cell_type": "markdown",
   "metadata": {},
   "source": [
    "### Run leverdata2binary.cpp to create binary files for each trial from `lever_data` in the LeverData .mat file"
   ]
  },
  {
   "cell_type": "code",
   "execution_count": 44,
   "metadata": {},
   "outputs": [
    {
     "name": "stdout",
     "output_type": "stream",
     "text": [
      "leverdata from .mat size: 72000000,72000000\n",
      "leverdata from .mat rank: 2\n",
      "leverdata vector size: 72000000\n",
      "leverdata vector with unused rows taken out size: 4130025\n",
      "vector saved to .bin file ../Data_Copy/AnalysisData/ANM5/PreprocessLeverData_ANM5_20240212_d1/full.bin\n",
      "finished a trialITI: 46975 index:0 trialITI length: 33322 samples = ~5s\n",
      "vector saved to .bin file ../Data_Copy/AnalysisData/ANM5/PreprocessLeverData_ANM5_20240212_d1/trial0.bin\n",
      "finished a trialITI: 195129 index:1 trialITI length: 148154 samples = ~25s\n",
      "vector saved to .bin file ../Data_Copy/AnalysisData/ANM5/PreprocessLeverData_ANM5_20240212_d1/trial1.bin\n",
      "finished a trialITI: 228930 index:2 trialITI length: 33801 samples = ~5s\n",
      "vector saved to .bin file ../Data_Copy/AnalysisData/ANM5/PreprocessLeverData_ANM5_20240212_d1/trial2.bin\n",
      "finished a trialITI: 272335 index:3 trialITI length: 43405 samples = ~7s\n",
      "vector saved to .bin file ../Data_Copy/AnalysisData/ANM5/PreprocessLeverData_ANM5_20240212_d1/trial3.bin\n",
      "finished a trialITI: 309598 index:4 trialITI length: 37263 samples = ~6s\n",
      "vector saved to .bin file ../Data_Copy/AnalysisData/ANM5/PreprocessLeverData_ANM5_20240212_d1/trial4.bin\n",
      "finished a trialITI: 389461 index:5 trialITI length: 79863 samples = ~13s\n",
      "vector saved to .bin file ../Data_Copy/AnalysisData/ANM5/PreprocessLeverData_ANM5_20240212_d1/trial5.bin\n",
      "finished a trialITI: 486480 index:6 trialITI length: 97019 samples = ~16s\n",
      "vector saved to .bin file ../Data_Copy/AnalysisData/ANM5/PreprocessLeverData_ANM5_20240212_d1/trial6.bin\n",
      "finished a trialITI: 521819 index:7 trialITI length: 35339 samples = ~6s\n",
      "vector saved to .bin file ../Data_Copy/AnalysisData/ANM5/PreprocessLeverData_ANM5_20240212_d1/trial7.bin\n",
      "finished a trialITI: 724758 index:8 trialITI length: 202939 samples = ~34s\n",
      "vector saved to .bin file ../Data_Copy/AnalysisData/ANM5/PreprocessLeverData_ANM5_20240212_d1/trial8.bin\n",
      "finished a trialITI: 932609 index:9 trialITI length: 207851 samples = ~35s\n",
      "vector saved to .bin file ../Data_Copy/AnalysisData/ANM5/PreprocessLeverData_ANM5_20240212_d1/trial9.bin\n",
      "finished a trialITI: 1076842 index:10 trialITI length: 144233 samples = ~24s\n",
      "vector saved to .bin file ../Data_Copy/AnalysisData/ANM5/PreprocessLeverData_ANM5_20240212_d1/trial10.bin\n",
      "finished a trialITI: 1116868 index:11 trialITI length: 40026 samples = ~6s\n",
      "vector saved to .bin file ../Data_Copy/AnalysisData/ANM5/PreprocessLeverData_ANM5_20240212_d1/trial11.bin\n",
      "finished a trialITI: 1202306 index:12 trialITI length: 85438 samples = ~14s\n",
      "vector saved to .bin file ../Data_Copy/AnalysisData/ANM5/PreprocessLeverData_ANM5_20240212_d1/trial12.bin\n",
      "finished a trialITI: 1238168 index:13 trialITI length: 35862 samples = ~6s\n",
      "vector saved to .bin file ../Data_Copy/AnalysisData/ANM5/PreprocessLeverData_ANM5_20240212_d1/trial13.bin\n",
      "finished a trialITI: 1275887 index:14 trialITI length: 37719 samples = ~6s\n",
      "vector saved to .bin file ../Data_Copy/AnalysisData/ANM5/PreprocessLeverData_ANM5_20240212_d1/trial14.bin\n",
      "finished a trialITI: 1313210 index:15 trialITI length: 37323 samples = ~6s\n",
      "vector saved to .bin file ../Data_Copy/AnalysisData/ANM5/PreprocessLeverData_ANM5_20240212_d1/trial15.bin\n",
      "finished a trialITI: 1341464 index:16 trialITI length: 28254 samples = ~4s\n",
      "vector saved to .bin file ../Data_Copy/AnalysisData/ANM5/PreprocessLeverData_ANM5_20240212_d1/trial16.bin\n",
      "finished a trialITI: 1447161 index:17 trialITI length: 105697 samples = ~17s\n",
      "vector saved to .bin file ../Data_Copy/AnalysisData/ANM5/PreprocessLeverData_ANM5_20240212_d1/trial17.bin\n",
      "finished a trialITI: 1553178 index:18 trialITI length: 106017 samples = ~18s\n",
      "vector saved to .bin file ../Data_Copy/AnalysisData/ANM5/PreprocessLeverData_ANM5_20240212_d1/trial18.bin\n",
      "finished a trialITI: 1593715 index:19 trialITI length: 40537 samples = ~6s\n",
      "vector saved to .bin file ../Data_Copy/AnalysisData/ANM5/PreprocessLeverData_ANM5_20240212_d1/trial19.bin\n",
      "finished a trialITI: 1626360 index:20 trialITI length: 32645 samples = ~5s\n",
      "vector saved to .bin file ../Data_Copy/AnalysisData/ANM5/PreprocessLeverData_ANM5_20240212_d1/trial20.bin\n",
      "finished a trialITI: 1663178 index:21 trialITI length: 36818 samples = ~6s\n",
      "vector saved to .bin file ../Data_Copy/AnalysisData/ANM5/PreprocessLeverData_ANM5_20240212_d1/trial21.bin\n",
      "finished a trialITI: 1701338 index:22 trialITI length: 38160 samples = ~6s\n",
      "vector saved to .bin file ../Data_Copy/AnalysisData/ANM5/PreprocessLeverData_ANM5_20240212_d1/trial22.bin\n",
      "finished a trialITI: 1742665 index:23 trialITI length: 41327 samples = ~7s\n",
      "vector saved to .bin file ../Data_Copy/AnalysisData/ANM5/PreprocessLeverData_ANM5_20240212_d1/trial23.bin\n",
      "finished a trialITI: 1782763 index:24 trialITI length: 40098 samples = ~6s\n",
      "vector saved to .bin file ../Data_Copy/AnalysisData/ANM5/PreprocessLeverData_ANM5_20240212_d1/trial24.bin\n",
      "finished a trialITI: 1915110 index:25 trialITI length: 132347 samples = ~22s\n",
      "vector saved to .bin file ../Data_Copy/AnalysisData/ANM5/PreprocessLeverData_ANM5_20240212_d1/trial25.bin\n",
      "finished a trialITI: 1957655 index:26 trialITI length: 42545 samples = ~7s\n",
      "vector saved to .bin file ../Data_Copy/AnalysisData/ANM5/PreprocessLeverData_ANM5_20240212_d1/trial26.bin\n",
      "finished a trialITI: 1992910 index:27 trialITI length: 35255 samples = ~5s\n",
      "vector saved to .bin file ../Data_Copy/AnalysisData/ANM5/PreprocessLeverData_ANM5_20240212_d1/trial27.bin\n",
      "finished a trialITI: 2084771 index:28 trialITI length: 91861 samples = ~15s\n",
      "vector saved to .bin file ../Data_Copy/AnalysisData/ANM5/PreprocessLeverData_ANM5_20240212_d1/trial28.bin\n",
      "finished a trialITI: 2128801 index:29 trialITI length: 44030 samples = ~7s\n",
      "vector saved to .bin file ../Data_Copy/AnalysisData/ANM5/PreprocessLeverData_ANM5_20240212_d1/trial29.bin\n",
      "finished a trialITI: 2232500 index:30 trialITI length: 103699 samples = ~17s\n",
      "vector saved to .bin file ../Data_Copy/AnalysisData/ANM5/PreprocessLeverData_ANM5_20240212_d1/trial30.bin\n",
      "finished a trialITI: 2265216 index:31 trialITI length: 32716 samples = ~5s\n",
      "vector saved to .bin file ../Data_Copy/AnalysisData/ANM5/PreprocessLeverData_ANM5_20240212_d1/trial31.bin\n",
      "finished a trialITI: 2304400 index:32 trialITI length: 39184 samples = ~6s\n",
      "vector saved to .bin file ../Data_Copy/AnalysisData/ANM5/PreprocessLeverData_ANM5_20240212_d1/trial32.bin\n",
      "finished a trialITI: 2347780 index:33 trialITI length: 43380 samples = ~7s\n",
      "vector saved to .bin file ../Data_Copy/AnalysisData/ANM5/PreprocessLeverData_ANM5_20240212_d1/trial33.bin\n",
      "finished a trialITI: 2384727 index:34 trialITI length: 36947 samples = ~6s\n",
      "vector saved to .bin file ../Data_Copy/AnalysisData/ANM5/PreprocessLeverData_ANM5_20240212_d1/trial34.bin\n",
      "finished a trialITI: 2417223 index:35 trialITI length: 32496 samples = ~5s\n",
      "vector saved to .bin file ../Data_Copy/AnalysisData/ANM5/PreprocessLeverData_ANM5_20240212_d1/trial35.bin\n",
      "finished a trialITI: 2459775 index:36 trialITI length: 42552 samples = ~7s\n",
      "vector saved to .bin file ../Data_Copy/AnalysisData/ANM5/PreprocessLeverData_ANM5_20240212_d1/trial36.bin\n",
      "finished a trialITI: 2497886 index:37 trialITI length: 38111 samples = ~6s\n",
      "vector saved to .bin file ../Data_Copy/AnalysisData/ANM5/PreprocessLeverData_ANM5_20240212_d1/trial37.bin\n",
      "finished a trialITI: 2541641 index:38 trialITI length: 43755 samples = ~7s\n",
      "vector saved to .bin file ../Data_Copy/AnalysisData/ANM5/PreprocessLeverData_ANM5_20240212_d1/trial38.bin\n",
      "finished a trialITI: 2569831 index:39 trialITI length: 28190 samples = ~4s\n",
      "vector saved to .bin file ../Data_Copy/AnalysisData/ANM5/PreprocessLeverData_ANM5_20240212_d1/trial39.bin\n",
      "finished a trialITI: 2603560 index:40 trialITI length: 33729 samples = ~5s\n",
      "vector saved to .bin file ../Data_Copy/AnalysisData/ANM5/PreprocessLeverData_ANM5_20240212_d1/trial40.bin\n",
      "finished a trialITI: 2638651 index:41 trialITI length: 35091 samples = ~5s\n",
      "vector saved to .bin file ../Data_Copy/AnalysisData/ANM5/PreprocessLeverData_ANM5_20240212_d1/trial41.bin\n",
      "finished a trialITI: 2821405 index:42 trialITI length: 182754 samples = ~31s\n",
      "vector saved to .bin file ../Data_Copy/AnalysisData/ANM5/PreprocessLeverData_ANM5_20240212_d1/trial42.bin\n",
      "finished a trialITI: 3002988 index:43 trialITI length: 181583 samples = ~30s\n",
      "vector saved to .bin file ../Data_Copy/AnalysisData/ANM5/PreprocessLeverData_ANM5_20240212_d1/trial43.bin\n",
      "finished a trialITI: 3204014 index:44 trialITI length: 201026 samples = ~34s\n",
      "vector saved to .bin file ../Data_Copy/AnalysisData/ANM5/PreprocessLeverData_ANM5_20240212_d1/trial44.bin\n",
      "finished a trialITI: 3317859 index:45 trialITI length: 113845 samples = ~19s\n",
      "vector saved to .bin file ../Data_Copy/AnalysisData/ANM5/PreprocessLeverData_ANM5_20240212_d1/trial45.bin\n",
      "finished a trialITI: 3361692 index:46 trialITI length: 43833 samples = ~7s\n",
      "vector saved to .bin file ../Data_Copy/AnalysisData/ANM5/PreprocessLeverData_ANM5_20240212_d1/trial46.bin\n",
      "finished a trialITI: 3401352 index:47 trialITI length: 39660 samples = ~6s\n",
      "vector saved to .bin file ../Data_Copy/AnalysisData/ANM5/PreprocessLeverData_ANM5_20240212_d1/trial47.bin\n",
      "finished a trialITI: 3437584 index:48 trialITI length: 36232 samples = ~6s\n",
      "vector saved to .bin file ../Data_Copy/AnalysisData/ANM5/PreprocessLeverData_ANM5_20240212_d1/trial48.bin\n",
      "finished a trialITI: 3480076 index:49 trialITI length: 42492 samples = ~7s\n",
      "vector saved to .bin file ../Data_Copy/AnalysisData/ANM5/PreprocessLeverData_ANM5_20240212_d1/trial49.bin\n",
      "finished a trialITI: 3522179 index:50 trialITI length: 42103 samples = ~7s\n",
      "vector saved to .bin file ../Data_Copy/AnalysisData/ANM5/PreprocessLeverData_ANM5_20240212_d1/trial50.bin\n",
      "finished a trialITI: 3732260 index:51 trialITI length: 210081 samples = ~35s\n",
      "vector saved to .bin file ../Data_Copy/AnalysisData/ANM5/PreprocessLeverData_ANM5_20240212_d1/trial51.bin\n",
      "finished a trialITI: 3782340 index:52 trialITI length: 50080 samples = ~8s\n",
      "vector saved to .bin file ../Data_Copy/AnalysisData/ANM5/PreprocessLeverData_ANM5_20240212_d1/trial52.bin\n",
      "finished a trialITI: 3824495 index:53 trialITI length: 42155 samples = ~7s\n",
      "vector saved to .bin file ../Data_Copy/AnalysisData/ANM5/PreprocessLeverData_ANM5_20240212_d1/trial53.bin\n",
      "finished a trialITI: 3948538 index:54 trialITI length: 124043 samples = ~21s\n",
      "vector saved to .bin file ../Data_Copy/AnalysisData/ANM5/PreprocessLeverData_ANM5_20240212_d1/trial54.bin\n",
      "finished a trialITI: 4035493 index:55 trialITI length: 86955 samples = ~14s\n",
      "vector saved to .bin file ../Data_Copy/AnalysisData/ANM5/PreprocessLeverData_ANM5_20240212_d1/trial55.bin\n",
      "finished a trialITI: 4079967 index:56 trialITI length: 44474 samples = ~7s\n",
      "vector saved to .bin file ../Data_Copy/AnalysisData/ANM5/PreprocessLeverData_ANM5_20240212_d1/trial56.bin\n",
      "total switches/trials detected: 57\n"
     ]
    }
   ],
   "source": [
    "!./preprocess_leverdata/leverdata2binary {output_folder} {leverdata_matfile} 13653"
   ]
  },
  {
   "cell_type": "markdown",
   "metadata": {},
   "source": [
    "change `num_trials` if seems like `lever_data` stopped before behavior (if total trials detected is less than `num_trials` from `respMTX`)"
   ]
  },
  {
   "cell_type": "code",
   "execution_count": 45,
   "metadata": {},
   "outputs": [],
   "source": [
    "num_trials = 57"
   ]
  },
  {
   "cell_type": "markdown",
   "metadata": {},
   "source": [
    "### Look at sampling rates for the `lever_data`"
   ]
  },
  {
   "cell_type": "code",
   "execution_count": 46,
   "metadata": {},
   "outputs": [
    {
     "name": "stdout",
     "output_type": "stream",
     "text": [
      "Trial  0\n",
      "Duration in MATLAB seconds from respMTX:  5.6736041\n",
      "Number of leverdata samples:  33322\n",
      "Estimated freq:  5873.162704461525\n",
      "Trial  1\n",
      "Duration in MATLAB seconds from respMTX:  25.2278305\n",
      "Number of leverdata samples:  148154\n",
      "Estimated freq:  5872.641327600485\n",
      "Trial  2\n",
      "Duration in MATLAB seconds from respMTX:  5.755553399999997\n",
      "Number of leverdata samples:  33801\n",
      "Estimated freq:  5872.762817212332\n",
      "Trial  3\n",
      "Duration in MATLAB seconds from respMTX:  7.391006000000004\n",
      "Number of leverdata samples:  43405\n",
      "Estimated freq:  5872.6782253998945\n",
      "Trial  4\n",
      "Duration in MATLAB seconds from respMTX:  6.345268699999998\n",
      "Number of leverdata samples:  37263\n",
      "Estimated freq:  5872.564545611758\n",
      "Trial  5\n",
      "Duration in MATLAB seconds from respMTX:  13.599167300000005\n",
      "Number of leverdata samples:  79863\n",
      "Estimated freq:  5872.638981358805\n",
      "Trial  6\n",
      "Duration in MATLAB seconds from respMTX:  16.5204978\n",
      "Number of leverdata samples:  97019\n",
      "Estimated freq:  5872.643861857479\n",
      "Trial  7\n",
      "Duration in MATLAB seconds from respMTX:  6.017404799999994\n",
      "Number of leverdata samples:  35339\n",
      "Estimated freq:  5872.797522280707\n",
      "Trial  8\n",
      "Duration in MATLAB seconds from respMTX:  34.5566877\n",
      "Number of leverdata samples:  202939\n",
      "Estimated freq:  5872.640391978309\n",
      "Trial  9\n",
      "Duration in MATLAB seconds from respMTX:  35.39314680000001\n",
      "Number of leverdata samples:  207851\n",
      "Estimated freq:  5872.634077284135\n",
      "Trial  10\n",
      "Duration in MATLAB seconds from respMTX:  24.560261799999978\n",
      "Number of leverdata samples:  144233\n",
      "Estimated freq:  5872.616553297495\n",
      "Trial  11\n",
      "Duration in MATLAB seconds from respMTX:  6.815593200000023\n",
      "Number of leverdata samples:  40026\n",
      "Estimated freq:  5872.709656438982\n",
      "Trial  12\n",
      "Duration in MATLAB seconds from respMTX:  14.5484242\n",
      "Number of leverdata samples:  85438\n",
      "Estimated freq:  5872.66351499429\n",
      "Trial  13\n",
      "Duration in MATLAB seconds from respMTX:  6.10658029999999\n",
      "Number of leverdata samples:  35862\n",
      "Estimated freq:  5872.68131068383\n",
      "Trial  14\n",
      "Duration in MATLAB seconds from respMTX:  6.4228775999999925\n",
      "Number of leverdata samples:  37719\n",
      "Estimated freq:  5872.601402212623\n",
      "Trial  15\n",
      "Duration in MATLAB seconds from respMTX:  6.355444300000016\n",
      "Number of leverdata samples:  37323\n",
      "Estimated freq:  5872.602801349373\n",
      "Trial  16\n",
      "Duration in MATLAB seconds from respMTX:  4.811068599999999\n",
      "Number of leverdata samples:  28254\n",
      "Estimated freq:  5872.707780554201\n",
      "Trial  17\n",
      "Duration in MATLAB seconds from respMTX:  17.998131299999983\n",
      "Number of leverdata samples:  105697\n",
      "Estimated freq:  5872.66523608482\n",
      "Trial  18\n",
      "Duration in MATLAB seconds from respMTX:  18.052751599999993\n",
      "Number of leverdata samples:  106017\n",
      "Estimated freq:  5872.622764055538\n",
      "Trial  19\n",
      "Duration in MATLAB seconds from respMTX:  6.9025398\n",
      "Number of leverdata samples:  40537\n",
      "Estimated freq:  5872.7658477246305\n",
      "Trial  20\n",
      "Duration in MATLAB seconds from respMTX:  5.558874600000024\n",
      "Number of leverdata samples:  32645\n",
      "Estimated freq:  5872.591549375814\n",
      "Trial  21\n",
      "Duration in MATLAB seconds from respMTX:  6.269499499999995\n",
      "Number of leverdata samples:  36818\n",
      "Estimated freq:  5872.558088568318\n",
      "Trial  22\n",
      "Duration in MATLAB seconds from respMTX:  6.497890199999972\n",
      "Number of leverdata samples:  38160\n",
      "Estimated freq:  5872.675410858768\n",
      "Trial  23\n",
      "Duration in MATLAB seconds from respMTX:  7.037218500000051\n",
      "Number of leverdata samples:  41327\n",
      "Estimated freq:  5872.632773872191\n",
      "Trial  24\n",
      "Duration in MATLAB seconds from respMTX:  6.827861999999982\n",
      "Number of leverdata samples:  40098\n",
      "Estimated freq:  5872.702172363781\n",
      "Trial  25\n",
      "Duration in MATLAB seconds from respMTX:  22.53621750000002\n",
      "Number of leverdata samples:  132347\n",
      "Estimated freq:  5872.635902630948\n",
      "Trial  26\n",
      "Duration in MATLAB seconds from respMTX:  7.244516599999997\n",
      "Number of leverdata samples:  42545\n",
      "Estimated freq:  5872.717580631952\n",
      "Trial  27\n",
      "Duration in MATLAB seconds from respMTX:  6.003238199999998\n",
      "Number of leverdata samples:  35255\n",
      "Estimated freq:  5872.6638566499005\n",
      "Trial  28\n",
      "Duration in MATLAB seconds from respMTX:  15.642252499999984\n",
      "Number of leverdata samples:  91861\n",
      "Estimated freq:  5872.619688245033\n",
      "Trial  29\n",
      "Duration in MATLAB seconds from respMTX:  7.497430800000018\n",
      "Number of leverdata samples:  44030\n",
      "Estimated freq:  5872.678411383256\n",
      "Trial  30\n",
      "Duration in MATLAB seconds from respMTX:  17.65793649999995\n",
      "Number of leverdata samples:  103699\n",
      "Estimated freq:  5872.6567512574475\n",
      "Trial  31\n",
      "Duration in MATLAB seconds from respMTX:  5.570945400000028\n",
      "Number of leverdata samples:  32716\n",
      "Estimated freq:  5872.611855072181\n",
      "Trial  32\n",
      "Duration in MATLAB seconds from respMTX:  6.672302000000002\n",
      "Number of leverdata samples:  39184\n",
      "Estimated freq:  5872.635860906774\n",
      "Trial  33\n",
      "Duration in MATLAB seconds from respMTX:  7.386785499999974\n",
      "Number of leverdata samples:  43380\n",
      "Estimated freq:  5872.649205801381\n",
      "Trial  34\n",
      "Duration in MATLAB seconds from respMTX:  6.291356199999996\n",
      "Number of leverdata samples:  36947\n",
      "Estimated freq:  5872.66065145064\n",
      "Trial  35\n",
      "Duration in MATLAB seconds from respMTX:  5.533448100000044\n",
      "Number of leverdata samples:  32496\n",
      "Estimated freq:  5872.649279930853\n",
      "Trial  36\n",
      "Duration in MATLAB seconds from respMTX:  7.245773799999995\n",
      "Number of leverdata samples:  42552\n",
      "Estimated freq:  5872.66469731639\n",
      "Trial  37\n",
      "Duration in MATLAB seconds from respMTX:  6.489693899999963\n",
      "Number of leverdata samples:  38111\n",
      "Estimated freq:  5872.54200078685\n",
      "Trial  38\n",
      "Duration in MATLAB seconds from respMTX:  7.450640900000053\n",
      "Number of leverdata samples:  43755\n",
      "Estimated freq:  5872.6491569335585\n",
      "Trial  39\n",
      "Duration in MATLAB seconds from respMTX:  4.800217299999986\n",
      "Number of leverdata samples:  28190\n",
      "Estimated freq:  5872.650806870782\n",
      "Trial  40\n",
      "Duration in MATLAB seconds from respMTX:  5.743401199999994\n",
      "Number of leverdata samples:  33729\n",
      "Estimated freq:  5872.65260173711\n",
      "Trial  41\n",
      "Duration in MATLAB seconds from respMTX:  5.975175100000001\n",
      "Number of leverdata samples:  35091\n",
      "Estimated freq:  5872.798606353811\n",
      "Trial  42\n",
      "Duration in MATLAB seconds from respMTX:  31.11970359999998\n",
      "Number of leverdata samples:  182754\n",
      "Estimated freq:  5872.61377386641\n",
      "Trial  43\n",
      "Duration in MATLAB seconds from respMTX:  30.92013400000002\n",
      "Number of leverdata samples:  181583\n",
      "Estimated freq:  5872.645959425658\n",
      "Trial  44\n",
      "Duration in MATLAB seconds from respMTX:  34.230998599999964\n",
      "Number of leverdata samples:  201026\n",
      "Estimated freq:  5872.630312339185\n",
      "Trial  45\n",
      "Duration in MATLAB seconds from respMTX:  19.38561340000001\n",
      "Number of leverdata samples:  113845\n",
      "Estimated freq:  5872.653996081442\n",
      "Trial  46\n",
      "Duration in MATLAB seconds from respMTX:  7.463895600000001\n",
      "Number of leverdata samples:  43833\n",
      "Estimated freq:  5872.670566292486\n",
      "Trial  47\n",
      "Duration in MATLAB seconds from respMTX:  6.753356199999985\n",
      "Number of leverdata samples:  39660\n",
      "Estimated freq:  5872.635594136155\n",
      "Trial  48\n",
      "Duration in MATLAB seconds from respMTX:  6.169515600000068\n",
      "Number of leverdata samples:  36232\n",
      "Estimated freq:  5872.746314151406\n",
      "Trial  49\n",
      "Duration in MATLAB seconds from respMTX:  7.235767599999917\n",
      "Number of leverdata samples:  42492\n",
      "Estimated freq:  5872.493748970114\n",
      "Trial  50\n",
      "Duration in MATLAB seconds from respMTX:  7.1693504000000985\n",
      "Number of leverdata samples:  42103\n",
      "Estimated freq:  5872.638056580331\n",
      "Trial  51\n",
      "Duration in MATLAB seconds from respMTX:  35.77275739999993\n",
      "Number of leverdata samples:  210081\n",
      "Estimated freq:  5872.653249816309\n",
      "Trial  52\n",
      "Duration in MATLAB seconds from respMTX:  8.527783900000031\n",
      "Number of leverdata samples:  50080\n",
      "Estimated freq:  5872.569073895014\n",
      "Trial  53\n",
      "Duration in MATLAB seconds from respMTX:  7.178032499999972\n",
      "Number of leverdata samples:  42155\n",
      "Estimated freq:  5872.779205165227\n",
      "Trial  54\n",
      "Duration in MATLAB seconds from respMTX:  21.122281000000044\n",
      "Number of leverdata samples:  124043\n",
      "Estimated freq:  5872.613852642134\n",
      "Trial  55\n",
      "Duration in MATLAB seconds from respMTX:  14.806777199999942\n",
      "Number of leverdata samples:  86955\n",
      "Estimated freq:  5872.648640921019\n",
      "mean:  5872.649695691786  Hz, std:  0.06456065522248562  Hz\n",
      "min:  5872.493748970114  Hz max:  5873.162704461525  Hz\n",
      "1st fastest percentile 5872.798606353811 50th 5872.641327600485 99th slowest 5872.493748970114\n"
     ]
    }
   ],
   "source": [
    "dts, trial_frequencies = get_trial_frequencies(num_trials, respMTX, output_folder)"
   ]
  },
  {
   "cell_type": "markdown",
   "metadata": {},
   "source": [
    "So if estimated frequencies are not all around 5882 Hz, then trials probably aren't aligned. Make sure files are correct, and try increasing the skipped samples in for the C++ trial detection program. Also make sure the statistics are all between 4500 and 5900."
   ]
  },
  {
   "cell_type": "markdown",
   "metadata": {},
   "source": [
    "### low pass Butterworth filter `lever_data` with a cutoff frequency of 40 Hz\n",
    "\n",
    "Assuming electrical noise will be around 60 Hz"
   ]
  },
  {
   "cell_type": "code",
   "execution_count": 47,
   "metadata": {},
   "outputs": [],
   "source": [
    "cutoff_frequency = 50\n",
    "butterworth_filter_leverdata(output_folder, num_trials, cutoff_frequency)"
   ]
  },
  {
   "cell_type": "markdown",
   "metadata": {},
   "source": [
    "### Rescale the filtered_lever_data to 0-5V from 0-1023 analogRead values"
   ]
  },
  {
   "cell_type": "code",
   "execution_count": 48,
   "metadata": {},
   "outputs": [],
   "source": [
    "rescale_leverdata(output_folder, num_trials)"
   ]
  },
  {
   "cell_type": "markdown",
   "metadata": {},
   "source": [
    "### Calculate sample time values for each sample based on trial start times"
   ]
  },
  {
   "cell_type": "code",
   "execution_count": 49,
   "metadata": {},
   "outputs": [],
   "source": [
    "calculate_leverdata_sample_times(output_folder, respMTX, num_trials)"
   ]
  },
  {
   "cell_type": "markdown",
   "metadata": {},
   "source": [
    "### Get tone and leverpress sample indicies"
   ]
  },
  {
   "cell_type": "code",
   "execution_count": 50,
   "metadata": {},
   "outputs": [],
   "source": [
    "get_leverdata_indices(output_folder, respMTX, num_trials)"
   ]
  },
  {
   "cell_type": "markdown",
   "metadata": {},
   "source": [
    "### Check the FFT power spectrum for one of the trials"
   ]
  },
  {
   "cell_type": "code",
   "execution_count": 51,
   "metadata": {},
   "outputs": [
    {
     "data": {
      "image/png": "[encoded data removed]",
      "text/plain": [
       "<Figure size 640x480 with 1 Axes>"
      ]
     },
     "metadata": {},
     "output_type": "display_data"
    }
   ],
   "source": [
    "# set which trial to look at\n",
    "trial_index = 10\n",
    "view_processed_trial_FFT(trial_index, output_folder)"
   ]
  }
 ],
 "metadata": {
  "kernelspec": {
   "display_name": "Python 3",
   "language": "python",
   "name": "python3"
  },
  "language_info": {
   "codemirror_mode": {
    "name": "ipython",
    "version": 3
   },
   "file_extension": ".py",
   "mimetype": "text/x-python",
   "name": "python",
   "nbconvert_exporter": "python",
   "pygments_lexer": "ipython3",
   "version": "3.11.6"
  }
 },
 "nbformat": 4,
 "nbformat_minor": 2
}
