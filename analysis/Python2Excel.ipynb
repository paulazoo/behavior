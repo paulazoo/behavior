{
 "cells": [
  {
   "cell_type": "markdown",
   "metadata": {},
   "source": [
    "# This notebook is for outputting python numpy arrays (e.g. from .npy files) to excel"
   ]
  },
  {
   "cell_type": "markdown",
   "metadata": {},
   "source": [
    "Load a specific numpy array matrix from the .npy file it is saved in into the variable `loaded_array`"
   ]
  },
  {
   "cell_type": "code",
   "execution_count": 37,
   "metadata": {},
   "outputs": [
    {
     "name": "stdout",
     "output_type": "stream",
     "text": [
      "shape of loaded array (rows, columns): (101,)\n"
     ]
    }
   ],
   "source": [
    "import numpy as np\n",
    "\n",
    "npy_file_location = \"../Data_Copy/AnalysisData/ANA1/Speed_ANA1_20231211_d21/reaction_times.npy\"\n",
    "\n",
    "loaded_array = np.load(npy_file_location)\n",
    "print(\"shape of loaded array (rows, columns):\", loaded_array.shape)"
   ]
  },
  {
   "cell_type": "markdown",
   "metadata": {},
   "source": [
    "This function converts a saved numpy array matrix to a specific excel sheet in a specific excel file. Note that the excel file must be closed (no one else is editing it) for python to access it.\n",
    "\n",
    "__NOTE THAT RUNNING THIS WILL REWRITE THE EXCEL FILE, DELETING ANY PREVIOUSLY SAVED THINGS IN IT.__"
   ]
  },
  {
   "cell_type": "code",
   "execution_count": 38,
   "metadata": {},
   "outputs": [],
   "source": [
    "import pandas as pd\n",
    "import numpy as np\n",
    "\n",
    "def numpy_array_to_excel(array, excel_file, sheet_name='Sheet1'):\n",
    "    \"\"\"\n",
    "    Write a NumPy array to a specific sheet in an Excel file using pandas.\n",
    "\n",
    "    Parameters:\n",
    "    - array: NumPy array to be written to Excel.\n",
    "    - excel_file: Name or path of the Excel file.\n",
    "    - sheet_name: Name of the sheet in the Excel file (default is 'Sheet1').\n",
    "    \"\"\"\n",
    "    # Create a pandas DataFrame from the NumPy array\n",
    "    df = pd.DataFrame(array)\n",
    "\n",
    "    # Create a Pandas Excel writer using XlsxWriter as the engine\n",
    "    with pd.ExcelWriter(excel_file, engine='xlsxwriter') as writer:\n",
    "        # Write the DataFrame to the Excel file\n",
    "        df.to_excel(writer, sheet_name=sheet_name, index=False, header=False)\n",
    "    \n",
    "    print(\"array written to excel file successfully\")"
   ]
  },
  {
   "cell_type": "markdown",
   "metadata": {},
   "source": [
    "For multiple numpy arrays on different sheets in the same excel file:"
   ]
  },
  {
   "cell_type": "code",
   "execution_count": 39,
   "metadata": {},
   "outputs": [],
   "source": [
    "def multiple_numpy_arrays_to_excel(list_of_arrays, excel_file, list_of_sheet_names):\n",
    "    # Create a pandas DataFrame from the NumPy array\n",
    "    dfs = []\n",
    "    for array in list_of_arrays:\n",
    "        df = pd.DataFrame(array)\n",
    "        dfs.append(df)\n",
    "\n",
    "    # Create a Pandas Excel writer using XlsxWriter as the engine\n",
    "    with pd.ExcelWriter(excel_file, engine='xlsxwriter') as writer:\n",
    "        # Write the DataFrame to the Excel file\n",
    "        for index, df in enumerate(dfs):\n",
    "            df.to_excel(writer, sheet_name=list_of_sheet_names[index], index=False, header=False)\n",
    "    \n",
    "    print(\"multiple arrays written to multiple sheets in excel file successfully\")"
   ]
  },
  {
   "cell_type": "markdown",
   "metadata": {},
   "source": [
    "Example usage:"
   ]
  },
  {
   "cell_type": "code",
   "execution_count": 40,
   "metadata": {},
   "outputs": [
    {
     "name": "stdout",
     "output_type": "stream",
     "text": [
      "array written to excel file successfully\n"
     ]
    }
   ],
   "source": [
    "# Example usage:\n",
    "numpy_array_to_excel(loaded_array, '../example_excel_file.xlsx', sheet_name='example_sheet')\n"
   ]
  },
  {
   "cell_type": "markdown",
   "metadata": {},
   "source": [
    "Example multi array version usage:"
   ]
  },
  {
   "cell_type": "code",
   "execution_count": null,
   "metadata": {},
   "outputs": [],
   "source": [
    "npy_file_locations = [\"../Data_Copy/AnalysisData/ANB2/Speed_ANB2_20231128_d13/reaction_times.npy\",\\\n",
    "                       \"../Data_Copy/AnalysisData/ANB2/Speed_ANB2_20231208_d21/reaction_times.npy\",\\\n",
    "                        \"../Data_Copy/AnalysisData/ANB2/Speed_ANB2_20231211_d22/reaction_times.npy\",\\\n",
    "                        ]\n",
    "loaded_arrays = []\n",
    "for npy_file_location in npy_file_locations:\n",
    "    loaded_array=np.load(npy_file_location)\n",
    "    print(\"shape of loaded array (rows, columns):\", loaded_array.shape)\n",
    "    loaded_arrays.append(loaded_array)\n",
    "sheets = ['sheet1', 'sheet2', 'sheet3']\n",
    "\n",
    "multiple_numpy_arrays_to_excel(loaded_arrays, '../example_multi_excel_file.xlsx', sheets)"
   ]
  },
  {
   "cell_type": "markdown",
   "metadata": {},
   "source": [
    "If you get a ModuleNotFoundError, make sure to install pandas, openpyxl, and xlsxwriter:"
   ]
  },
  {
   "cell_type": "code",
   "execution_count": 41,
   "metadata": {},
   "outputs": [
    {
     "name": "stdout",
     "output_type": "stream",
     "text": [
      "Requirement already satisfied: pandas in /opt/homebrew/lib/python3.11/site-packages (2.1.1)\n",
      "Requirement already satisfied: openpyxl in /opt/homebrew/lib/python3.11/site-packages (3.1.2)\n",
      "Requirement already satisfied: xlsxwriter in /opt/homebrew/lib/python3.11/site-packages (3.1.9)\n",
      "Requirement already satisfied: numpy>=1.23.2 in /opt/homebrew/lib/python3.11/site-packages (from pandas) (1.26.1)\n",
      "Requirement already satisfied: python-dateutil>=2.8.2 in /opt/homebrew/lib/python3.11/site-packages (from pandas) (2.8.2)\n",
      "Requirement already satisfied: pytz>=2020.1 in /opt/homebrew/lib/python3.11/site-packages (from pandas) (2023.3.post1)\n",
      "Requirement already satisfied: tzdata>=2022.1 in /opt/homebrew/lib/python3.11/site-packages (from pandas) (2023.3)\n",
      "Requirement already satisfied: et-xmlfile in /opt/homebrew/lib/python3.11/site-packages (from openpyxl) (1.1.0)\n",
      "Requirement already satisfied: six>=1.5 in /opt/homebrew/lib/python3.11/site-packages (from python-dateutil>=2.8.2->pandas) (1.16.0)\n"
     ]
    }
   ],
   "source": [
    "!pip3 install pandas openpyxl xlsxwriter"
   ]
  },
  {
   "cell_type": "markdown",
   "metadata": {},
   "source": [
    "### hi"
   ]
  },
  {
   "cell_type": "code",
   "execution_count": 55,
   "metadata": {},
   "outputs": [
    {
     "name": "stdout",
     "output_type": "stream",
     "text": [
      "shape of loaded array (rows, columns): (27, 4)\n",
      "shape of loaded array (rows, columns): (101, 4)\n",
      "shape of loaded array (rows, columns): (101, 4)\n",
      "shape of loaded array (rows, columns): (101, 4)\n",
      "shape of loaded array (rows, columns): (101, 4)\n",
      "shape of loaded array (rows, columns): (101, 4)\n",
      "shape of loaded array (rows, columns): (101, 4)\n",
      "shape of loaded array (rows, columns): (17, 4)\n",
      "shape of loaded array (rows, columns): (45, 4)\n",
      "shape of loaded array (rows, columns): (62, 4)\n",
      "shape of loaded array (rows, columns): (101, 4)\n",
      "shape of loaded array (rows, columns): (101, 4)\n",
      "multiple arrays written to multiple sheets in excel file successfully\n"
     ]
    }
   ],
   "source": [
    "npy_file_locations = [\"../Data_Copy/AnalysisData/ANA2/Jerk_ANA2_20231128_d13/jerk_ratios.npy\",\\\n",
    "                       \"../Data_Copy/AnalysisData/ANA2/Jerk_ANA2_20231208_d21/jerk_ratios.npy\",\\\n",
    "                        \"../Data_Copy/AnalysisData/ANA2/Jerk_ANA2_20231211_d22b/jerk_ratios.npy\",\\\n",
    "                        \\\n",
    "                        \"../Data_Copy/AnalysisData/ANA1/Jerk_ANA1_20231128_d12/jerk_ratios.npy\",\\\n",
    "                       \"../Data_Copy/AnalysisData/ANA1/Jerk_ANA1_20231208_d20/jerk_ratios.npy\",\\\n",
    "                        \"../Data_Copy/AnalysisData/ANA1/Jerk_ANA1_20231211_d21/jerk_ratios.npy\",\\\n",
    "                        \\\n",
    "                        \"../Data_Copy/AnalysisData/ANB1/Jerk_ANB1_20231128_d13/jerk_ratios.npy\",\\\n",
    "                       \"../Data_Copy/AnalysisData/ANB1/Jerk_ANB1_20231208_d20/jerk_ratios.npy\",\\\n",
    "                        \"../Data_Copy/AnalysisData/ANB1/Jerk_ANB1_20231211_d21/jerk_ratios.npy\",\\\n",
    "                        \\\n",
    "                        \"../Data_Copy/AnalysisData/ANB2/Jerk_ANB2_20231128_d13/jerk_ratios.npy\",\\\n",
    "                       \"../Data_Copy/AnalysisData/ANB2/Jerk_ANB2_20231208_d21/jerk_ratios.npy\",\\\n",
    "                        \"../Data_Copy/AnalysisData/ANB2/Jerk_ANB2_20231211_d22/jerk_ratios.npy\",\\\n",
    "                        ]\n",
    "loaded_arrays = []\n",
    "for npy_file_location in npy_file_locations:\n",
    "    loaded_array=np.load(npy_file_location)\n",
    "    print(\"shape of loaded array (rows, columns):\", loaded_array.shape)\n",
    "    loaded_arrays.append(loaded_array)\n",
    "sheets = ['a2_1', 'a2_2', 'a2_3',\\\n",
    "            'a1_1', 'a1_2', 'a1_3',\\\n",
    "            'b1_1', 'b1_2', 'b1_3',\\\n",
    "            'b2_1', 'b2_2', 'b2_3']\n",
    "\n",
    "multiple_numpy_arrays_to_excel(loaded_arrays, '../example_multi_excel_file.xlsx', sheets)"
   ]
  }
 ],
 "metadata": {
  "kernelspec": {
   "display_name": "Python 3",
   "language": "python",
   "name": "python3"
  },
  "language_info": {
   "codemirror_mode": {
    "name": "ipython",
    "version": 3
   },
   "file_extension": ".py",
   "mimetype": "text/x-python",
   "name": "python",
   "nbconvert_exporter": "python",
   "pygments_lexer": "ipython3",
   "version": "3.11.6"
  }
 },
 "nbformat": 4,
 "nbformat_minor": 2
}
