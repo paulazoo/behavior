{
 "cells": [
  {
   "cell_type": "markdown",
   "metadata": {},
   "source": [
    "### set session"
   ]
  },
  {
   "cell_type": "code",
   "execution_count": 1,
   "metadata": {},
   "outputs": [],
   "source": [
    "name = 'ANA1'\n",
    "session = '20231211_d21'\n",
    "num_trials = 143\n",
    "threshold_shift = 0.0"
   ]
  },
  {
   "cell_type": "markdown",
   "metadata": {},
   "source": [
    "### imports"
   ]
  },
  {
   "cell_type": "code",
   "execution_count": 2,
   "metadata": {},
   "outputs": [],
   "source": [
    "from scipy import io\n",
    "import numpy as np\n",
    "import matplotlib.pyplot as plt\n",
    "import statistics\n",
    "import pandas as pd\n",
    "import pickle\n",
    "import glob # find files in a directory\n",
    "import re # regex for string parsing\n",
    "\n",
    "from common.set_matplotlib_settings import set_matplotlib_settings\n",
    "from common.load_tonedisc_matfile import load_tonedisc_matfile\n",
    "from speed.calculate_time_differences import calculate_time_differences"
   ]
  },
  {
   "cell_type": "code",
   "execution_count": 3,
   "metadata": {},
   "outputs": [],
   "source": [
    "PreprocessLeverData_folder = \"../Data_Copy/AnalysisData/\"+name+\"/PreprocessLeverData_\"+name+\"_\"+session+\"/\"\n",
    "HitMovements_folder = \"../Data_Copy/AnalysisData/\"+name+\"/HitMovements_\"+name+\"_\"+session+\"/\"\n",
    "output_folder = \"../Data_Copy/AnalysisData/\"+name+\"/Speed_\"+name+\"_\"+session+\"/\"\n",
    "\n",
    "set_matplotlib_settings()"
   ]
  },
  {
   "cell_type": "markdown",
   "metadata": {},
   "source": [
    "for mac:"
   ]
  },
  {
   "cell_type": "code",
   "execution_count": 4,
   "metadata": {},
   "outputs": [
    {
     "name": "stdout",
     "output_type": "stream",
     "text": [
      "mkdir: ../Data_Copy/AnalysisData/ANA1/Speed_ANA1_20231211_d21/: File exists\n"
     ]
    }
   ],
   "source": [
    "!mkdir {output_folder}"
   ]
  },
  {
   "cell_type": "markdown",
   "metadata": {},
   "source": [
    "for windows:"
   ]
  },
  {
   "cell_type": "code",
   "execution_count": 5,
   "metadata": {},
   "outputs": [
    {
     "name": "stdout",
     "output_type": "stream",
     "text": [
      "mkdir: ../Data_Copy/AnalysisData/ANA1/Speed_ANA1_20231211_d21/: File exists\n"
     ]
    }
   ],
   "source": [
    "!mkdir \"{output_folder}\""
   ]
  },
  {
   "cell_type": "markdown",
   "metadata": {},
   "source": [
    "### get all indices"
   ]
  },
  {
   "cell_type": "code",
   "execution_count": 6,
   "metadata": {},
   "outputs": [],
   "source": [
    "leverdata_tone_indices = np.fromfile(PreprocessLeverData_folder+\"tone_indices.bin\", dtype=np.double)\n",
    "leverdata_leverpress_indices = np.fromfile(PreprocessLeverData_folder+\"leverpress_indices.bin\", dtype=np.double)\n",
    "first_threshold_indices = np.fromfile(HitMovements_folder+\"first_threshold_indices.bin\", dtype=np.double)\n",
    "second_threshold_indices = np.fromfile(HitMovements_folder+\"second_threshold_indices.bin\", dtype=np.double)\n",
    "third_threshold_indices = np.fromfile(HitMovements_folder+\"third_threshold_indices.bin\", dtype=np.double)\n",
    "\n",
    "trial_frequencies = np.fromfile(PreprocessLeverData_folder+\"trial_frequencies.bin\", dtype=np.double)\n",
    "\n",
    "movement_informations = np.load(HitMovements_folder+\"leverpress_informations.npy\")"
   ]
  },
  {
   "cell_type": "markdown",
   "metadata": {},
   "source": [
    "### calculate reaction times as time from tone index to first threshold"
   ]
  },
  {
   "cell_type": "code",
   "execution_count": 7,
   "metadata": {},
   "outputs": [
    {
     "name": "stdout",
     "output_type": "stream",
     "text": [
      "mean reaction time: 1.9750576223223895 s\n"
     ]
    }
   ],
   "source": [
    "reaction_times = calculate_time_differences(leverdata_tone_indices, first_threshold_indices, movement_informations, trial_frequencies)\n",
    "\n",
    "print(\"mean reaction time:\", np.mean(reaction_times), \"s\")\n",
    "np.save(output_folder+\"reaction_times\", reaction_times)"
   ]
  },
  {
   "cell_type": "markdown",
   "metadata": {},
   "source": [
    "### Calculate time from first threshold to second threshold (rise time)"
   ]
  },
  {
   "cell_type": "code",
   "execution_count": 8,
   "metadata": {},
   "outputs": [
    {
     "name": "stdout",
     "output_type": "stream",
     "text": [
      "mean rise time: 0.03476589739473704 s\n"
     ]
    }
   ],
   "source": [
    "rise_times = calculate_time_differences(first_threshold_indices, second_threshold_indices, movement_informations, trial_frequencies)\n",
    "\n",
    "print(\"mean rise time:\", np.mean(rise_times), \"s\")\n",
    "np.save(output_folder+\"rise_times\", rise_times)"
   ]
  },
  {
   "cell_type": "markdown",
   "metadata": {},
   "source": [
    "### Calculated time from second threshold to third threshold (return times)"
   ]
  },
  {
   "cell_type": "code",
   "execution_count": 9,
   "metadata": {},
   "outputs": [
    {
     "name": "stdout",
     "output_type": "stream",
     "text": [
      "mean return times: 0.2297162126343111 s\n"
     ]
    }
   ],
   "source": [
    "return_times = calculate_time_differences(second_threshold_indices, third_threshold_indices, movement_informations, trial_frequencies)\n",
    "\n",
    "print(\"mean return times:\", np.mean(return_times), \"s\")\n",
    "np.save(output_folder+\"return_times\", return_times)"
   ]
  }
 ],
 "metadata": {
  "kernelspec": {
   "display_name": "Python 3",
   "language": "python",
   "name": "python3"
  },
  "language_info": {
   "codemirror_mode": {
    "name": "ipython",
    "version": 3
   },
   "file_extension": ".py",
   "mimetype": "text/x-python",
   "name": "python",
   "nbconvert_exporter": "python",
   "pygments_lexer": "ipython3",
   "version": "3.11.6"
  }
 },
 "nbformat": 4,
 "nbformat_minor": 2
}
