{
 "cells": [
  {
   "cell_type": "markdown",
   "metadata": {},
   "source": [
    "### Set session"
   ]
  },
  {
   "cell_type": "code",
   "execution_count": 17,
   "metadata": {},
   "outputs": [],
   "source": [
    "name = 'ANB2'\n",
    "session = '20231211_d22'\n",
    "num_trials = 176\n",
    "threshold_shift = 0.0"
   ]
  },
  {
   "cell_type": "markdown",
   "metadata": {},
   "source": [
    "### imports"
   ]
  },
  {
   "cell_type": "code",
   "execution_count": 18,
   "metadata": {},
   "outputs": [],
   "source": [
    "import matplotlib.pyplot as plt\n",
    "import numpy as np\n",
    "\n",
    "from common.select_trials import select_hit_trials, select_custom_hit_trials\n",
    "from common.load_tonedisc_matfile import load_tonedisc_matfile\n",
    "from common.set_matplotlib_settings import set_matplotlib_multiplot_settings\n",
    "from hit_movements.get_movement_thresholds import get_movement_thresholds"
   ]
  },
  {
   "cell_type": "markdown",
   "metadata": {},
   "source": [
    "### Setup folders"
   ]
  },
  {
   "cell_type": "code",
   "execution_count": 19,
   "metadata": {},
   "outputs": [
    {
     "name": "stdout",
     "output_type": "stream",
     "text": [
      "respMTX shape: (176, 7)\n",
      "MTXTrialType shape: (1000, 5)\n",
      "number of trials: 176\n",
      "movement_baseline for all trials should be the same:  2.693880742913002\n",
      "mvt threshold:  0.15959462964071258 + movement_baseline =  2.8534753725537145\n",
      "nomvt threshold:  0.09974664352544539 + movement_baseline =  2.7936273864384473\n",
      "mkdir: ../Data_Copy/AnalysisData/ANB2/SingleMovements_ANB2_20231211_d22/: File exists\n"
     ]
    }
   ],
   "source": [
    "tone_discriminiation_matfile = '../Data_Copy/ToneDiscrimination/'+name+'/ToneDisc_'+name+'_'+session+'.mat'\n",
    "params, response, respMTX, MTXTrialType = load_tonedisc_matfile(tone_discriminiation_matfile)\n",
    "movement_baseline, movement_threshold, no_movement_threshold = get_movement_thresholds(params, respMTX, threshold_shift)\n",
    "\n",
    "PreprocessLeverData_folder = \"../Data_Copy/AnalysisData/\"+name+\"/PreprocessLeverData_\"+name+\"_\"+session+\"/\"\n",
    "HitMovements_folder = \"../Data_Copy/AnalysisData/\"+name+\"/HitMovements_\"+name+\"_\"+session+\"/\"\n",
    "Jerk_folder = \"../Data_Copy/AnalysisData/\"+name+\"/Jerk_\"+name+\"_\"+session+\"/\"\n",
    "output_folder = \"../Data_Copy/AnalysisData/\"+name+\"/SingleMovements_\"+name+\"_\"+session+\"/\"\n",
    "!mkdir {output_folder}"
   ]
  },
  {
   "cell_type": "code",
   "execution_count": 20,
   "metadata": {},
   "outputs": [
    {
     "name": "stdout",
     "output_type": "stream",
     "text": [
      "101  hit trials in this session.\n"
     ]
    }
   ],
   "source": [
    "hit_trials = select_custom_hit_trials(HitMovements_folder)\n",
    "hit_trials = select_hit_trials(respMTX, num_trials)"
   ]
  },
  {
   "cell_type": "markdown",
   "metadata": {},
   "source": [
    "### Plot all single movements"
   ]
  },
  {
   "cell_type": "code",
   "execution_count": null,
   "metadata": {},
   "outputs": [],
   "source": [
    "set_matplotlib_multiplot_settings()\n",
    "\n",
    "leverdata_tone_indices = np.fromfile(PreprocessLeverData_folder+\"tone_indices.bin\", dtype=np.double)\n",
    "leverdata_leverpress_indices = np.fromfile(PreprocessLeverData_folder+\"leverpress_indices.bin\", dtype=np.double)\n",
    "\n",
    "movement_informations = np.load(HitMovements_folder+\"leverpress_informations.npy\")\n",
    "\n",
    "for movement_information in movement_informations:\n",
    "    trial_index = int(movement_information[0])\n",
    "\n",
    "    leverdata = np.fromfile(PreprocessLeverData_folder+\"processed_trial\"+str(trial_index)+\".bin\", dtype=np.double)\n",
    "    jerk = np.load(Jerk_folder+\"jerk_trial\"+str(trial_index)+\".npy\")\n",
    "    sample_times = np.fromfile(PreprocessLeverData_folder+\"sample_times_trial\"+str(trial_index)+\".bin\", dtype=np.double)\n",
    "    tone_index = int(leverdata_tone_indices[trial_index])\n",
    "    leverpress_index = int(leverdata_leverpress_indices[trial_index])\n",
    "    \n",
    "    left_index, right_index = movement_information[1:]\n",
    "    left_index = int(left_index)\n",
    "    right_index = int(right_index)\n",
    "    plt.subplot(2,1,1)\n",
    "    plt.plot(sample_times, leverdata, alpha=0.2, color='blue')\n",
    "    plt.plot(sample_times[left_index:right_index+1], leverdata[left_index:right_index+1], color='blue', label='leverdata')\n",
    "    plt.axvline(x=sample_times[int(leverpress_index)], color='black', label='tonedisc leverpress')\n",
    "    plt.axvline(x=sample_times[int(tone_index)], color='gray', label='tonedisc tone')\n",
    "    plt.axhline(y=movement_baseline + no_movement_threshold, label='thresholds', color='brown')\n",
    "    plt.axhline(y=movement_baseline + movement_threshold, color='brown')\n",
    "    plt.legend()\n",
    "    plt.xlabel(\"time from hitting first threshold (s)\")\n",
    "    plt.ylabel(\"V (displacement)\")\n",
    "    plt.title(\"Movement: from first to third threshold \\n\"+session+\"\\nTrial: \"+str(trial_index))\n",
    "\n",
    "    plt.subplot(2,1,2)\n",
    "    plt.plot(sample_times[1:], jerk, alpha=0.2, color='purple')\n",
    "    plt.plot(sample_times[left_index:right_index+1], jerk[left_index:right_index+1], color='purple', label='jerk')\n",
    "    plt.axvline(x=sample_times[int(leverpress_index)], color='black', label='tonedisc leverpress')\n",
    "    plt.axvline(x=sample_times[int(tone_index)], color='gray', label='tonedisc tone')\n",
    "    plt.axhline(y=movement_baseline + no_movement_threshold, label='thresholds', color='brown')\n",
    "    plt.axhline(y=movement_baseline + movement_threshold, color='brown')\n",
    "    plt.legend()\n",
    "    plt.xlabel(\"time from hitting first threshold (s)\")\n",
    "    plt.ylabel(\"V/s^3\")\n",
    "\n",
    "    plt.savefig(output_folder+\"plot_trial\"+str(trial_index)+'.png')\n",
    "    plt.show()"
   ]
  },
  {
   "cell_type": "markdown",
   "metadata": {},
   "source": [
    "### Plot basic trial leverdata"
   ]
  },
  {
   "cell_type": "code",
   "execution_count": null,
   "metadata": {},
   "outputs": [],
   "source": [
    "set_matplotlib_multiplot_settings()\n",
    "\n",
    "leverdata_tone_indices = np.fromfile(PreprocessLeverData_folder+\"tone_indices.bin\", dtype=np.double)\n",
    "leverdata_leverpress_indices = np.fromfile(PreprocessLeverData_folder+\"leverpress_indices.bin\", dtype=np.double)\n",
    "\n",
    "for trial_index in hit_trials:\n",
    "    leverdata = np.fromfile(PreprocessLeverData_folder+\"processed_trial\"+str(trial_index)+\".bin\", dtype=np.double)\n",
    "\n",
    "    sample_times = np.fromfile(PreprocessLeverData_folder+\"sample_times_trial\"+str(trial_index)+\".bin\", dtype=np.double)\n",
    "    tone_index = int(leverdata_tone_indices[trial_index])\n",
    "    leverpress_index = int(leverdata_leverpress_indices[trial_index])\n",
    "    \n",
    "    plt.plot(sample_times, leverdata, color='blue', label='leverdata')\n",
    "    plt.axvline(x=sample_times[int(leverpress_index)], color='black', label='tonedisc leverpress')\n",
    "    plt.axvline(x=sample_times[int(tone_index)], color='gray', label='tonedisc tone')\n",
    "    plt.axhline(y=movement_baseline + no_movement_threshold, label='thresholds', color='brown')\n",
    "    plt.axhline(y=movement_baseline + movement_threshold, color='brown')\n",
    "    plt.legend()\n",
    "    plt.xlabel(\"time (s)\")\n",
    "    plt.ylabel(\"V (displacement)\")\n",
    "    plt.title(\"Movement\\n\"+session+\"\\nTrial: \"+str(trial_index))\n",
    "\n",
    "    plt.savefig(output_folder+\"plot_basic_trial\"+str(trial_index)+'.png')\n",
    "    plt.show()"
   ]
  }
 ],
 "metadata": {
  "kernelspec": {
   "display_name": "Python 3 (ipykernel)",
   "language": "python",
   "name": "python3"
  },
  "language_info": {
   "codemirror_mode": {
    "name": "ipython",
    "version": 3
   },
   "file_extension": ".py",
   "mimetype": "text/x-python",
   "name": "python",
   "nbconvert_exporter": "python",
   "pygments_lexer": "ipython3",
   "version": "3.11.6"
  }
 },
 "nbformat": 4,
 "nbformat_minor": 4
}
