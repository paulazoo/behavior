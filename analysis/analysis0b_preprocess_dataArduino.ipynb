{
 "cells": [
  {
   "cell_type": "markdown",
   "metadata": {},
   "source": [
    "# Summary:\n",
    "This is just a histogram of the previous old `dataArduino`'s sampling rate, as defined by the difference between MATLAB times between every two consecutive samples.\n",
    "\n",
    "This `dataArduino` only adds samples in between running sections of the trial code throughout the main MATLAB ToneDiscriminationV3_GF.m code, leading to very uneven sampling, and it also sends several other bytes of irrelevant information each time (e.g. empty left and right lickspout detection data) which further slows it down."
   ]
  },
  {
   "cell_type": "markdown",
   "metadata": {},
   "source": [
    "### imports"
   ]
  },
  {
   "cell_type": "code",
   "execution_count": 3,
   "metadata": {},
   "outputs": [],
   "source": [
    "from scipy import io\n",
    "import numpy as np\n",
    "import matplotlib.pyplot as plt\n",
    "import statistics\n",
    "import re\n",
    "import glob\n",
    "\n",
    "# https://docs.scipy.org/doc/scipy/reference/generated/scipy.signal.lombscargle.html\n",
    "import scipy.signal as signal\n",
    "\n",
    "# interpolation because ARDUINO data is spaced unevenly\n",
    "import scipy.interpolate as interpolate\n",
    "\n",
    "# save data\n",
    "import pickle"
   ]
  },
  {
   "cell_type": "markdown",
   "metadata": {},
   "source": [
    "### set `folder_name`"
   ]
  },
  {
   "cell_type": "code",
   "execution_count": 4,
   "metadata": {},
   "outputs": [],
   "source": [
    "# for all .mat files in this folder starting with \"ToneDisc_ANChandler_p1_\" in their name\n",
    "folder_name = './Data/Chandler/Phase1/ToneDisc_ANChandler_p1_'"
   ]
  },
  {
   "cell_type": "markdown",
   "metadata": {},
   "source": [
    "### sort through relevant .mat files found in folder by day (\"_d#\")"
   ]
  },
  {
   "cell_type": "code",
   "execution_count": 5,
   "metadata": {},
   "outputs": [
    {
     "data": {
      "text/plain": [
       "['./Data/Chandler/Phase1/ToneDisc_ANChandler_p1_d1.mat',\n",
       " './Data/Chandler/Phase1/ToneDisc_ANChandler_p1_d2.mat',\n",
       " './Data/Chandler/Phase1/ToneDisc_ANChandler_p1_d3.mat',\n",
       " './Data/Chandler/Phase1/ToneDisc_ANChandler_p1_d4.mat',\n",
       " './Data/Chandler/Phase1/ToneDisc_ANChandler_p1_d5.mat',\n",
       " './Data/Chandler/Phase1/ToneDisc_ANChandler_p1_d6.mat',\n",
       " './Data/Chandler/Phase1/ToneDisc_ANChandler_p1_d7.mat',\n",
       " './Data/Chandler/Phase1/ToneDisc_ANChandler_p1_d8.mat',\n",
       " './Data/Chandler/Phase1/ToneDisc_ANChandler_p1_d9.mat',\n",
       " './Data/Chandler/Phase1/ToneDisc_ANChandler_p1_d10.mat',\n",
       " './Data/Chandler/Phase1/ToneDisc_ANChandler_p1_d11.mat',\n",
       " './Data/Chandler/Phase1/ToneDisc_ANChandler_p1_d12.mat',\n",
       " './Data/Chandler/Phase1/ToneDisc_ANChandler_p1_d13.mat',\n",
       " './Data/Chandler/Phase1/ToneDisc_ANChandler_p1_d14.mat']"
      ]
     },
     "execution_count": 5,
     "metadata": {},
     "output_type": "execute_result"
    }
   ],
   "source": [
    "unsorted_mat_files = glob.glob(folder_name+'*.mat')\n",
    "sorted_mat_files = sorted(unsorted_mat_files, key=lambda x: int(re.search(r'\\d+.mat$',x).group()[:-4]))\n",
    "sorted_mat_files"
   ]
  },
  {
   "cell_type": "markdown",
   "metadata": {},
   "source": [
    "### load `data` from .mat file and split into `params` and `response`"
   ]
  },
  {
   "cell_type": "code",
   "execution_count": 28,
   "metadata": {},
   "outputs": [],
   "source": [
    "mat_dict = io.loadmat(\"Data/AnB1/ToneDisc_ANB1_30-Oct-2023.mat\")\n",
    "\n",
    "data = mat_dict['data'][0][0]\n",
    "params = data[0][0][0]\n",
    "response = data[1][0][0]"
   ]
  },
  {
   "cell_type": "markdown",
   "metadata": {},
   "source": [
    "### get `dataArduino` (ARDUINO data), `respMTX`, and `MTXTrialType`"
   ]
  },
  {
   "cell_type": "code",
   "execution_count": 29,
   "metadata": {},
   "outputs": [
    {
     "name": "stdout",
     "output_type": "stream",
     "text": [
      "dataArduino shape: (345993, 7)\n",
      "respMTX shape: (183, 7)\n",
      "MTXTrialType shape: (1000, 5)\n",
      "number of trials: 183\n"
     ]
    }
   ],
   "source": [
    "dataArduino = response[0]\n",
    "print(\"dataArduino shape: \"+str(dataArduino.shape))\n",
    "\n",
    "respMTX = response[2]\n",
    "print(\"respMTX shape: \"+str(respMTX.shape))\n",
    "\n",
    "MTXTrialType = params[16]\n",
    "print(\"MTXTrialType shape: \"+str(MTXTrialType.shape))\n",
    "\n",
    "num_trials = respMTX.shape[0]\n",
    "print(\"number of trials: \"+str(num_trials))"
   ]
  },
  {
   "cell_type": "markdown",
   "metadata": {},
   "source": [
    "### Look at sampling rate and plot a histogram of the sampling rate across the entire `dataArduino`\n",
    "a lever movement can be less than 100 ms"
   ]
  },
  {
   "cell_type": "code",
   "execution_count": 30,
   "metadata": {},
   "outputs": [],
   "source": [
    "dts = []\n",
    "for trial_i in range(0, num_trials):\n",
    "    trial_respMTX = respMTX[trial_i]\n",
    "\n",
    "    if trial_respMTX[-1] == 1:\n",
    "\n",
    "        start_t = respMTX[trial_i][0]\n",
    "        for arduino_i, arduino_t in enumerate(dataArduino[:, 0]):\n",
    "            if start_t <= arduino_t:\n",
    "                start_arduino_i = arduino_i\n",
    "                break\n",
    "\n",
    "        if trial_i < num_trials - 1:\n",
    "            end_t = respMTX[trial_i+1][0]\n",
    "            for arduino_i, arduino_t in enumerate(dataArduino[:, 0]):\n",
    "                if end_t <= arduino_t:\n",
    "                    end_arduino_i = arduino_i\n",
    "                    break\n",
    "        else:\n",
    "            end_arduino_i = len(dataArduino) - 1\n",
    "\n",
    "\n",
    "        trial_dataArduino = dataArduino[start_arduino_i:end_arduino_i,:]\n",
    "\n"
   ]
  },
  {
   "cell_type": "code",
   "execution_count": 46,
   "metadata": {},
   "outputs": [],
   "source": [
    "old_arduino_t = dataArduino[1, 0]\n",
    "for arduino_t in dataArduino[1:, 0]:\n",
    "    dts.append(arduino_t - old_arduino_t)\n",
    "    old_arduino_t = arduino_t"
   ]
  },
  {
   "cell_type": "code",
   "execution_count": 55,
   "metadata": {},
   "outputs": [
    {
     "data": {
      "image/png": "[encoded data removed]",
      "text/plain": [
       "<Figure size 640x480 with 1 Axes>"
      ]
     },
     "metadata": {},
     "output_type": "display_data"
    },
    {
     "name": "stdout",
     "output_type": "stream",
     "text": [
      "mean:  198.38423234067224  Hz\n",
      "std of intersample duration:  0.004876950084407895  seconds\n",
      "min:  7.0670529046647905  Hz\n",
      "max:  inf  Hz\n",
      "90th slowest percentile 142.91635106016963\n",
      "99th slowest percentile 35.11395743277409\n",
      "99.9th slowest percentile 30.399095775263422\n"
     ]
    },
    {
     "name": "stderr",
     "output_type": "stream",
     "text": [
      "/var/folders/r7/8qfxhsfs03nbp3j_6k4vgz600000gn/T/ipykernel_20428/888803134.py:13: RuntimeWarning: divide by zero encountered in scalar divide\n",
      "  print(\"max: \", 1 / min(dts), \" Hz\")\n"
     ]
    }
   ],
   "source": [
    "# plotting histogram of dataArduino inter-sample durations\n",
    "plt.hist(dts, bins=500, edgecolor='black')\n",
    "plt.xlabel('inter-sample duration')\n",
    "plt.ylabel('count')\n",
    "plt.xlim([0, 0.14])\n",
    "plt.title(\"dataArduino sampling rate distribution\")\n",
    "plt.show()\n",
    "\n",
    "# print out mean and std of sampling rate\n",
    "print(\"mean: \", 1 / (sum(dts) / len(dts)), \" Hz\")\n",
    "print(\"std of intersample duration: \", np.std(dts), \" s\")\n",
    "print(\"min: \", 1 / max(dts), \" Hz\")\n",
    "print(\"max: \", 1 / min(dts), \" Hz\")\n",
    "print(\"90th slowest percentile\", 1 / np.percentile(dts, 90))\n",
    "print(\"99th slowest percentile\", 1 / np.percentile(dts, 99))\n",
    "print(\"99.9th slowest percentile\", 1 / np.percentile(dts, 99.9))"
   ]
  },
  {
   "cell_type": "code",
   "execution_count": 54,
   "metadata": {},
   "outputs": [
    {
     "data": {
      "text/plain": [
       "691984"
      ]
     },
     "execution_count": 54,
     "metadata": {},
     "output_type": "execute_result"
    }
   ],
   "source": [
    "dts[dts != 0]\n",
    "len(dts)"
   ]
  }
 ],
 "metadata": {
  "kernelspec": {
   "display_name": "Python 3",
   "language": "python",
   "name": "python3"
  },
  "language_info": {
   "codemirror_mode": {
    "name": "ipython",
    "version": 3
   },
   "file_extension": ".py",
   "mimetype": "text/x-python",
   "name": "python",
   "nbconvert_exporter": "python",
   "pygments_lexer": "ipython3",
   "version": "3.11.6"
  }
 },
 "nbformat": 4,
 "nbformat_minor": 2
}
