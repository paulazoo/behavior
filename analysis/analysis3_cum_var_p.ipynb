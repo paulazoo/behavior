{
 "cells": [
  {
   "cell_type": "markdown",
   "metadata": {},
   "source": [
    "# Summary:\n",
    "To compare the movement path variance, `var_p`, across days, I calculate the cumulative movement path variance, `cumuative_var_p`, as the sum of the variance across 100% of the movement: $\\int\\limits_{0}^{100} Var_p(p) dp$ where $p =$ % movement completed. Then, I plot the cumulative movement path variance for each day."
   ]
  },
  {
   "cell_type": "markdown",
   "metadata": {},
   "source": [
    "### imports"
   ]
  },
  {
   "cell_type": "code",
   "execution_count": 2,
   "metadata": {},
   "outputs": [],
   "source": [
    "from scipy import io\n",
    "import numpy as np\n",
    "import matplotlib.pyplot as plt\n",
    "import statistics\n",
    "import pandas as pd\n",
    "import scipy.signal as signal\n",
    "import pickle\n",
    "import glob # find files in a directory\n",
    "import re # regex for string parsing"
   ]
  },
  {
   "cell_type": "markdown",
   "metadata": {},
   "source": [
    "### set `folder_name`"
   ]
  },
  {
   "cell_type": "code",
   "execution_count": 3,
   "metadata": {},
   "outputs": [
    {
     "name": "stdout",
     "output_type": "stream",
     "text": [
      "mkdir: ./Data/AnB1/analysis3_ANB1/: File exists\n"
     ]
    }
   ],
   "source": [
    "folder_name = './Data/AnB1/'\n",
    "lever_data_folder = \"./Data/AnB1/LeverData_ANB1_d1/\"\n",
    "lever_data_matfile = \"./Data/AnB1/LeverData_ANB1_d1.mat\"\n",
    "output_folder = \"./Data/AnB1/analysis3_ANB1/\"\n",
    "!mkdir {output_folder}"
   ]
  },
  {
   "cell_type": "markdown",
   "metadata": {},
   "source": [
    "### sort through relevant sorted_analysis2_folders by day (\"_d#\")"
   ]
  },
  {
   "cell_type": "code",
   "execution_count": 4,
   "metadata": {},
   "outputs": [
    {
     "data": {
      "text/plain": [
       "['./Data/AnB1/analysis2_ANB1_d1/']"
      ]
     },
     "execution_count": 4,
     "metadata": {},
     "output_type": "execute_result"
    }
   ],
   "source": [
    "unsorted_analysis2_folders = glob.glob(folder_name+'analysis2_ANB1*/')\n",
    "sorted_analysis2_folders = sorted(unsorted_analysis2_folders, key=lambda x: int(re.search(r'\\d/$',x).group()[:-1]))\n",
    "sorted_analysis2_folders"
   ]
  },
  {
   "cell_type": "markdown",
   "metadata": {},
   "source": [
    "### get `movements_var_ps` and calculate `cumulative_var_p`, $\\int\\limits_{0}^{100} Var_p(p) dp$ where $p =$ % movement completed. Save to `cumulative_var_ps`, a list of all `cumulative_var_p`'s from all days.\n",
    "\n",
    "Sticking with num_samples of 10*10000 as explained in analysis2"
   ]
  },
  {
   "cell_type": "code",
   "execution_count": 5,
   "metadata": {},
   "outputs": [
    {
     "name": "stdout",
     "output_type": "stream",
     "text": [
      "cumulative_var_p:  0.8795820500781925\n"
     ]
    }
   ],
   "source": [
    "num_samples = 10*10000\n",
    "\n",
    "cumulative_var_ps = []\n",
    "for analysis2_folder in sorted_analysis2_folders:\n",
    "    var_p = np.load(analysis2_folder+\"var_p.npy\")\n",
    "\n",
    "    # Compute the area using the composite trapezoidal rule.\n",
    "    cumulative_var_p = np.trapz(var_p, dx=(100/num_samples))\n",
    "    print(\"cumulative_var_p: \", cumulative_var_p)\n",
    "    cumulative_var_ps.append(cumulative_var_p)\n",
    "\n",
    "cumulative_var_ps = np.array(cumulative_var_ps)"
   ]
  },
  {
   "cell_type": "markdown",
   "metadata": {},
   "source": [
    "### plot `cumulative_var_p` over days"
   ]
  },
  {
   "cell_type": "code",
   "execution_count": 6,
   "metadata": {},
   "outputs": [
    {
     "data": {
      "text/plain": [
       "[<matplotlib.lines.Line2D at 0x1069b8e50>]"
      ]
     },
     "execution_count": 6,
     "metadata": {},
     "output_type": "execute_result"
    },
    {
     "data": {
      "image/png": "[encoded data removed]",
      "text/plain": [
       "<Figure size 640x480 with 1 Axes>"
      ]
     },
     "metadata": {},
     "output_type": "display_data"
    }
   ],
   "source": [
    "plt.plot(range(0,len(cumulative_var_ps)),cumulative_var_ps)"
   ]
  },
  {
   "cell_type": "markdown",
   "metadata": {},
   "source": [
    "### save `cumulative_var_ps`"
   ]
  },
  {
   "cell_type": "code",
   "execution_count": 7,
   "metadata": {},
   "outputs": [],
   "source": [
    "np.save(output_folder+\"cumulative_var_ps\", cumulative_var_ps)"
   ]
  }
 ],
 "metadata": {
  "kernelspec": {
   "display_name": "Python 3",
   "language": "python",
   "name": "python3"
  },
  "language_info": {
   "codemirror_mode": {
    "name": "ipython",
    "version": 3
   },
   "file_extension": ".py",
   "mimetype": "text/x-python",
   "name": "python",
   "nbconvert_exporter": "python",
   "pygments_lexer": "ipython3",
   "version": "3.11.6"
  }
 },
 "nbformat": 4,
 "nbformat_minor": 2
}
