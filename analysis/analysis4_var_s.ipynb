{
 "cells": [
  {
   "cell_type": "markdown",
   "metadata": {},
   "source": [
    "# Summary:\n",
    "As previously explained, there are two parts to how a movement between point A and point B might vary. The second part is the speed of the movement. Here, I calculate the average speed, `s`, of each __Hit__ trial's movement, defined as $\\frac{100}{\\text{time}}$ in units of % movement/s. I then find the mean of these average speeds, `mean_s`, and variance of these average speeds, `var_s`, across all trials for the day."
   ]
  },
  {
   "cell_type": "markdown",
   "metadata": {},
   "source": [
    "### imports"
   ]
  },
  {
   "cell_type": "code",
   "execution_count": 1,
   "metadata": {},
   "outputs": [],
   "source": [
    "from scipy import io\n",
    "import numpy as np\n",
    "import matplotlib.pyplot as plt\n",
    "import statistics\n",
    "import pandas as pd\n",
    "import scipy.signal as signal\n",
    "import scipy.interpolate as interpolate\n",
    "import pickle\n",
    "import glob # find files in a directory\n",
    "import re # regex for string parsing"
   ]
  },
  {
   "cell_type": "markdown",
   "metadata": {},
   "source": [
    "### set `folder_name`"
   ]
  },
  {
   "cell_type": "code",
   "execution_count": 2,
   "metadata": {},
   "outputs": [
    {
     "name": "stdout",
     "output_type": "stream",
     "text": [
      "mkdir: ./Data/AnB1/analysis4_ANB1/: File exists\n"
     ]
    }
   ],
   "source": [
    "folder_name = './Data/AnB1/'\n",
    "lever_data_folder = \"./Data/AnB1/LeverData_ANB1_d1/\"\n",
    "lever_data_matfile = \"./Data/AnB1/LeverData_ANB1_d1.mat\"\n",
    "output_folder = \"./Data/AnB1/analysis4_ANB1/\"\n",
    "!mkdir {output_folder}"
   ]
  },
  {
   "cell_type": "markdown",
   "metadata": {},
   "source": [
    "### sort through relevant .mat files found in folder by day (\"_d#\")"
   ]
  },
  {
   "cell_type": "code",
   "execution_count": 3,
   "metadata": {},
   "outputs": [
    {
     "data": {
      "text/plain": [
       "['./Data/AnB1/analysis2_ANB1_d1/']"
      ]
     },
     "execution_count": 3,
     "metadata": {},
     "output_type": "execute_result"
    }
   ],
   "source": [
    "unsorted_analysis2_folders = glob.glob(folder_name+'analysis2_ANB1*/')\n",
    "sorted_analysis2_folders = sorted(unsorted_analysis2_folders, key=lambda x: int(re.search(r'\\d/$',x).group()[:-1]))\n",
    "sorted_analysis2_folders"
   ]
  },
  {
   "cell_type": "markdown",
   "metadata": {},
   "source": [
    "### Get `var_s` and `mean_s`\n",
    "- For each day, go to corresponding analysis2 folder\n",
    "    - Find `mean_s` and `var_s` for that day:\n",
    "        - For each movement from that day, get the total time it took to do the entire movement\n",
    "        - Calculate an overall average speed defined as $\\frac{100}{\\text{time}}$ in units of % movement/s\n",
    "    - Then, find the variance and mean of these average speeds, `var_s` and `mean_s`, respectively, for all movements from a day\n",
    "    - Append to `vars_vs` and `mean_ss`"
   ]
  },
  {
   "cell_type": "code",
   "execution_count": 6,
   "metadata": {},
   "outputs": [
    {
     "name": "stdout",
     "output_type": "stream",
     "text": [
      "time for total movement:  4.000994858338075 s\n",
      "time for total movement:  7.181991195593355 s\n",
      "time for total movement:  3.52710663571645 s\n",
      "time for total movement:  5.762275634959906 s\n",
      "time for total movement:  2.6777836289149946 s\n",
      "time for total movement:  2.193707296474429 s\n",
      "time for total movement:  3.098548423158036 s\n",
      "time for total movement:  6.593054364796188 s\n",
      "time for total movement:  5.835351440671673 s\n",
      "time for total movement:  0.04488061773122354 s\n",
      "time for total movement:  1.9927909479387154 s\n",
      "time for total movement:  0.4965835178816178 s\n",
      "time for total movement:  4.983921812434801 s\n",
      "time for total movement:  2.617027304908106 s\n",
      "time for total movement:  3.895655595206989 s\n",
      "time for total movement:  2.048696223312902 s\n",
      "time for total movement:  1.8902763223561578 s\n",
      "time for total movement:  5.132433895588974 s\n",
      "time for total movement:  3.5847155451707096 s\n",
      "time for total movement:  0.42482824805079034 s\n",
      "time for total movement:  4.176110788989035 s\n",
      "time for total movement:  5.773792886946239 s\n",
      "time for total movement:  3.296366654081055 s\n",
      "time for total movement:  4.725901506861192 s\n",
      "time for total movement:  4.132193094872844 s\n",
      "time for total movement:  0.20927901681511685 s\n",
      "time for total movement:  1.5252656985794601 s\n",
      "time for total movement:  0.9010495405523216 s\n",
      "time for total movement:  3.1199100763451497 s\n",
      "time for total movement:  5.925476397593343 s\n",
      "time for total movement:  2.109332511815637 s\n",
      "time for total movement:  0.5567773709567518 s\n",
      "time for total movement:  0.8396378033448855 s\n",
      "time for total movement:  0.3801040179660049 s\n",
      "time for total movement:  0.46273677212639086 s\n",
      "time for total movement:  1.8510115220218495 s\n",
      "time for total movement:  5.572511009660673 s\n",
      "time for total movement:  6.223946170050908 s\n",
      "time for total movement:  0.5011831907379474 s\n",
      "time for total movement:  6.671099723861062 s\n",
      "time for total movement:  1.6171327859751727 s\n",
      "time for total movement:  7.166512884756003 s\n",
      "time for total movement:  4.201724596819986 s\n",
      "time for total movement:  1.161982110962981 s\n",
      "time for total movement:  2.7419748603366543 s\n",
      "time for total movement:  0.032980620662328874 s\n",
      "time for total movement:  6.355365883947115 s\n",
      "time for total movement:  8.55725951485448 s\n",
      "time for total movement:  2.00588981819908 s\n",
      "time for total movement:  5.502696041987633 s\n",
      "time for total movement:  2.5791436140598307 s\n",
      "time for total movement:  6.801569537848877 s\n",
      "time for total movement:  0.270149625584736 s\n",
      "time for total movement:  0.22644905275296878 s\n",
      "time for total movement:  3.4036616771738863 s\n",
      "time for total movement:  0.19890461435295492 s\n",
      "time for total movement:  4.017578428587683 s\n",
      "time for total movement:  5.022124913734842 s\n",
      "time for total movement:  4.718357437839813 s\n",
      "time for total movement:  2.2288842804878186 s\n",
      "time for total movement:  6.491046269460867 s\n",
      "time for total movement:  4.048115585362211 s\n",
      "time for total movement:  3.3663765496537508 s\n",
      "time for total movement:  2.7042789049729663 s\n",
      "time for total movement:  0.18242071174722696 s\n",
      "time for total movement:  2.72669983621995 s\n",
      "time for total movement:  8.22869853444331 s\n",
      "time for total movement:  1.548064513764757 s\n",
      "time for total movement:  0.40155083023819316 s\n",
      "time for total movement:  0.8049668890062094 s\n",
      "time for total movement:  4.431469505899258 s\n",
      "time for total movement:  4.875991371931377 s\n",
      "time for total movement:  0.08925424897120138 s\n",
      "time for total movement:  0.4221228078840795 s\n",
      "time for total movement:  1.1769226288565733 s\n",
      "time for total movement:  0.5424756476058974 s\n",
      "time for total movement:  1.2109463843778485 s\n",
      "time for total movement:  6.8241551593428085 s\n",
      "time for total movement:  2.7694759536339006 s\n",
      "time for total movement:  1.0323050905432183 s\n",
      "time for total movement:  0.2524622142583439 s\n",
      "time for total movement:  0.40579627413683284 s\n",
      "time for total movement:  5.729301561263128 s\n",
      "time for total movement:  0.4926710439319777 s\n",
      "time for total movement:  0.47975597643085166 s\n",
      "time for total movement:  0.40187723039002776 s\n",
      "time for total movement:  2.565009478395069 s\n",
      "time for total movement:  0.28799498427383696 s\n",
      "time for total movement:  3.537413965341557 s\n",
      "time for total movement:  8.34885363303465 s\n",
      "time for total movement:  4.549177899152255 s\n",
      "time for total movement:  1.4093148516799374 s\n",
      "time for total movement:  0.7409511090485239 s\n",
      "time for total movement:  4.783245679625566 s\n",
      "time for total movement:  2.841166673267253 s\n",
      "time for total movement:  1.4824452092375395 s\n",
      "time for total movement:  3.4191714368839143 s\n",
      "time for total movement:  1.383841102290944 s\n",
      "time for total movement:  2.566039765938285 s\n",
      "time for total movement:  8.646781330701288 s\n",
      "time for total movement:  4.3069057770852055 s\n",
      "minimum velocity in %/s:  11.564996982743128\n",
      "maximum velocity in %/s:  3032.083629469775\n"
     ]
    }
   ],
   "source": [
    "var_ss = []\n",
    "mean_ss = []\n",
    "# loop through all analysis2 folders for each day\n",
    "for analysis2_folder in sorted_analysis2_folders:\n",
    "\n",
    "    vs = []\n",
    "    # loop through all movements from that day\n",
    "    for movement_file in glob.glob(analysis2_folder+'movement_trial*.npy'):\n",
    "        movement_data = np.load(movement_file)\n",
    "        time = (movement_data[0, -1] - movement_data[0, 0])\n",
    "        print(\"time for total movement: \", time, \"s\")\n",
    "        vs.append(100 / time)\n",
    "\n",
    "    print(\"minimum velocity in %/s: \", np.min(vs))\n",
    "    print(\"maximum velocity in %/s: \", np.max(vs))\n",
    "    var_ss.append(np.var(vs))\n",
    "    mean_ss.append(np.mean(vs))\n",
    "    \n",
    "var_ss = np.array(var_ss)\n",
    "mean_ss = np.array(mean_ss)"
   ]
  },
  {
   "cell_type": "markdown",
   "metadata": {},
   "source": [
    "### Plot `var_ss` and `mean_ss` across days"
   ]
  },
  {
   "cell_type": "code",
   "execution_count": 8,
   "metadata": {},
   "outputs": [
    {
     "data": {
      "image/png": "[encoded data removed]",
      "text/plain": [
       "<Figure size 640x480 with 1 Axes>"
      ]
     },
     "metadata": {},
     "output_type": "display_data"
    },
    {
     "data": {
      "image/png": "[encoded data removed]",
      "text/plain": [
       "<Figure size 640x480 with 1 Axes>"
      ]
     },
     "metadata": {},
     "output_type": "display_data"
    }
   ],
   "source": [
    "plt.scatter(range(0, len(var_ss)), var_ss)\n",
    "plt.show()\n",
    "\n",
    "plt.scatter(range(0, len(mean_ss)), mean_ss)\n",
    "plt.show()"
   ]
  },
  {
   "cell_type": "markdown",
   "metadata": {},
   "source": [
    "Save `var_ss` and `mean_ss`"
   ]
  },
  {
   "cell_type": "code",
   "execution_count": 9,
   "metadata": {},
   "outputs": [],
   "source": [
    "np.save(output_folder+\"var_ss\", var_ss)\n",
    "np.save(output_folder+\"mean_ss\", mean_ss)"
   ]
  }
 ],
 "metadata": {
  "kernelspec": {
   "display_name": "Python 3",
   "language": "python",
   "name": "python3"
  },
  "language_info": {
   "codemirror_mode": {
    "name": "ipython",
    "version": 3
   },
   "file_extension": ".py",
   "mimetype": "text/x-python",
   "name": "python",
   "nbconvert_exporter": "python",
   "pygments_lexer": "ipython3",
   "version": "3.11.6"
  }
 },
 "nbformat": 4,
 "nbformat_minor": 2
}
