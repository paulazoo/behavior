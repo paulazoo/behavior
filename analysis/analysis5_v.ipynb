{
 "cells": [
  {
   "cell_type": "markdown",
   "metadata": {},
   "source": [
    "# Summary\n",
    "Find the velocity path of movements. Velocity is calculated as the difference of consecutive points."
   ]
  },
  {
   "cell_type": "markdown",
   "metadata": {},
   "source": [
    "### imports:"
   ]
  },
  {
   "cell_type": "code",
   "execution_count": 12,
   "metadata": {},
   "outputs": [],
   "source": [
    "from scipy import io\n",
    "import numpy as np\n",
    "import matplotlib.pyplot as plt\n",
    "import statistics\n",
    "import pandas as pd\n",
    "import scipy.signal as signal\n",
    "import scipy.interpolate as interpolate\n",
    "import pickle\n",
    "import glob # find files in a directory\n",
    "import re # regex for string parsing"
   ]
  },
  {
   "cell_type": "markdown",
   "metadata": {},
   "source": [
    "### set `folder_name` and `day`"
   ]
  },
  {
   "cell_type": "code",
   "execution_count": 13,
   "metadata": {},
   "outputs": [
    {
     "name": "stdout",
     "output_type": "stream",
     "text": [
      "mkdir: ./Data/AnB1/analysis5_ANB1_d1/: File exists\n"
     ]
    }
   ],
   "source": [
    "folder_name = './Data/AnB1/'\n",
    "day = 1\n",
    "lever_data_folder = \"./Data/AnB1/LeverData_ANB1_d1/\"\n",
    "lever_data_matfile = \"./Data/AnB1/LeverData_ANB1_d1.mat\"\n",
    "output_folder = \"./Data/AnB1/analysis5_ANB1_d1/\"\n",
    "analysis2_folder = \"./Data/AnB1/analysis2_ANB1_d1/\"\n",
    "!mkdir {output_folder}"
   ]
  },
  {
   "cell_type": "markdown",
   "metadata": {},
   "source": [
    "### Define a helper function to find the moving average through convolution"
   ]
  },
  {
   "cell_type": "code",
   "execution_count": 14,
   "metadata": {},
   "outputs": [],
   "source": [
    "def moving_average(fcn_values, window_length):\n",
    "    return np.convolve(fcn_values, np.ones(window_length), 'valid') / window_length"
   ]
  },
  {
   "cell_type": "markdown",
   "metadata": {},
   "source": [
    "### extract one movement's data, `movement_data`, from corresponding \"movement_trial#.npy\" file to calculate `velocity_data`\n",
    "`velocity_data`: first row is times, second row is velocity data values"
   ]
  },
  {
   "cell_type": "code",
   "execution_count": 15,
   "metadata": {},
   "outputs": [],
   "source": [
    "# loop through all movements from that day\n",
    "for movement_file in glob.glob(analysis2_folder+'movement_trial*.npy'):\n",
    "    trial_i = int(movement_file[-5])\n",
    "    movement_data = np.load(movement_file)\n",
    "\n",
    "    # the difference of consecutive points\n",
    "    velocity_data = np.zeros((movement_data.shape[0], movement_data.shape[1]-1))\n",
    "    velocity_data[0, :] = movement_data[0, 1:]\n",
    "    velocity_data[1, :] = np.diff(movement_data[1, :])\n",
    "    np.save(output_folder+'velocity_trial'+str(trial_i), velocity_data)"
   ]
  },
  {
   "cell_type": "markdown",
   "metadata": {},
   "source": [
    "### Make functions scaled from 0-100% of velocity path completion to analyze velocity path variability\n",
    "These scaled 0-100% velocity path functions are made by linearly interpolating the original data at rates above sampling rate to make an approximate continuous function throughout the path. Right now, the `num_samples` = 10*10000 for a minimum sampling rate of 10kHz since __the velocities all take less than 10s__.\n",
    "\n",
    "Save all of them together in `velocities_percent_scaled` and then into \"velocities_percent_scaled.npy\" file.\n",
    "\n",
    "`velocities_percent_scaled`: rows are individual velocities, columns are samples (so left to right is going forward in time)"
   ]
  },
  {
   "cell_type": "code",
   "execution_count": 18,
   "metadata": {},
   "outputs": [
    {
     "name": "stdout",
     "output_type": "stream",
     "text": [
      "velocities_percent_scaled shape:  (10, 100000)\n"
     ]
    }
   ],
   "source": [
    "# loop through all movements from that day\n",
    "num_samples = 10*10000\n",
    "velocities_percent_scaled = np.array([]).reshape((0, num_samples))\n",
    "for velocity_file in glob.glob(output_folder+'velocity_trial*.npy'):\n",
    "    trial_i = int(velocity_file[-5])\n",
    "    velocity_data = np.load(velocity_file)\n",
    "\n",
    "    percent_completion_x = np.linspace(0, 100, velocity_data[1,:].shape[0])\n",
    "    velocity_data_fcn = interpolate.interp1d(percent_completion_x, velocity_data[1, :], kind='linear')\n",
    "    new_x = np.linspace(0, 100, num_samples)\n",
    "    new_y = velocity_data_fcn(new_x)\n",
    "    velocities_percent_scaled = np.vstack([velocities_percent_scaled, new_y[:]])\n",
    "\n",
    "np.save(output_folder+\"velocities_percent_scaled\", velocities_percent_scaled)\n",
    "print(\"velocities_percent_scaled shape: \", velocities_percent_scaled.shape)"
   ]
  },
  {
   "cell_type": "markdown",
   "metadata": {},
   "source": [
    "### calculate the movement path variance, `var_v`, across each movement in `velocities_percent_scaled`\n",
    "axis=0 runs downwards across rows"
   ]
  },
  {
   "cell_type": "code",
   "execution_count": 19,
   "metadata": {},
   "outputs": [],
   "source": [
    "var_v=np.var(velocities_percent_scaled, axis=0)"
   ]
  },
  {
   "cell_type": "markdown",
   "metadata": {},
   "source": [
    "plot `var_p` across % movement completed"
   ]
  },
  {
   "cell_type": "code",
   "execution_count": null,
   "metadata": {},
   "outputs": [],
   "source": [
    "x_range = np.array(range(0,num_samples)) * 100 / num_samples\n",
    "plt.plot(x_range, var_p)\n",
    "plt.xlabel(\"% movement completed\")\n",
    "plt.ylabel(\"var_p of all trials in the day\")\n",
    "plt.title(\"Variance of movement paths from first to second threshold, day \"+str(day))"
   ]
  },
  {
   "cell_type": "markdown",
   "metadata": {},
   "source": []
  }
 ],
 "metadata": {
  "kernelspec": {
   "display_name": "Python 3",
   "language": "python",
   "name": "python3"
  },
  "language_info": {
   "codemirror_mode": {
    "name": "ipython",
    "version": 3
   },
   "file_extension": ".py",
   "mimetype": "text/x-python",
   "name": "python",
   "nbconvert_exporter": "python",
   "pygments_lexer": "ipython3",
   "version": "3.11.6"
  }
 },
 "nbformat": 4,
 "nbformat_minor": 2
}
