{
 "cells": [
  {
   "cell_type": "markdown",
   "metadata": {},
   "source": [
    "# Summary\n",
    "Find the velocity path of movements. Velocity is calculated as the difference of consecutive points with a moving average filter of about 5 ms (29 samples).\n",
    "\n",
    "__cutoff frequency of a moving average filter__:\n",
    "for a moving average filter, $H(w) = \\frac{1}{N} | \\frac{\\sin(wN/2)}{\\sin(w/2)} | =0.5= -3 \\text{dB}$\n",
    "\n",
    "where $w = 2\\pi \\frac{f_\\text{cutoff}}{f_\\text{sample}}$ and $N=$ num samples per window\n",
    "\n",
    "This analysis assumes foreperiod and reaction time after tone are always more than 7.5 ms."
   ]
  },
  {
   "cell_type": "markdown",
   "metadata": {},
   "source": [
    "### imports and plot settings:"
   ]
  },
  {
   "cell_type": "code",
   "execution_count": 1,
   "metadata": {},
   "outputs": [],
   "source": [
    "from scipy import io\n",
    "import numpy as np\n",
    "import matplotlib.pyplot as plt\n",
    "import statistics\n",
    "import pandas as pd\n",
    "import scipy.signal as signal\n",
    "import scipy.interpolate as interpolate\n",
    "import pickle\n",
    "import glob # find files in a directory\n",
    "import re # regex for string parsing"
   ]
  },
  {
   "cell_type": "code",
   "execution_count": 2,
   "metadata": {},
   "outputs": [],
   "source": [
    "plt.rcParams['axes.linewidth'] = 2\n",
    "plt.rcParams['font.size'] = 14\n",
    "plt.rcParams['axes.spines.right'] = False\n",
    "plt.rcParams['axes.spines.top'] = False\n",
    "plt.rcParams['xtick.major.width'] = 2\n",
    "plt.rcParams['ytick.major.width'] = 2\n",
    "plt.rcParams['figure.figsize'] = (5, 4)\n",
    "plt.rcParams[\"figure.autolayout\"] = True"
   ]
  },
  {
   "cell_type": "markdown",
   "metadata": {},
   "source": [
    "### set `folder_name` and `day`"
   ]
  },
  {
   "cell_type": "code",
   "execution_count": 3,
   "metadata": {},
   "outputs": [],
   "source": [
    "name = 'ANB1'\n",
    "session = '20231030_d5'\n",
    "trial_i_to_start = 0\n",
    "num_trials = 183"
   ]
  },
  {
   "cell_type": "code",
   "execution_count": 4,
   "metadata": {},
   "outputs": [],
   "source": [
    "tone_discriminiation_mat_file = '../Data_Copy/ToneDiscrimination/'+name+'/ToneDisc_'+name+'_'+session+'.mat'\n",
    "analysis0_folder = \"../Data_Copy/AnalysisData/\"+name+\"/analysis0_\"+name+\"_\"+session+\"/\"\n",
    "analysis2_folder = \"../Data_Copy/AnalysisData/\"+name+\"/analysis2_\"+name+\"_\"+session+\"/\"\n",
    "output_folder = \"../Data_Copy/AnalysisData/\"+name+\"/analysis5_\"+name+\"_\"+session+\"/\""
   ]
  },
  {
   "cell_type": "markdown",
   "metadata": {},
   "source": [
    "for mac:"
   ]
  },
  {
   "cell_type": "code",
   "execution_count": 5,
   "metadata": {},
   "outputs": [],
   "source": [
    "!mkdir {output_folder}"
   ]
  },
  {
   "cell_type": "markdown",
   "metadata": {},
   "source": [
    "for windows:"
   ]
  },
  {
   "cell_type": "code",
   "execution_count": 6,
   "metadata": {},
   "outputs": [
    {
     "name": "stdout",
     "output_type": "stream",
     "text": [
      "mkdir: ../Data_Copy/AnalysisData/ANB1/analysis5_ANB1_20231030_d5/: File exists\n"
     ]
    }
   ],
   "source": [
    "!mkdir \"{output_folder}\""
   ]
  },
  {
   "cell_type": "markdown",
   "metadata": {},
   "source": [
    "### Define a helper function to find the moving average through convolution"
   ]
  },
  {
   "cell_type": "code",
   "execution_count": 7,
   "metadata": {},
   "outputs": [],
   "source": [
    "def moving_average(fcn_values, window_length):\n",
    "    return np.convolve(fcn_values, np.ones(window_length), 'valid') / window_length"
   ]
  },
  {
   "cell_type": "markdown",
   "metadata": {},
   "source": [
    "### extract one movement's data, `movement_data`, from corresponding \"movement_trial#.npy\" file to calculate `velocity_data`\n",
    "`velocity_data`: first row is times, second row is velocity data values"
   ]
  },
  {
   "cell_type": "code",
   "execution_count": 8,
   "metadata": {},
   "outputs": [],
   "source": [
    "# loop through all movements from that day\n",
    "for buffered_movement_file in glob.glob(analysis2_folder+'buffered_movement_trial*.npy'):\n",
    "    trial_i = int(re.search(r\"(?<=trial).+?(?=\\.npy)\", buffered_movement_file).group())\n",
    "    buffered_movement_data = np.load(buffered_movement_file)\n",
    "\n",
    "    # the difference of consecutive points\n",
    "    buffered_velocity_data = np.zeros((buffered_movement_data.shape[0], buffered_movement_data.shape[1]-1))\n",
    "    buffered_velocity_data[0, :] = buffered_movement_data[0, 1:]\n",
    "    buffered_velocity_data[1, :] = np.diff(buffered_movement_data[1, :])\n",
    "    np.save(output_folder+'buffered_velocity_trial'+str(trial_i), buffered_velocity_data)"
   ]
  },
  {
   "cell_type": "markdown",
   "metadata": {},
   "source": [
    "### Get velocity moving averages from an ~5 ms window (about 29 samples)\n",
    "\n",
    "for a moving average filter, $\\frac{1}{N} | \\frac{\\sin(wN/2)}{\\sin(w/2)} | =0.5= -3 \\text{dB}$\n",
    "\n",
    "where\n",
    "\n",
    "$w = 2\\pi \\frac{f_\\text{cutoff}}{f_\\text{sample}}$\n",
    "\n",
    "$N=$ num samples per window\n"
   ]
  },
  {
   "cell_type": "code",
   "execution_count": 9,
   "metadata": {},
   "outputs": [
    {
     "data": {
      "text/plain": [
       "0.5037091144465476"
      ]
     },
     "execution_count": 9,
     "metadata": {},
     "output_type": "execute_result"
    }
   ],
   "source": [
    "N = 29\n",
    "w = 2 * np.pi * (122/5888)\n",
    "(1/N) * np.abs(np.sin(w*N/2)/np.sin(w/2))"
   ]
  },
  {
   "cell_type": "markdown",
   "metadata": {},
   "source": [
    "So a window of 29 (aiming for ~5 ms given around 5888 Hz sampling frequency) approximately gives a cutoff frequency of about 122 Hz."
   ]
  },
  {
   "cell_type": "code",
   "execution_count": 10,
   "metadata": {},
   "outputs": [],
   "source": [
    "# loop through all movements from that day\n",
    "num_samples = 10*10000\n",
    "velocities_percent_scaled = np.array([]).reshape((0, num_samples))\n",
    "for buffered_velocity_file in glob.glob(output_folder+'buffered_velocity_trial*.npy'):\n",
    "    trial_i = int(re.search(r\"(?<=trial).+?(?=\\.npy)\", buffered_velocity_file).group())\n",
    "    buffered_velocity_data = np.load(buffered_velocity_file)\n",
    "\n",
    "    # Read the binary file created by the C++ program which is saved as double\n",
    "    trial_frequencies = np.fromfile(analysis0_folder+\"trial_frequencies.bin\", dtype=np.double)\n",
    "    fs = trial_frequencies[trial_i]\n",
    "\n",
    "    filtered = moving_average(buffered_velocity_data[1,:], 29)\n",
    "    # get the moving average\n",
    "    buffered_velocity_ma=np.vstack([buffered_velocity_data[0, 14:-14], filtered])\n",
    "    np.save(output_folder+'buffered_velocity_ma_trial'+str(trial_i), buffered_velocity_ma)"
   ]
  },
  {
   "cell_type": "markdown",
   "metadata": {},
   "source": [
    "### Make functions scaled from 0-100% of velocity path completion to analyze velocity path variability\n",
    "These scaled 0-100% velocity path functions are made by linearly interpolating the original data at rates above sampling rate to make an approximate continuous function throughout the path. Right now, the `num_samples` = 10*10000 for a minimum sampling rate of 10kHz since __the velocities all take less than 10s__.\n",
    "\n",
    "Save all of them together in `velocities_percent_scaled` and then into \"velocities_percent_scaled.npy\" file.\n",
    "\n",
    "`velocities_percent_scaled`: rows are individual velocities, columns are samples (so left to right is going forward in time)"
   ]
  },
  {
   "cell_type": "code",
   "execution_count": 11,
   "metadata": {},
   "outputs": [],
   "source": [
    "# loop through all movements from that day\n",
    "num_samples = 10*10000\n",
    "velocities_percent_scaled = np.array([]).reshape((0, num_samples))\n",
    "for velocity_ma_file in glob.glob(output_folder+'buffered_velocity_ma_trial*.npy'):\n",
    "    trial_i = int(re.search(r\"(?<=trial).+?(?=\\.npy)\", velocity_ma_file).group())\n",
    "    velocity_ma = np.load(velocity_ma_file)\n",
    "    velocity_ma=velocity_ma[:, 300-14:-300+14]\n",
    "\n",
    "    percent_completion_x = np.linspace(0, 100, velocity_ma.shape[1])\n",
    "    velocity_fcn = interpolate.interp1d(percent_completion_x, velocity_ma[1, :], kind='linear')\n",
    "    new_x = np.linspace(0, 100, num_samples)\n",
    "    new_y = velocity_fcn(new_x)\n",
    "    velocities_percent_scaled = np.vstack([velocities_percent_scaled, new_y[:]])"
   ]
  },
  {
   "cell_type": "markdown",
   "metadata": {},
   "source": [
    "### plot the mean velocity, `mean_v`, across each movement in `velocities_percent_scaled` across % movement completed\n",
    "axis=0 runs downwards across rows"
   ]
  },
  {
   "cell_type": "code",
   "execution_count": 12,
   "metadata": {},
   "outputs": [
    {
     "ename": "SyntaxError",
     "evalue": "invalid syntax. Perhaps you forgot a comma? (3775228550.py, line 10)",
     "output_type": "error",
     "traceback": [
      "\u001b[0;36m  Cell \u001b[0;32mIn[12], line 10\u001b[0;36m\u001b[0m\n\u001b[0;31m    plt.title(\"Mean velocity (5 ms moving avg) \\nfrom first to third threshold \\n\"session)\u001b[0m\n\u001b[0m              ^\u001b[0m\n\u001b[0;31mSyntaxError\u001b[0m\u001b[0;31m:\u001b[0m invalid syntax. Perhaps you forgot a comma?\n"
     ]
    }
   ],
   "source": [
    "mean_v=np.mean(velocities_percent_scaled, axis=0)\n",
    "var_v=np.var(velocities_percent_scaled, axis=0)\n",
    "\n",
    "x_range = np.array(range(0,num_samples)) * 100 / num_samples\n",
    "plt.errorbar(x_range, mean_v, yerr=np.sqrt(var_v), label=\"std\", zorder = 1)\n",
    "plt.errorbar(x_range, mean_v, yerr=np.sqrt(var_v / len(glob.glob(output_folder+'buffered_velocity_ma_trial*.npy'))), label=\"std error of the mean\", zorder = 2)\n",
    "plt.plot(x_range, mean_v, label=\"mean velocity\", zorder = 3)\n",
    "plt.xlabel(\"% movement completed\")\n",
    "plt.ylabel(\"avg velocity of all trials in the day\")\n",
    "plt.title(\"Mean velocity (5 ms moving avg) \\nfrom first to third threshold \\n\"session)\n",
    "plt.legend()\n",
    "plt.show()"
   ]
  }
 ],
 "metadata": {
  "kernelspec": {
   "display_name": "Python 3",
   "language": "python",
   "name": "python3"
  },
  "language_info": {
   "codemirror_mode": {
    "name": "ipython",
    "version": 3
   },
   "file_extension": ".py",
   "mimetype": "text/x-python",
   "name": "python",
   "nbconvert_exporter": "python",
   "pygments_lexer": "ipython3",
   "version": "3.11.6"
  }
 },
 "nbformat": 4,
 "nbformat_minor": 2
}
